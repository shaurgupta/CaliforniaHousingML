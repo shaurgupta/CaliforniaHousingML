{
  "nbformat": 4,
  "nbformat_minor": 0,
  "metadata": {
    "colab": {
      "name": "DataAnalyticsAssignmentDA.ipynb",
      "provenance": [],
      "collapsed_sections": []
    },
    "kernelspec": {
      "name": "python3",
      "display_name": "Python 3"
    }
  },
  "cells": [
    {
      "cell_type": "markdown",
      "metadata": {
        "id": "K_OYzB0_jLrX"
      },
      "source": [
        "**Name: Shaurya Gupta**\n",
        "\n",
        "**Reg. No: 18BLC1092**\n",
        "\n",
        "**Course: Data analytics and visualisation**\n",
        "\n",
        "***Digital Assignment***"
      ]
    },
    {
      "cell_type": "markdown",
      "metadata": {
        "id": "irN8xic4jvNj"
      },
      "source": [
        "We will we be using the Linear Regression model and california housing dataset to compare the working in pyspark and sklearn."
      ]
    },
    {
      "cell_type": "code",
      "metadata": {
        "id": "oiI_7fJqnGwX",
        "outputId": "e19694ee-50f2-4eab-d607-6244357313dd",
        "colab": {
          "base_uri": "https://localhost:8080/",
          "height": 34
        }
      },
      "source": [
        "!python --version"
      ],
      "execution_count": null,
      "outputs": [
        {
          "output_type": "stream",
          "text": [
            "Python 3.6.9\n"
          ],
          "name": "stdout"
        }
      ]
    },
    {
      "cell_type": "markdown",
      "metadata": {
        "id": "jifFglfwyAbx"
      },
      "source": [
        "# **Downloading Pyspark**\n",
        "Spark version 3.0.1 is used for the following implementation."
      ]
    },
    {
      "cell_type": "code",
      "metadata": {
        "id": "nV2jTSAEnmkq",
        "outputId": "039d88e8-7853-45da-a523-ea789be956ee",
        "colab": {
          "base_uri": "https://localhost:8080/",
          "height": 221
        }
      },
      "source": [
        "!pwd\n",
        "!wget https://mirrors.estointernet.in/apache/spark/spark-3.0.1/spark-3.0.1-bin-hadoop2.7.tgz"
      ],
      "execution_count": null,
      "outputs": [
        {
          "output_type": "stream",
          "text": [
            "/content\n",
            "--2020-10-25 15:59:43--  https://mirrors.estointernet.in/apache/spark/spark-3.0.1/spark-3.0.1-bin-hadoop2.7.tgz\n",
            "Resolving mirrors.estointernet.in (mirrors.estointernet.in)... 43.255.166.254, 2403:8940:3:1::f\n",
            "Connecting to mirrors.estointernet.in (mirrors.estointernet.in)|43.255.166.254|:443... connected.\n",
            "HTTP request sent, awaiting response... 200 OK\n",
            "Length: 219929956 (210M) [application/octet-stream]\n",
            "Saving to: ‘spark-3.0.1-bin-hadoop2.7.tgz’\n",
            "\n",
            "spark-3.0.1-bin-had 100%[===================>] 209.74M  8.00MB/s    in 27s     \n",
            "\n",
            "2020-10-25 16:00:12 (7.71 MB/s) - ‘spark-3.0.1-bin-hadoop2.7.tgz’ saved [219929956/219929956]\n",
            "\n"
          ],
          "name": "stdout"
        }
      ]
    },
    {
      "cell_type": "code",
      "metadata": {
        "id": "SWuT6rt7oAgv",
        "outputId": "841428fa-7acb-4128-ca2a-c5ae003ef804",
        "colab": {
          "base_uri": "https://localhost:8080/",
          "height": 1000
        }
      },
      "source": [
        "!tar xvzf spark-3.0.1-bin-hadoop2.7.tgz"
      ],
      "execution_count": null,
      "outputs": [
        {
          "output_type": "stream",
          "text": [
            "spark-3.0.1-bin-hadoop2.7/\n",
            "spark-3.0.1-bin-hadoop2.7/RELEASE\n",
            "spark-3.0.1-bin-hadoop2.7/examples/\n",
            "spark-3.0.1-bin-hadoop2.7/examples/src/\n",
            "spark-3.0.1-bin-hadoop2.7/examples/src/main/\n",
            "spark-3.0.1-bin-hadoop2.7/examples/src/main/scala/\n",
            "spark-3.0.1-bin-hadoop2.7/examples/src/main/scala/org/\n",
            "spark-3.0.1-bin-hadoop2.7/examples/src/main/scala/org/apache/\n",
            "spark-3.0.1-bin-hadoop2.7/examples/src/main/scala/org/apache/spark/\n",
            "spark-3.0.1-bin-hadoop2.7/examples/src/main/scala/org/apache/spark/examples/\n",
            "spark-3.0.1-bin-hadoop2.7/examples/src/main/scala/org/apache/spark/examples/ml/\n",
            "spark-3.0.1-bin-hadoop2.7/examples/src/main/scala/org/apache/spark/examples/ml/FPGrowthExample.scala\n",
            "spark-3.0.1-bin-hadoop2.7/examples/src/main/scala/org/apache/spark/examples/ml/GBTExample.scala\n",
            "spark-3.0.1-bin-hadoop2.7/examples/src/main/scala/org/apache/spark/examples/ml/ALSExample.scala\n",
            "spark-3.0.1-bin-hadoop2.7/examples/src/main/scala/org/apache/spark/examples/ml/KMeansExample.scala\n",
            "spark-3.0.1-bin-hadoop2.7/examples/src/main/scala/org/apache/spark/examples/ml/DecisionTreeExample.scala\n",
            "spark-3.0.1-bin-hadoop2.7/examples/src/main/scala/org/apache/spark/examples/ml/LogisticRegressionSummaryExample.scala\n",
            "spark-3.0.1-bin-hadoop2.7/examples/src/main/scala/org/apache/spark/examples/ml/TokenizerExample.scala\n",
            "spark-3.0.1-bin-hadoop2.7/examples/src/main/scala/org/apache/spark/examples/ml/UnaryTransformerExample.scala\n",
            "spark-3.0.1-bin-hadoop2.7/examples/src/main/scala/org/apache/spark/examples/ml/Word2VecExample.scala\n",
            "spark-3.0.1-bin-hadoop2.7/examples/src/main/scala/org/apache/spark/examples/ml/LinearSVCExample.scala\n",
            "spark-3.0.1-bin-hadoop2.7/examples/src/main/scala/org/apache/spark/examples/ml/CorrelationExample.scala\n",
            "spark-3.0.1-bin-hadoop2.7/examples/src/main/scala/org/apache/spark/examples/ml/BucketizerExample.scala\n",
            "spark-3.0.1-bin-hadoop2.7/examples/src/main/scala/org/apache/spark/examples/ml/ImputerExample.scala\n",
            "spark-3.0.1-bin-hadoop2.7/examples/src/main/scala/org/apache/spark/examples/ml/StringIndexerExample.scala\n",
            "spark-3.0.1-bin-hadoop2.7/examples/src/main/scala/org/apache/spark/examples/ml/NGramExample.scala\n",
            "spark-3.0.1-bin-hadoop2.7/examples/src/main/scala/org/apache/spark/examples/ml/IsotonicRegressionExample.scala\n",
            "spark-3.0.1-bin-hadoop2.7/examples/src/main/scala/org/apache/spark/examples/ml/DecisionTreeRegressionExample.scala\n",
            "spark-3.0.1-bin-hadoop2.7/examples/src/main/scala/org/apache/spark/examples/ml/OneHotEncoderExample.scala\n",
            "spark-3.0.1-bin-hadoop2.7/examples/src/main/scala/org/apache/spark/examples/ml/ChiSquareTestExample.scala\n",
            "spark-3.0.1-bin-hadoop2.7/examples/src/main/scala/org/apache/spark/examples/ml/PCAExample.scala\n",
            "spark-3.0.1-bin-hadoop2.7/examples/src/main/scala/org/apache/spark/examples/ml/StopWordsRemoverExample.scala\n",
            "spark-3.0.1-bin-hadoop2.7/examples/src/main/scala/org/apache/spark/examples/ml/DeveloperApiExample.scala\n",
            "spark-3.0.1-bin-hadoop2.7/examples/src/main/scala/org/apache/spark/examples/ml/LDAExample.scala\n",
            "spark-3.0.1-bin-hadoop2.7/examples/src/main/scala/org/apache/spark/examples/ml/StandardScalerExample.scala\n",
            "spark-3.0.1-bin-hadoop2.7/examples/src/main/scala/org/apache/spark/examples/ml/GradientBoostedTreeRegressorExample.scala\n",
            "spark-3.0.1-bin-hadoop2.7/examples/src/main/scala/org/apache/spark/examples/ml/RFormulaExample.scala\n",
            "spark-3.0.1-bin-hadoop2.7/examples/src/main/scala/org/apache/spark/examples/ml/MultilayerPerceptronClassifierExample.scala\n",
            "spark-3.0.1-bin-hadoop2.7/examples/src/main/scala/org/apache/spark/examples/ml/RandomForestRegressorExample.scala\n",
            "spark-3.0.1-bin-hadoop2.7/examples/src/main/scala/org/apache/spark/examples/ml/OneVsRestExample.scala\n",
            "spark-3.0.1-bin-hadoop2.7/examples/src/main/scala/org/apache/spark/examples/ml/PolynomialExpansionExample.scala\n",
            "spark-3.0.1-bin-hadoop2.7/examples/src/main/scala/org/apache/spark/examples/ml/ChiSqSelectorExample.scala\n",
            "spark-3.0.1-bin-hadoop2.7/examples/src/main/scala/org/apache/spark/examples/ml/MinMaxScalerExample.scala\n",
            "spark-3.0.1-bin-hadoop2.7/examples/src/main/scala/org/apache/spark/examples/ml/RobustScalerExample.scala\n",
            "spark-3.0.1-bin-hadoop2.7/examples/src/main/scala/org/apache/spark/examples/ml/FeatureHasherExample.scala\n",
            "spark-3.0.1-bin-hadoop2.7/examples/src/main/scala/org/apache/spark/examples/ml/LogisticRegressionWithElasticNetExample.scala\n",
            "spark-3.0.1-bin-hadoop2.7/examples/src/main/scala/org/apache/spark/examples/ml/FMClassifierExample.scala\n",
            "spark-3.0.1-bin-hadoop2.7/examples/src/main/scala/org/apache/spark/examples/ml/IndexToStringExample.scala\n",
            "spark-3.0.1-bin-hadoop2.7/examples/src/main/scala/org/apache/spark/examples/ml/LinearRegressionWithElasticNetExample.scala\n",
            "spark-3.0.1-bin-hadoop2.7/examples/src/main/scala/org/apache/spark/examples/ml/GeneralizedLinearRegressionExample.scala\n",
            "spark-3.0.1-bin-hadoop2.7/examples/src/main/scala/org/apache/spark/examples/ml/RandomForestExample.scala\n",
            "spark-3.0.1-bin-hadoop2.7/examples/src/main/scala/org/apache/spark/examples/ml/BucketedRandomProjectionLSHExample.scala\n",
            "spark-3.0.1-bin-hadoop2.7/examples/src/main/scala/org/apache/spark/examples/ml/LinearRegressionExample.scala\n",
            "spark-3.0.1-bin-hadoop2.7/examples/src/main/scala/org/apache/spark/examples/ml/BisectingKMeansExample.scala\n",
            "spark-3.0.1-bin-hadoop2.7/examples/src/main/scala/org/apache/spark/examples/ml/MinHashLSHExample.scala\n",
            "spark-3.0.1-bin-hadoop2.7/examples/src/main/scala/org/apache/spark/examples/ml/RandomForestClassifierExample.scala\n",
            "spark-3.0.1-bin-hadoop2.7/examples/src/main/scala/org/apache/spark/examples/ml/GradientBoostedTreeClassifierExample.scala\n",
            "spark-3.0.1-bin-hadoop2.7/examples/src/main/scala/org/apache/spark/examples/ml/LogisticRegressionExample.scala\n",
            "spark-3.0.1-bin-hadoop2.7/examples/src/main/scala/org/apache/spark/examples/ml/PowerIterationClusteringExample.scala\n",
            "spark-3.0.1-bin-hadoop2.7/examples/src/main/scala/org/apache/spark/examples/ml/CountVectorizerExample.scala\n",
            "spark-3.0.1-bin-hadoop2.7/examples/src/main/scala/org/apache/spark/examples/ml/TfIdfExample.scala\n",
            "spark-3.0.1-bin-hadoop2.7/examples/src/main/scala/org/apache/spark/examples/ml/VectorSlicerExample.scala\n",
            "spark-3.0.1-bin-hadoop2.7/examples/src/main/scala/org/apache/spark/examples/ml/MulticlassLogisticRegressionWithElasticNetExample.scala\n",
            "spark-3.0.1-bin-hadoop2.7/examples/src/main/scala/org/apache/spark/examples/ml/MaxAbsScalerExample.scala\n",
            "spark-3.0.1-bin-hadoop2.7/examples/src/main/scala/org/apache/spark/examples/ml/BinarizerExample.scala\n",
            "spark-3.0.1-bin-hadoop2.7/examples/src/main/scala/org/apache/spark/examples/ml/DataFrameExample.scala\n",
            "spark-3.0.1-bin-hadoop2.7/examples/src/main/scala/org/apache/spark/examples/ml/InteractionExample.scala\n",
            "spark-3.0.1-bin-hadoop2.7/examples/src/main/scala/org/apache/spark/examples/ml/VectorIndexerExample.scala\n",
            "spark-3.0.1-bin-hadoop2.7/examples/src/main/scala/org/apache/spark/examples/ml/ModelSelectionViaCrossValidationExample.scala\n",
            "spark-3.0.1-bin-hadoop2.7/examples/src/main/scala/org/apache/spark/examples/ml/EstimatorTransformerParamExample.scala\n",
            "spark-3.0.1-bin-hadoop2.7/examples/src/main/scala/org/apache/spark/examples/ml/PipelineExample.scala\n",
            "spark-3.0.1-bin-hadoop2.7/examples/src/main/scala/org/apache/spark/examples/ml/NaiveBayesExample.scala\n",
            "spark-3.0.1-bin-hadoop2.7/examples/src/main/scala/org/apache/spark/examples/ml/VectorSizeHintExample.scala\n",
            "spark-3.0.1-bin-hadoop2.7/examples/src/main/scala/org/apache/spark/examples/ml/PrefixSpanExample.scala\n",
            "spark-3.0.1-bin-hadoop2.7/examples/src/main/scala/org/apache/spark/examples/ml/SQLTransformerExample.scala\n",
            "spark-3.0.1-bin-hadoop2.7/examples/src/main/scala/org/apache/spark/examples/ml/SummarizerExample.scala\n",
            "spark-3.0.1-bin-hadoop2.7/examples/src/main/scala/org/apache/spark/examples/ml/DCTExample.scala\n",
            "spark-3.0.1-bin-hadoop2.7/examples/src/main/scala/org/apache/spark/examples/ml/AFTSurvivalRegressionExample.scala\n",
            "spark-3.0.1-bin-hadoop2.7/examples/src/main/scala/org/apache/spark/examples/ml/ModelSelectionViaTrainValidationSplitExample.scala\n",
            "spark-3.0.1-bin-hadoop2.7/examples/src/main/scala/org/apache/spark/examples/ml/DecisionTreeClassificationExample.scala\n",
            "spark-3.0.1-bin-hadoop2.7/examples/src/main/scala/org/apache/spark/examples/ml/QuantileDiscretizerExample.scala\n",
            "spark-3.0.1-bin-hadoop2.7/examples/src/main/scala/org/apache/spark/examples/ml/NormalizerExample.scala\n",
            "spark-3.0.1-bin-hadoop2.7/examples/src/main/scala/org/apache/spark/examples/ml/FMRegressorExample.scala\n",
            "spark-3.0.1-bin-hadoop2.7/examples/src/main/scala/org/apache/spark/examples/ml/VectorAssemblerExample.scala\n",
            "spark-3.0.1-bin-hadoop2.7/examples/src/main/scala/org/apache/spark/examples/ml/ElementwiseProductExample.scala\n",
            "spark-3.0.1-bin-hadoop2.7/examples/src/main/scala/org/apache/spark/examples/ml/GaussianMixtureExample.scala\n",
            "spark-3.0.1-bin-hadoop2.7/examples/src/main/scala/org/apache/spark/examples/SkewedGroupByTest.scala\n",
            "spark-3.0.1-bin-hadoop2.7/examples/src/main/scala/org/apache/spark/examples/SparkALS.scala\n",
            "spark-3.0.1-bin-hadoop2.7/examples/src/main/scala/org/apache/spark/examples/mllib/\n",
            "spark-3.0.1-bin-hadoop2.7/examples/src/main/scala/org/apache/spark/examples/mllib/HypothesisTestingExample.scala\n",
            "spark-3.0.1-bin-hadoop2.7/examples/src/main/scala/org/apache/spark/examples/mllib/KernelDensityEstimationExample.scala\n",
            "spark-3.0.1-bin-hadoop2.7/examples/src/main/scala/org/apache/spark/examples/mllib/FPGrowthExample.scala\n",
            "spark-3.0.1-bin-hadoop2.7/examples/src/main/scala/org/apache/spark/examples/mllib/LBFGSExample.scala\n",
            "spark-3.0.1-bin-hadoop2.7/examples/src/main/scala/org/apache/spark/examples/mllib/SVDExample.scala\n",
            "spark-3.0.1-bin-hadoop2.7/examples/src/main/scala/org/apache/spark/examples/mllib/KMeansExample.scala\n",
            "spark-3.0.1-bin-hadoop2.7/examples/src/main/scala/org/apache/spark/examples/mllib/Word2VecExample.scala\n",
            "spark-3.0.1-bin-hadoop2.7/examples/src/main/scala/org/apache/spark/examples/mllib/StratifiedSamplingExample.scala\n",
            "spark-3.0.1-bin-hadoop2.7/examples/src/main/scala/org/apache/spark/examples/mllib/LogisticRegressionWithLBFGSExample.scala\n",
            "spark-3.0.1-bin-hadoop2.7/examples/src/main/scala/org/apache/spark/examples/mllib/IsotonicRegressionExample.scala\n",
            "spark-3.0.1-bin-hadoop2.7/examples/src/main/scala/org/apache/spark/examples/mllib/RandomRDDGeneration.scala\n",
            "spark-3.0.1-bin-hadoop2.7/examples/src/main/scala/org/apache/spark/examples/mllib/DecisionTreeRegressionExample.scala\n",
            "spark-3.0.1-bin-hadoop2.7/examples/src/main/scala/org/apache/spark/examples/mllib/SummaryStatisticsExample.scala\n",
            "spark-3.0.1-bin-hadoop2.7/examples/src/main/scala/org/apache/spark/examples/mllib/StreamingTestExample.scala\n",
            "spark-3.0.1-bin-hadoop2.7/examples/src/main/scala/org/apache/spark/examples/mllib/PMMLModelExportExample.scala\n",
            "spark-3.0.1-bin-hadoop2.7/examples/src/main/scala/org/apache/spark/examples/mllib/BinaryClassificationMetricsExample.scala\n",
            "spark-3.0.1-bin-hadoop2.7/examples/src/main/scala/org/apache/spark/examples/mllib/MulticlassMetricsExample.scala\n",
            "spark-3.0.1-bin-hadoop2.7/examples/src/main/scala/org/apache/spark/examples/mllib/LDAExample.scala\n",
            "spark-3.0.1-bin-hadoop2.7/examples/src/main/scala/org/apache/spark/examples/mllib/StreamingKMeansExample.scala\n",
            "spark-3.0.1-bin-hadoop2.7/examples/src/main/scala/org/apache/spark/examples/mllib/StandardScalerExample.scala\n",
            "spark-3.0.1-bin-hadoop2.7/examples/src/main/scala/org/apache/spark/examples/mllib/SimpleFPGrowth.scala\n",
            "spark-3.0.1-bin-hadoop2.7/examples/src/main/scala/org/apache/spark/examples/mllib/PCAOnRowMatrixExample.scala\n",
            "spark-3.0.1-bin-hadoop2.7/examples/src/main/scala/org/apache/spark/examples/mllib/Correlations.scala\n",
            "spark-3.0.1-bin-hadoop2.7/examples/src/main/scala/org/apache/spark/examples/mllib/ChiSqSelectorExample.scala\n",
            "spark-3.0.1-bin-hadoop2.7/examples/src/main/scala/org/apache/spark/examples/mllib/SparseNaiveBayes.scala\n",
            "spark-3.0.1-bin-hadoop2.7/examples/src/main/scala/org/apache/spark/examples/mllib/StreamingLinearRegressionExample.scala\n",
            "spark-3.0.1-bin-hadoop2.7/examples/src/main/scala/org/apache/spark/examples/mllib/SVMWithSGDExample.scala\n",
            "spark-3.0.1-bin-hadoop2.7/examples/src/main/scala/org/apache/spark/examples/mllib/MultivariateSummarizer.scala\n",
            "spark-3.0.1-bin-hadoop2.7/examples/src/main/scala/org/apache/spark/examples/mllib/TallSkinnySVD.scala\n",
            "spark-3.0.1-bin-hadoop2.7/examples/src/main/scala/org/apache/spark/examples/mllib/TFIDFExample.scala\n",
            "spark-3.0.1-bin-hadoop2.7/examples/src/main/scala/org/apache/spark/examples/mllib/GradientBoostedTreesRunner.scala\n",
            "spark-3.0.1-bin-hadoop2.7/examples/src/main/scala/org/apache/spark/examples/mllib/MovieLensALS.scala\n",
            "spark-3.0.1-bin-hadoop2.7/examples/src/main/scala/org/apache/spark/examples/mllib/PCAOnSourceVectorExample.scala\n",
            "spark-3.0.1-bin-hadoop2.7/examples/src/main/scala/org/apache/spark/examples/mllib/MultiLabelMetricsExample.scala\n",
            "spark-3.0.1-bin-hadoop2.7/examples/src/main/scala/org/apache/spark/examples/mllib/RecommendationExample.scala\n",
            "spark-3.0.1-bin-hadoop2.7/examples/src/main/scala/org/apache/spark/examples/mllib/BisectingKMeansExample.scala\n",
            "spark-3.0.1-bin-hadoop2.7/examples/src/main/scala/org/apache/spark/examples/mllib/GradientBoostingClassificationExample.scala\n",
            "spark-3.0.1-bin-hadoop2.7/examples/src/main/scala/org/apache/spark/examples/mllib/PowerIterationClusteringExample.scala\n",
            "spark-3.0.1-bin-hadoop2.7/examples/src/main/scala/org/apache/spark/examples/mllib/LatentDirichletAllocationExample.scala\n",
            "spark-3.0.1-bin-hadoop2.7/examples/src/main/scala/org/apache/spark/examples/mllib/RankingMetricsExample.scala\n",
            "spark-3.0.1-bin-hadoop2.7/examples/src/main/scala/org/apache/spark/examples/mllib/DenseKMeans.scala\n",
            "spark-3.0.1-bin-hadoop2.7/examples/src/main/scala/org/apache/spark/examples/mllib/RandomForestClassificationExample.scala\n",
            "spark-3.0.1-bin-hadoop2.7/examples/src/main/scala/org/apache/spark/examples/mllib/TallSkinnyPCA.scala\n",
            "spark-3.0.1-bin-hadoop2.7/examples/src/main/scala/org/apache/spark/examples/mllib/AbstractParams.scala\n",
            "spark-3.0.1-bin-hadoop2.7/examples/src/main/scala/org/apache/spark/examples/mllib/NaiveBayesExample.scala\n",
            "spark-3.0.1-bin-hadoop2.7/examples/src/main/scala/org/apache/spark/examples/mllib/PrefixSpanExample.scala\n",
            "spark-3.0.1-bin-hadoop2.7/examples/src/main/scala/org/apache/spark/examples/mllib/GradientBoostingRegressionExample.scala\n",
            "spark-3.0.1-bin-hadoop2.7/examples/src/main/scala/org/apache/spark/examples/mllib/DecisionTreeRunner.scala\n",
            "spark-3.0.1-bin-hadoop2.7/examples/src/main/scala/org/apache/spark/examples/mllib/StreamingLogisticRegression.scala\n",
            "spark-3.0.1-bin-hadoop2.7/examples/src/main/scala/org/apache/spark/examples/mllib/HypothesisTestingKolmogorovSmirnovTestExample.scala\n",
            "spark-3.0.1-bin-hadoop2.7/examples/src/main/scala/org/apache/spark/examples/mllib/BinaryClassification.scala\n",
            "spark-3.0.1-bin-hadoop2.7/examples/src/main/scala/org/apache/spark/examples/mllib/DecisionTreeClassificationExample.scala\n",
            "spark-3.0.1-bin-hadoop2.7/examples/src/main/scala/org/apache/spark/examples/mllib/SampledRDDs.scala\n",
            "spark-3.0.1-bin-hadoop2.7/examples/src/main/scala/org/apache/spark/examples/mllib/AssociationRulesExample.scala\n",
            "spark-3.0.1-bin-hadoop2.7/examples/src/main/scala/org/apache/spark/examples/mllib/CosineSimilarity.scala\n",
            "spark-3.0.1-bin-hadoop2.7/examples/src/main/scala/org/apache/spark/examples/mllib/RandomForestRegressionExample.scala\n",
            "spark-3.0.1-bin-hadoop2.7/examples/src/main/scala/org/apache/spark/examples/mllib/CorrelationsExample.scala\n",
            "spark-3.0.1-bin-hadoop2.7/examples/src/main/scala/org/apache/spark/examples/mllib/NormalizerExample.scala\n",
            "spark-3.0.1-bin-hadoop2.7/examples/src/main/scala/org/apache/spark/examples/mllib/ElementwiseProductExample.scala\n",
            "spark-3.0.1-bin-hadoop2.7/examples/src/main/scala/org/apache/spark/examples/mllib/GaussianMixtureExample.scala\n",
            "spark-3.0.1-bin-hadoop2.7/examples/src/main/scala/org/apache/spark/examples/ExceptionHandlingTest.scala\n",
            "spark-3.0.1-bin-hadoop2.7/examples/src/main/scala/org/apache/spark/examples/BroadcastTest.scala\n",
            "spark-3.0.1-bin-hadoop2.7/examples/src/main/scala/org/apache/spark/examples/HdfsTest.scala\n",
            "spark-3.0.1-bin-hadoop2.7/examples/src/main/scala/org/apache/spark/examples/SparkHdfsLR.scala\n",
            "spark-3.0.1-bin-hadoop2.7/examples/src/main/scala/org/apache/spark/examples/streaming/\n",
            "spark-3.0.1-bin-hadoop2.7/examples/src/main/scala/org/apache/spark/examples/streaming/SqlNetworkWordCount.scala\n",
            "spark-3.0.1-bin-hadoop2.7/examples/src/main/scala/org/apache/spark/examples/streaming/QueueStream.scala\n",
            "spark-3.0.1-bin-hadoop2.7/examples/src/main/scala/org/apache/spark/examples/streaming/RawNetworkGrep.scala\n",
            "spark-3.0.1-bin-hadoop2.7/examples/src/main/scala/org/apache/spark/examples/streaming/DirectKafkaWordCount.scala\n",
            "spark-3.0.1-bin-hadoop2.7/examples/src/main/scala/org/apache/spark/examples/streaming/StatefulNetworkWordCount.scala\n",
            "spark-3.0.1-bin-hadoop2.7/examples/src/main/scala/org/apache/spark/examples/streaming/DirectKerberizedKafkaWordCount.scala\n",
            "spark-3.0.1-bin-hadoop2.7/examples/src/main/scala/org/apache/spark/examples/streaming/HdfsWordCount.scala\n",
            "spark-3.0.1-bin-hadoop2.7/examples/src/main/scala/org/apache/spark/examples/streaming/CustomReceiver.scala\n",
            "spark-3.0.1-bin-hadoop2.7/examples/src/main/scala/org/apache/spark/examples/streaming/StreamingExamples.scala\n",
            "spark-3.0.1-bin-hadoop2.7/examples/src/main/scala/org/apache/spark/examples/streaming/clickstream/\n",
            "spark-3.0.1-bin-hadoop2.7/examples/src/main/scala/org/apache/spark/examples/streaming/clickstream/PageViewStream.scala\n",
            "spark-3.0.1-bin-hadoop2.7/examples/src/main/scala/org/apache/spark/examples/streaming/clickstream/PageViewGenerator.scala\n",
            "spark-3.0.1-bin-hadoop2.7/examples/src/main/scala/org/apache/spark/examples/streaming/RecoverableNetworkWordCount.scala\n",
            "spark-3.0.1-bin-hadoop2.7/examples/src/main/scala/org/apache/spark/examples/streaming/NetworkWordCount.scala\n",
            "spark-3.0.1-bin-hadoop2.7/examples/src/main/scala/org/apache/spark/examples/LocalLR.scala\n",
            "spark-3.0.1-bin-hadoop2.7/examples/src/main/scala/org/apache/spark/examples/SparkKMeans.scala\n",
            "spark-3.0.1-bin-hadoop2.7/examples/src/main/scala/org/apache/spark/examples/MultiBroadcastTest.scala\n",
            "spark-3.0.1-bin-hadoop2.7/examples/src/main/scala/org/apache/spark/examples/SparkLR.scala\n",
            "spark-3.0.1-bin-hadoop2.7/examples/src/main/scala/org/apache/spark/examples/LocalPi.scala\n",
            "spark-3.0.1-bin-hadoop2.7/examples/src/main/scala/org/apache/spark/examples/graphx/\n",
            "spark-3.0.1-bin-hadoop2.7/examples/src/main/scala/org/apache/spark/examples/graphx/Analytics.scala\n",
            "spark-3.0.1-bin-hadoop2.7/examples/src/main/scala/org/apache/spark/examples/graphx/SynthBenchmark.scala\n",
            "spark-3.0.1-bin-hadoop2.7/examples/src/main/scala/org/apache/spark/examples/graphx/ComprehensiveExample.scala\n",
            "spark-3.0.1-bin-hadoop2.7/examples/src/main/scala/org/apache/spark/examples/graphx/AggregateMessagesExample.scala\n",
            "spark-3.0.1-bin-hadoop2.7/examples/src/main/scala/org/apache/spark/examples/graphx/SSSPExample.scala\n",
            "spark-3.0.1-bin-hadoop2.7/examples/src/main/scala/org/apache/spark/examples/graphx/PageRankExample.scala\n",
            "spark-3.0.1-bin-hadoop2.7/examples/src/main/scala/org/apache/spark/examples/graphx/ConnectedComponentsExample.scala\n",
            "spark-3.0.1-bin-hadoop2.7/examples/src/main/scala/org/apache/spark/examples/graphx/LiveJournalPageRank.scala\n",
            "spark-3.0.1-bin-hadoop2.7/examples/src/main/scala/org/apache/spark/examples/graphx/TriangleCountingExample.scala\n",
            "spark-3.0.1-bin-hadoop2.7/examples/src/main/scala/org/apache/spark/examples/LocalFileLR.scala\n",
            "spark-3.0.1-bin-hadoop2.7/examples/src/main/scala/org/apache/spark/examples/SparkPageRank.scala\n",
            "spark-3.0.1-bin-hadoop2.7/examples/src/main/scala/org/apache/spark/examples/sql/\n",
            "spark-3.0.1-bin-hadoop2.7/examples/src/main/scala/org/apache/spark/examples/sql/RDDRelation.scala\n",
            "spark-3.0.1-bin-hadoop2.7/examples/src/main/scala/org/apache/spark/examples/sql/SimpleTypedAggregator.scala\n",
            "spark-3.0.1-bin-hadoop2.7/examples/src/main/scala/org/apache/spark/examples/sql/streaming/\n",
            "spark-3.0.1-bin-hadoop2.7/examples/src/main/scala/org/apache/spark/examples/sql/streaming/StructuredNetworkWordCount.scala\n",
            "spark-3.0.1-bin-hadoop2.7/examples/src/main/scala/org/apache/spark/examples/sql/streaming/StructuredNetworkWordCountWindowed.scala\n",
            "spark-3.0.1-bin-hadoop2.7/examples/src/main/scala/org/apache/spark/examples/sql/streaming/StructuredSessionization.scala\n",
            "spark-3.0.1-bin-hadoop2.7/examples/src/main/scala/org/apache/spark/examples/sql/streaming/StructuredKafkaWordCount.scala\n",
            "spark-3.0.1-bin-hadoop2.7/examples/src/main/scala/org/apache/spark/examples/sql/streaming/StructuredKerberizedKafkaWordCount.scala\n",
            "spark-3.0.1-bin-hadoop2.7/examples/src/main/scala/org/apache/spark/examples/sql/hive/\n",
            "spark-3.0.1-bin-hadoop2.7/examples/src/main/scala/org/apache/spark/examples/sql/hive/SparkHiveExample.scala\n",
            "spark-3.0.1-bin-hadoop2.7/examples/src/main/scala/org/apache/spark/examples/sql/UserDefinedScalar.scala\n",
            "spark-3.0.1-bin-hadoop2.7/examples/src/main/scala/org/apache/spark/examples/sql/UserDefinedTypedAggregation.scala\n",
            "spark-3.0.1-bin-hadoop2.7/examples/src/main/scala/org/apache/spark/examples/sql/SparkSQLExample.scala\n",
            "spark-3.0.1-bin-hadoop2.7/examples/src/main/scala/org/apache/spark/examples/sql/SQLDataSourceExample.scala\n",
            "spark-3.0.1-bin-hadoop2.7/examples/src/main/scala/org/apache/spark/examples/sql/UserDefinedUntypedAggregation.scala\n",
            "spark-3.0.1-bin-hadoop2.7/examples/src/main/scala/org/apache/spark/examples/SimpleSkewedGroupByTest.scala\n",
            "spark-3.0.1-bin-hadoop2.7/examples/src/main/scala/org/apache/spark/examples/LocalKMeans.scala\n",
            "spark-3.0.1-bin-hadoop2.7/examples/src/main/scala/org/apache/spark/examples/AccumulatorMetricsTest.scala\n",
            "spark-3.0.1-bin-hadoop2.7/examples/src/main/scala/org/apache/spark/examples/pythonconverters/\n",
            "spark-3.0.1-bin-hadoop2.7/examples/src/main/scala/org/apache/spark/examples/pythonconverters/AvroConverters.scala\n",
            "spark-3.0.1-bin-hadoop2.7/examples/src/main/scala/org/apache/spark/examples/SparkPi.scala\n",
            "spark-3.0.1-bin-hadoop2.7/examples/src/main/scala/org/apache/spark/examples/LocalALS.scala\n",
            "spark-3.0.1-bin-hadoop2.7/examples/src/main/scala/org/apache/spark/examples/GroupByTest.scala\n",
            "spark-3.0.1-bin-hadoop2.7/examples/src/main/scala/org/apache/spark/examples/LogQuery.scala\n",
            "spark-3.0.1-bin-hadoop2.7/examples/src/main/scala/org/apache/spark/examples/DriverSubmissionTest.scala\n",
            "spark-3.0.1-bin-hadoop2.7/examples/src/main/scala/org/apache/spark/examples/DFSReadWriteTest.scala\n",
            "spark-3.0.1-bin-hadoop2.7/examples/src/main/scala/org/apache/spark/examples/SparkRemoteFileTest.scala\n",
            "spark-3.0.1-bin-hadoop2.7/examples/src/main/scala/org/apache/spark/examples/SparkTC.scala\n",
            "spark-3.0.1-bin-hadoop2.7/examples/src/main/resources/\n",
            "spark-3.0.1-bin-hadoop2.7/examples/src/main/resources/users.avro\n",
            "spark-3.0.1-bin-hadoop2.7/examples/src/main/resources/full_user.avsc\n",
            "spark-3.0.1-bin-hadoop2.7/examples/src/main/resources/dir1/\n",
            "spark-3.0.1-bin-hadoop2.7/examples/src/main/resources/dir1/file1.parquet\n",
            "spark-3.0.1-bin-hadoop2.7/examples/src/main/resources/dir1/file3.json\n",
            "spark-3.0.1-bin-hadoop2.7/examples/src/main/resources/dir1/dir2/\n",
            "spark-3.0.1-bin-hadoop2.7/examples/src/main/resources/dir1/dir2/file2.parquet\n",
            "spark-3.0.1-bin-hadoop2.7/examples/src/main/resources/users.orc\n",
            "spark-3.0.1-bin-hadoop2.7/examples/src/main/resources/kv1.txt\n",
            "spark-3.0.1-bin-hadoop2.7/examples/src/main/resources/users.parquet\n",
            "spark-3.0.1-bin-hadoop2.7/examples/src/main/resources/people.txt\n",
            "spark-3.0.1-bin-hadoop2.7/examples/src/main/resources/user.avsc\n",
            "spark-3.0.1-bin-hadoop2.7/examples/src/main/resources/people.csv\n",
            "spark-3.0.1-bin-hadoop2.7/examples/src/main/resources/employees.json\n",
            "spark-3.0.1-bin-hadoop2.7/examples/src/main/resources/people.json\n",
            "spark-3.0.1-bin-hadoop2.7/examples/src/main/scripts/\n",
            "spark-3.0.1-bin-hadoop2.7/examples/src/main/scripts/getGpusResources.sh\n",
            "spark-3.0.1-bin-hadoop2.7/examples/src/main/java/\n",
            "spark-3.0.1-bin-hadoop2.7/examples/src/main/java/org/\n",
            "spark-3.0.1-bin-hadoop2.7/examples/src/main/java/org/apache/\n",
            "spark-3.0.1-bin-hadoop2.7/examples/src/main/java/org/apache/spark/\n",
            "spark-3.0.1-bin-hadoop2.7/examples/src/main/java/org/apache/spark/examples/\n",
            "spark-3.0.1-bin-hadoop2.7/examples/src/main/java/org/apache/spark/examples/ml/\n",
            "spark-3.0.1-bin-hadoop2.7/examples/src/main/java/org/apache/spark/examples/ml/JavaInteractionExample.java\n",
            "spark-3.0.1-bin-hadoop2.7/examples/src/main/java/org/apache/spark/examples/ml/JavaRFormulaExample.java\n",
            "spark-3.0.1-bin-hadoop2.7/examples/src/main/java/org/apache/spark/examples/ml/JavaNaiveBayesExample.java\n",
            "spark-3.0.1-bin-hadoop2.7/examples/src/main/java/org/apache/spark/examples/ml/JavaImputerExample.java\n",
            "spark-3.0.1-bin-hadoop2.7/examples/src/main/java/org/apache/spark/examples/ml/JavaMultilayerPerceptronClassifierExample.java\n",
            "spark-3.0.1-bin-hadoop2.7/examples/src/main/java/org/apache/spark/examples/ml/JavaRandomForestRegressorExample.java\n",
            "spark-3.0.1-bin-hadoop2.7/examples/src/main/java/org/apache/spark/examples/ml/JavaRandomForestClassifierExample.java\n",
            "spark-3.0.1-bin-hadoop2.7/examples/src/main/java/org/apache/spark/examples/ml/JavaTfIdfExample.java\n",
            "spark-3.0.1-bin-hadoop2.7/examples/src/main/java/org/apache/spark/examples/ml/JavaGradientBoostedTreeClassifierExample.java\n",
            "spark-3.0.1-bin-hadoop2.7/examples/src/main/java/org/apache/spark/examples/ml/JavaCountVectorizerExample.java\n",
            "spark-3.0.1-bin-hadoop2.7/examples/src/main/java/org/apache/spark/examples/ml/JavaRobustScalerExample.java\n",
            "spark-3.0.1-bin-hadoop2.7/examples/src/main/java/org/apache/spark/examples/ml/JavaLogisticRegressionWithElasticNetExample.java\n",
            "spark-3.0.1-bin-hadoop2.7/examples/src/main/java/org/apache/spark/examples/ml/JavaVectorSizeHintExample.java\n",
            "spark-3.0.1-bin-hadoop2.7/examples/src/main/java/org/apache/spark/examples/ml/JavaMulticlassLogisticRegressionWithElasticNetExample.java\n",
            "spark-3.0.1-bin-hadoop2.7/examples/src/main/java/org/apache/spark/examples/ml/JavaKMeansExample.java\n",
            "spark-3.0.1-bin-hadoop2.7/examples/src/main/java/org/apache/spark/examples/ml/JavaVectorIndexerExample.java\n",
            "spark-3.0.1-bin-hadoop2.7/examples/src/main/java/org/apache/spark/examples/ml/JavaBinarizerExample.java\n",
            "spark-3.0.1-bin-hadoop2.7/examples/src/main/java/org/apache/spark/examples/ml/JavaPolynomialExpansionExample.java\n",
            "spark-3.0.1-bin-hadoop2.7/examples/src/main/java/org/apache/spark/examples/ml/JavaStringIndexerExample.java\n",
            "spark-3.0.1-bin-hadoop2.7/examples/src/main/java/org/apache/spark/examples/ml/JavaPCAExample.java\n",
            "spark-3.0.1-bin-hadoop2.7/examples/src/main/java/org/apache/spark/examples/ml/JavaOneVsRestExample.java\n",
            "spark-3.0.1-bin-hadoop2.7/examples/src/main/java/org/apache/spark/examples/ml/JavaLabeledDocument.java\n",
            "spark-3.0.1-bin-hadoop2.7/examples/src/main/java/org/apache/spark/examples/ml/JavaFeatureHasherExample.java\n",
            "spark-3.0.1-bin-hadoop2.7/examples/src/main/java/org/apache/spark/examples/ml/JavaFMRegressorExample.java\n",
            "spark-3.0.1-bin-hadoop2.7/examples/src/main/java/org/apache/spark/examples/ml/JavaVectorAssemblerExample.java\n",
            "spark-3.0.1-bin-hadoop2.7/examples/src/main/java/org/apache/spark/examples/ml/JavaSummarizerExample.java\n",
            "spark-3.0.1-bin-hadoop2.7/examples/src/main/java/org/apache/spark/examples/ml/JavaBisectingKMeansExample.java\n",
            "spark-3.0.1-bin-hadoop2.7/examples/src/main/java/org/apache/spark/examples/ml/JavaPrefixSpanExample.java\n",
            "spark-3.0.1-bin-hadoop2.7/examples/src/main/java/org/apache/spark/examples/ml/JavaBucketedRandomProjectionLSHExample.java\n",
            "spark-3.0.1-bin-hadoop2.7/examples/src/main/java/org/apache/spark/examples/ml/JavaWord2VecExample.java\n",
            "spark-3.0.1-bin-hadoop2.7/examples/src/main/java/org/apache/spark/examples/ml/JavaVectorSlicerExample.java\n",
            "spark-3.0.1-bin-hadoop2.7/examples/src/main/java/org/apache/spark/examples/ml/JavaLinearRegressionWithElasticNetExample.java\n",
            "spark-3.0.1-bin-hadoop2.7/examples/src/main/java/org/apache/spark/examples/ml/JavaIndexToStringExample.java\n",
            "spark-3.0.1-bin-hadoop2.7/examples/src/main/java/org/apache/spark/examples/ml/JavaDecisionTreeClassificationExample.java\n",
            "spark-3.0.1-bin-hadoop2.7/examples/src/main/java/org/apache/spark/examples/ml/JavaDCTExample.java\n",
            "spark-3.0.1-bin-hadoop2.7/examples/src/main/java/org/apache/spark/examples/ml/JavaTokenizerExample.java\n",
            "spark-3.0.1-bin-hadoop2.7/examples/src/main/java/org/apache/spark/examples/ml/JavaALSExample.java\n",
            "spark-3.0.1-bin-hadoop2.7/examples/src/main/java/org/apache/spark/examples/ml/JavaFMClassifierExample.java\n",
            "spark-3.0.1-bin-hadoop2.7/examples/src/main/java/org/apache/spark/examples/ml/JavaEstimatorTransformerParamExample.java\n",
            "spark-3.0.1-bin-hadoop2.7/examples/src/main/java/org/apache/spark/examples/ml/JavaSQLTransformerExample.java\n",
            "spark-3.0.1-bin-hadoop2.7/examples/src/main/java/org/apache/spark/examples/ml/JavaModelSelectionViaTrainValidationSplitExample.java\n",
            "spark-3.0.1-bin-hadoop2.7/examples/src/main/java/org/apache/spark/examples/ml/JavaQuantileDiscretizerExample.java\n",
            "spark-3.0.1-bin-hadoop2.7/examples/src/main/java/org/apache/spark/examples/ml/JavaCorrelationExample.java\n",
            "spark-3.0.1-bin-hadoop2.7/examples/src/main/java/org/apache/spark/examples/ml/JavaNGramExample.java\n",
            "spark-3.0.1-bin-hadoop2.7/examples/src/main/java/org/apache/spark/examples/ml/JavaGradientBoostedTreeRegressorExample.java\n",
            "spark-3.0.1-bin-hadoop2.7/examples/src/main/java/org/apache/spark/examples/ml/JavaModelSelectionViaCrossValidationExample.java\n",
            "spark-3.0.1-bin-hadoop2.7/examples/src/main/java/org/apache/spark/examples/ml/JavaIsotonicRegressionExample.java\n",
            "spark-3.0.1-bin-hadoop2.7/examples/src/main/java/org/apache/spark/examples/ml/JavaMinMaxScalerExample.java\n",
            "spark-3.0.1-bin-hadoop2.7/examples/src/main/java/org/apache/spark/examples/ml/JavaChiSquareTestExample.java\n",
            "spark-3.0.1-bin-hadoop2.7/examples/src/main/java/org/apache/spark/examples/ml/JavaElementwiseProductExample.java\n",
            "spark-3.0.1-bin-hadoop2.7/examples/src/main/java/org/apache/spark/examples/ml/JavaAFTSurvivalRegressionExample.java\n",
            "spark-3.0.1-bin-hadoop2.7/examples/src/main/java/org/apache/spark/examples/ml/JavaStandardScalerExample.java\n",
            "spark-3.0.1-bin-hadoop2.7/examples/src/main/java/org/apache/spark/examples/ml/JavaDecisionTreeRegressionExample.java\n",
            "spark-3.0.1-bin-hadoop2.7/examples/src/main/java/org/apache/spark/examples/ml/JavaOneHotEncoderExample.java\n",
            "spark-3.0.1-bin-hadoop2.7/examples/src/main/java/org/apache/spark/examples/ml/JavaDocument.java\n",
            "spark-3.0.1-bin-hadoop2.7/examples/src/main/java/org/apache/spark/examples/ml/JavaFPGrowthExample.java\n",
            "spark-3.0.1-bin-hadoop2.7/examples/src/main/java/org/apache/spark/examples/ml/JavaLDAExample.java\n",
            "spark-3.0.1-bin-hadoop2.7/examples/src/main/java/org/apache/spark/examples/ml/JavaMinHashLSHExample.java\n",
            "spark-3.0.1-bin-hadoop2.7/examples/src/main/java/org/apache/spark/examples/ml/JavaChiSqSelectorExample.java\n",
            "spark-3.0.1-bin-hadoop2.7/examples/src/main/java/org/apache/spark/examples/ml/JavaNormalizerExample.java\n",
            "spark-3.0.1-bin-hadoop2.7/examples/src/main/java/org/apache/spark/examples/ml/JavaGaussianMixtureExample.java\n",
            "spark-3.0.1-bin-hadoop2.7/examples/src/main/java/org/apache/spark/examples/ml/JavaStopWordsRemoverExample.java\n",
            "spark-3.0.1-bin-hadoop2.7/examples/src/main/java/org/apache/spark/examples/ml/JavaPipelineExample.java\n",
            "spark-3.0.1-bin-hadoop2.7/examples/src/main/java/org/apache/spark/examples/ml/JavaGeneralizedLinearRegressionExample.java\n",
            "spark-3.0.1-bin-hadoop2.7/examples/src/main/java/org/apache/spark/examples/ml/JavaLinearSVCExample.java\n",
            "spark-3.0.1-bin-hadoop2.7/examples/src/main/java/org/apache/spark/examples/ml/JavaLogisticRegressionSummaryExample.java\n",
            "spark-3.0.1-bin-hadoop2.7/examples/src/main/java/org/apache/spark/examples/ml/JavaPowerIterationClusteringExample.java\n",
            "spark-3.0.1-bin-hadoop2.7/examples/src/main/java/org/apache/spark/examples/ml/JavaMaxAbsScalerExample.java\n",
            "spark-3.0.1-bin-hadoop2.7/examples/src/main/java/org/apache/spark/examples/ml/JavaBucketizerExample.java\n",
            "spark-3.0.1-bin-hadoop2.7/examples/src/main/java/org/apache/spark/examples/JavaHdfsLR.java\n",
            "spark-3.0.1-bin-hadoop2.7/examples/src/main/java/org/apache/spark/examples/mllib/\n",
            "spark-3.0.1-bin-hadoop2.7/examples/src/main/java/org/apache/spark/examples/mllib/JavaNaiveBayesExample.java\n",
            "spark-3.0.1-bin-hadoop2.7/examples/src/main/java/org/apache/spark/examples/mllib/JavaSVDExample.java\n",
            "spark-3.0.1-bin-hadoop2.7/examples/src/main/java/org/apache/spark/examples/mllib/JavaKernelDensityEstimationExample.java\n",
            "spark-3.0.1-bin-hadoop2.7/examples/src/main/java/org/apache/spark/examples/mllib/JavaHypothesisTestingKolmogorovSmirnovTestExample.java\n",
            "spark-3.0.1-bin-hadoop2.7/examples/src/main/java/org/apache/spark/examples/mllib/JavaKMeansExample.java\n",
            "spark-3.0.1-bin-hadoop2.7/examples/src/main/java/org/apache/spark/examples/mllib/JavaPCAExample.java\n",
            "spark-3.0.1-bin-hadoop2.7/examples/src/main/java/org/apache/spark/examples/mllib/JavaRandomForestClassificationExample.java\n",
            "spark-3.0.1-bin-hadoop2.7/examples/src/main/java/org/apache/spark/examples/mllib/JavaCorrelationsExample.java\n",
            "spark-3.0.1-bin-hadoop2.7/examples/src/main/java/org/apache/spark/examples/mllib/JavaLatentDirichletAllocationExample.java\n",
            "spark-3.0.1-bin-hadoop2.7/examples/src/main/java/org/apache/spark/examples/mllib/JavaBisectingKMeansExample.java\n",
            "spark-3.0.1-bin-hadoop2.7/examples/src/main/java/org/apache/spark/examples/mllib/JavaPrefixSpanExample.java\n",
            "spark-3.0.1-bin-hadoop2.7/examples/src/main/java/org/apache/spark/examples/mllib/JavaSummaryStatisticsExample.java\n",
            "spark-3.0.1-bin-hadoop2.7/examples/src/main/java/org/apache/spark/examples/mllib/JavaSVMWithSGDExample.java\n",
            "spark-3.0.1-bin-hadoop2.7/examples/src/main/java/org/apache/spark/examples/mllib/JavaGradientBoostingRegressionExample.java\n",
            "spark-3.0.1-bin-hadoop2.7/examples/src/main/java/org/apache/spark/examples/mllib/JavaDecisionTreeClassificationExample.java\n",
            "spark-3.0.1-bin-hadoop2.7/examples/src/main/java/org/apache/spark/examples/mllib/JavaBinaryClassificationMetricsExample.java\n",
            "spark-3.0.1-bin-hadoop2.7/examples/src/main/java/org/apache/spark/examples/mllib/JavaSimpleFPGrowth.java\n",
            "spark-3.0.1-bin-hadoop2.7/examples/src/main/java/org/apache/spark/examples/mllib/JavaALS.java\n",
            "spark-3.0.1-bin-hadoop2.7/examples/src/main/java/org/apache/spark/examples/mllib/JavaIsotonicRegressionExample.java\n",
            "spark-3.0.1-bin-hadoop2.7/examples/src/main/java/org/apache/spark/examples/mllib/JavaElementwiseProductExample.java\n",
            "spark-3.0.1-bin-hadoop2.7/examples/src/main/java/org/apache/spark/examples/mllib/JavaGradientBoostingClassificationExample.java\n",
            "spark-3.0.1-bin-hadoop2.7/examples/src/main/java/org/apache/spark/examples/mllib/JavaMulticlassClassificationMetricsExample.java\n",
            "spark-3.0.1-bin-hadoop2.7/examples/src/main/java/org/apache/spark/examples/mllib/JavaLogisticRegressionWithLBFGSExample.java\n",
            "spark-3.0.1-bin-hadoop2.7/examples/src/main/java/org/apache/spark/examples/mllib/JavaRecommendationExample.java\n",
            "spark-3.0.1-bin-hadoop2.7/examples/src/main/java/org/apache/spark/examples/mllib/JavaAssociationRulesExample.java\n",
            "spark-3.0.1-bin-hadoop2.7/examples/src/main/java/org/apache/spark/examples/mllib/JavaDecisionTreeRegressionExample.java\n",
            "spark-3.0.1-bin-hadoop2.7/examples/src/main/java/org/apache/spark/examples/mllib/JavaLBFGSExample.java\n",
            "spark-3.0.1-bin-hadoop2.7/examples/src/main/java/org/apache/spark/examples/mllib/JavaHypothesisTestingExample.java\n",
            "spark-3.0.1-bin-hadoop2.7/examples/src/main/java/org/apache/spark/examples/mllib/JavaRankingMetricsExample.java\n",
            "spark-3.0.1-bin-hadoop2.7/examples/src/main/java/org/apache/spark/examples/mllib/JavaMultiLabelClassificationMetricsExample.java\n",
            "spark-3.0.1-bin-hadoop2.7/examples/src/main/java/org/apache/spark/examples/mllib/JavaStratifiedSamplingExample.java\n",
            "spark-3.0.1-bin-hadoop2.7/examples/src/main/java/org/apache/spark/examples/mllib/JavaChiSqSelectorExample.java\n",
            "spark-3.0.1-bin-hadoop2.7/examples/src/main/java/org/apache/spark/examples/mllib/JavaGaussianMixtureExample.java\n",
            "spark-3.0.1-bin-hadoop2.7/examples/src/main/java/org/apache/spark/examples/mllib/JavaRandomForestRegressionExample.java\n",
            "spark-3.0.1-bin-hadoop2.7/examples/src/main/java/org/apache/spark/examples/mllib/JavaStreamingTestExample.java\n",
            "spark-3.0.1-bin-hadoop2.7/examples/src/main/java/org/apache/spark/examples/mllib/JavaPowerIterationClusteringExample.java\n",
            "spark-3.0.1-bin-hadoop2.7/examples/src/main/java/org/apache/spark/examples/JavaLogQuery.java\n",
            "spark-3.0.1-bin-hadoop2.7/examples/src/main/java/org/apache/spark/examples/streaming/\n",
            "spark-3.0.1-bin-hadoop2.7/examples/src/main/java/org/apache/spark/examples/streaming/JavaDirectKafkaWordCount.java\n",
            "spark-3.0.1-bin-hadoop2.7/examples/src/main/java/org/apache/spark/examples/streaming/JavaRecoverableNetworkWordCount.java\n",
            "spark-3.0.1-bin-hadoop2.7/examples/src/main/java/org/apache/spark/examples/streaming/JavaQueueStream.java\n",
            "spark-3.0.1-bin-hadoop2.7/examples/src/main/java/org/apache/spark/examples/streaming/JavaRecord.java\n",
            "spark-3.0.1-bin-hadoop2.7/examples/src/main/java/org/apache/spark/examples/streaming/JavaCustomReceiver.java\n",
            "spark-3.0.1-bin-hadoop2.7/examples/src/main/java/org/apache/spark/examples/streaming/JavaNetworkWordCount.java\n",
            "spark-3.0.1-bin-hadoop2.7/examples/src/main/java/org/apache/spark/examples/streaming/JavaSqlNetworkWordCount.java\n",
            "spark-3.0.1-bin-hadoop2.7/examples/src/main/java/org/apache/spark/examples/streaming/JavaDirectKerberizedKafkaWordCount.java\n",
            "spark-3.0.1-bin-hadoop2.7/examples/src/main/java/org/apache/spark/examples/streaming/JavaStatefulNetworkWordCount.java\n",
            "spark-3.0.1-bin-hadoop2.7/examples/src/main/java/org/apache/spark/examples/JavaStatusTrackerDemo.java\n",
            "spark-3.0.1-bin-hadoop2.7/examples/src/main/java/org/apache/spark/examples/sql/\n",
            "spark-3.0.1-bin-hadoop2.7/examples/src/main/java/org/apache/spark/examples/sql/streaming/\n",
            "spark-3.0.1-bin-hadoop2.7/examples/src/main/java/org/apache/spark/examples/sql/streaming/JavaStructuredNetworkWordCount.java\n",
            "spark-3.0.1-bin-hadoop2.7/examples/src/main/java/org/apache/spark/examples/sql/streaming/JavaStructuredSessionization.java\n",
            "spark-3.0.1-bin-hadoop2.7/examples/src/main/java/org/apache/spark/examples/sql/streaming/JavaStructuredKerberizedKafkaWordCount.java\n",
            "spark-3.0.1-bin-hadoop2.7/examples/src/main/java/org/apache/spark/examples/sql/streaming/JavaStructuredNetworkWordCountWindowed.java\n",
            "spark-3.0.1-bin-hadoop2.7/examples/src/main/java/org/apache/spark/examples/sql/streaming/JavaStructuredKafkaWordCount.java\n",
            "spark-3.0.1-bin-hadoop2.7/examples/src/main/java/org/apache/spark/examples/sql/hive/\n",
            "spark-3.0.1-bin-hadoop2.7/examples/src/main/java/org/apache/spark/examples/sql/hive/JavaSparkHiveExample.java\n",
            "spark-3.0.1-bin-hadoop2.7/examples/src/main/java/org/apache/spark/examples/sql/JavaSparkSQLExample.java\n",
            "spark-3.0.1-bin-hadoop2.7/examples/src/main/java/org/apache/spark/examples/sql/JavaSQLDataSourceExample.java\n",
            "spark-3.0.1-bin-hadoop2.7/examples/src/main/java/org/apache/spark/examples/sql/JavaUserDefinedScalar.java\n",
            "spark-3.0.1-bin-hadoop2.7/examples/src/main/java/org/apache/spark/examples/sql/JavaUserDefinedUntypedAggregation.java\n",
            "spark-3.0.1-bin-hadoop2.7/examples/src/main/java/org/apache/spark/examples/sql/JavaUserDefinedTypedAggregation.java\n",
            "spark-3.0.1-bin-hadoop2.7/examples/src/main/java/org/apache/spark/examples/JavaTC.java\n",
            "spark-3.0.1-bin-hadoop2.7/examples/src/main/java/org/apache/spark/examples/JavaWordCount.java\n",
            "spark-3.0.1-bin-hadoop2.7/examples/src/main/java/org/apache/spark/examples/JavaPageRank.java\n",
            "spark-3.0.1-bin-hadoop2.7/examples/src/main/java/org/apache/spark/examples/JavaSparkPi.java\n",
            "spark-3.0.1-bin-hadoop2.7/examples/src/main/r/\n",
            "spark-3.0.1-bin-hadoop2.7/examples/src/main/r/ml/\n",
            "spark-3.0.1-bin-hadoop2.7/examples/src/main/r/ml/lda.R\n",
            "spark-3.0.1-bin-hadoop2.7/examples/src/main/r/ml/logit.R\n",
            "spark-3.0.1-bin-hadoop2.7/examples/src/main/r/ml/gaussianMixture.R\n",
            "spark-3.0.1-bin-hadoop2.7/examples/src/main/r/ml/survreg.R\n",
            "spark-3.0.1-bin-hadoop2.7/examples/src/main/r/ml/glm.R\n",
            "spark-3.0.1-bin-hadoop2.7/examples/src/main/r/ml/powerIterationClustering.R\n",
            "spark-3.0.1-bin-hadoop2.7/examples/src/main/r/ml/als.R\n",
            "spark-3.0.1-bin-hadoop2.7/examples/src/main/r/ml/ml.R\n",
            "spark-3.0.1-bin-hadoop2.7/examples/src/main/r/ml/fpm.R\n",
            "spark-3.0.1-bin-hadoop2.7/examples/src/main/r/ml/bisectingKmeans.R\n",
            "spark-3.0.1-bin-hadoop2.7/examples/src/main/r/ml/isoreg.R\n",
            "spark-3.0.1-bin-hadoop2.7/examples/src/main/r/ml/mlp.R\n",
            "spark-3.0.1-bin-hadoop2.7/examples/src/main/r/ml/kmeans.R\n",
            "spark-3.0.1-bin-hadoop2.7/examples/src/main/r/ml/randomForest.R\n",
            "spark-3.0.1-bin-hadoop2.7/examples/src/main/r/ml/gbt.R\n",
            "spark-3.0.1-bin-hadoop2.7/examples/src/main/r/ml/kstest.R\n",
            "spark-3.0.1-bin-hadoop2.7/examples/src/main/r/ml/svmLinear.R\n",
            "spark-3.0.1-bin-hadoop2.7/examples/src/main/r/ml/decisionTree.R\n",
            "spark-3.0.1-bin-hadoop2.7/examples/src/main/r/ml/naiveBayes.R\n",
            "spark-3.0.1-bin-hadoop2.7/examples/src/main/r/ml/prefixSpan.R\n",
            "spark-3.0.1-bin-hadoop2.7/examples/src/main/r/data-manipulation.R\n",
            "spark-3.0.1-bin-hadoop2.7/examples/src/main/r/streaming/\n",
            "spark-3.0.1-bin-hadoop2.7/examples/src/main/r/streaming/structured_network_wordcount.R\n",
            "spark-3.0.1-bin-hadoop2.7/examples/src/main/r/RSparkSQLExample.R\n",
            "spark-3.0.1-bin-hadoop2.7/examples/src/main/r/dataframe.R\n",
            "spark-3.0.1-bin-hadoop2.7/examples/src/main/python/\n",
            "spark-3.0.1-bin-hadoop2.7/examples/src/main/python/ml/\n",
            "spark-3.0.1-bin-hadoop2.7/examples/src/main/python/ml/bisecting_k_means_example.py\n",
            "spark-3.0.1-bin-hadoop2.7/examples/src/main/python/ml/stopwords_remover_example.py\n",
            "spark-3.0.1-bin-hadoop2.7/examples/src/main/python/ml/chisq_selector_example.py\n",
            "spark-3.0.1-bin-hadoop2.7/examples/src/main/python/ml/cross_validator.py\n",
            "spark-3.0.1-bin-hadoop2.7/examples/src/main/python/ml/vector_indexer_example.py\n",
            "spark-3.0.1-bin-hadoop2.7/examples/src/main/python/ml/binarizer_example.py\n",
            "spark-3.0.1-bin-hadoop2.7/examples/src/main/python/ml/tokenizer_example.py\n",
            "spark-3.0.1-bin-hadoop2.7/examples/src/main/python/ml/quantile_discretizer_example.py\n",
            "spark-3.0.1-bin-hadoop2.7/examples/src/main/python/ml/vector_size_hint_example.py\n",
            "spark-3.0.1-bin-hadoop2.7/examples/src/main/python/ml/elementwise_product_example.py\n",
            "spark-3.0.1-bin-hadoop2.7/examples/src/main/python/ml/tf_idf_example.py\n",
            "spark-3.0.1-bin-hadoop2.7/examples/src/main/python/ml/pca_example.py\n",
            "spark-3.0.1-bin-hadoop2.7/examples/src/main/python/ml/chi_square_test_example.py\n",
            "spark-3.0.1-bin-hadoop2.7/examples/src/main/python/ml/correlation_example.py\n",
            "spark-3.0.1-bin-hadoop2.7/examples/src/main/python/ml/rformula_example.py\n",
            "spark-3.0.1-bin-hadoop2.7/examples/src/main/python/ml/fpgrowth_example.py\n",
            "spark-3.0.1-bin-hadoop2.7/examples/src/main/python/ml/dataframe_example.py\n",
            "spark-3.0.1-bin-hadoop2.7/examples/src/main/python/ml/train_validation_split.py\n",
            "spark-3.0.1-bin-hadoop2.7/examples/src/main/python/ml/fm_classifier_example.py\n",
            "spark-3.0.1-bin-hadoop2.7/examples/src/main/python/ml/index_to_string_example.py\n",
            "spark-3.0.1-bin-hadoop2.7/examples/src/main/python/ml/gradient_boosted_tree_regressor_example.py\n",
            "spark-3.0.1-bin-hadoop2.7/examples/src/main/python/ml/logistic_regression_summary_example.py\n",
            "spark-3.0.1-bin-hadoop2.7/examples/src/main/python/ml/feature_hasher_example.py\n",
            "spark-3.0.1-bin-hadoop2.7/examples/src/main/python/ml/vector_slicer_example.py\n",
            "spark-3.0.1-bin-hadoop2.7/examples/src/main/python/ml/kmeans_example.py\n",
            "spark-3.0.1-bin-hadoop2.7/examples/src/main/python/ml/robust_scaler_example.py\n",
            "spark-3.0.1-bin-hadoop2.7/examples/src/main/python/ml/als_example.py\n",
            "spark-3.0.1-bin-hadoop2.7/examples/src/main/python/ml/decision_tree_classification_example.py\n",
            "spark-3.0.1-bin-hadoop2.7/examples/src/main/python/ml/generalized_linear_regression_example.py\n",
            "spark-3.0.1-bin-hadoop2.7/examples/src/main/python/ml/fm_regressor_example.py\n",
            "spark-3.0.1-bin-hadoop2.7/examples/src/main/python/ml/multiclass_logistic_regression_with_elastic_net.py\n",
            "spark-3.0.1-bin-hadoop2.7/examples/src/main/python/ml/imputer_example.py\n",
            "spark-3.0.1-bin-hadoop2.7/examples/src/main/python/ml/interaction_example.py\n",
            "spark-3.0.1-bin-hadoop2.7/examples/src/main/python/ml/naive_bayes_example.py\n",
            "spark-3.0.1-bin-hadoop2.7/examples/src/main/python/ml/string_indexer_example.py\n",
            "spark-3.0.1-bin-hadoop2.7/examples/src/main/python/ml/gradient_boosted_tree_classifier_example.py\n",
            "spark-3.0.1-bin-hadoop2.7/examples/src/main/python/ml/sql_transformer.py\n",
            "spark-3.0.1-bin-hadoop2.7/examples/src/main/python/ml/logistic_regression_with_elastic_net.py\n",
            "spark-3.0.1-bin-hadoop2.7/examples/src/main/python/ml/decision_tree_regression_example.py\n",
            "spark-3.0.1-bin-hadoop2.7/examples/src/main/python/ml/lda_example.py\n",
            "spark-3.0.1-bin-hadoop2.7/examples/src/main/python/ml/min_hash_lsh_example.py\n",
            "spark-3.0.1-bin-hadoop2.7/examples/src/main/python/ml/estimator_transformer_param_example.py\n",
            "spark-3.0.1-bin-hadoop2.7/examples/src/main/python/ml/gaussian_mixture_example.py\n",
            "spark-3.0.1-bin-hadoop2.7/examples/src/main/python/ml/prefixspan_example.py\n",
            "spark-3.0.1-bin-hadoop2.7/examples/src/main/python/ml/summarizer_example.py\n",
            "spark-3.0.1-bin-hadoop2.7/examples/src/main/python/ml/max_abs_scaler_example.py\n",
            "spark-3.0.1-bin-hadoop2.7/examples/src/main/python/ml/aft_survival_regression.py\n",
            "spark-3.0.1-bin-hadoop2.7/examples/src/main/python/ml/onehot_encoder_example.py\n",
            "spark-3.0.1-bin-hadoop2.7/examples/src/main/python/ml/normalizer_example.py\n",
            "spark-3.0.1-bin-hadoop2.7/examples/src/main/python/ml/random_forest_regressor_example.py\n",
            "spark-3.0.1-bin-hadoop2.7/examples/src/main/python/ml/random_forest_classifier_example.py\n",
            "spark-3.0.1-bin-hadoop2.7/examples/src/main/python/ml/vector_assembler_example.py\n",
            "spark-3.0.1-bin-hadoop2.7/examples/src/main/python/ml/power_iteration_clustering_example.py\n",
            "spark-3.0.1-bin-hadoop2.7/examples/src/main/python/ml/linear_regression_with_elastic_net.py\n",
            "spark-3.0.1-bin-hadoop2.7/examples/src/main/python/ml/count_vectorizer_example.py\n",
            "spark-3.0.1-bin-hadoop2.7/examples/src/main/python/ml/standard_scaler_example.py\n",
            "spark-3.0.1-bin-hadoop2.7/examples/src/main/python/ml/bucketizer_example.py\n",
            "spark-3.0.1-bin-hadoop2.7/examples/src/main/python/ml/multilayer_perceptron_classification.py\n",
            "spark-3.0.1-bin-hadoop2.7/examples/src/main/python/ml/dct_example.py\n",
            "spark-3.0.1-bin-hadoop2.7/examples/src/main/python/ml/linearsvc.py\n",
            "spark-3.0.1-bin-hadoop2.7/examples/src/main/python/ml/polynomial_expansion_example.py\n",
            "spark-3.0.1-bin-hadoop2.7/examples/src/main/python/ml/isotonic_regression_example.py\n",
            "spark-3.0.1-bin-hadoop2.7/examples/src/main/python/ml/n_gram_example.py\n",
            "spark-3.0.1-bin-hadoop2.7/examples/src/main/python/ml/word2vec_example.py\n",
            "spark-3.0.1-bin-hadoop2.7/examples/src/main/python/ml/min_max_scaler_example.py\n",
            "spark-3.0.1-bin-hadoop2.7/examples/src/main/python/ml/bucketed_random_projection_lsh_example.py\n",
            "spark-3.0.1-bin-hadoop2.7/examples/src/main/python/ml/one_vs_rest_example.py\n",
            "spark-3.0.1-bin-hadoop2.7/examples/src/main/python/ml/pipeline_example.py\n",
            "spark-3.0.1-bin-hadoop2.7/examples/src/main/python/mllib/\n",
            "spark-3.0.1-bin-hadoop2.7/examples/src/main/python/mllib/bisecting_k_means_example.py\n",
            "spark-3.0.1-bin-hadoop2.7/examples/src/main/python/mllib/multi_class_metrics_example.py\n",
            "spark-3.0.1-bin-hadoop2.7/examples/src/main/python/mllib/regression_metrics_example.py\n",
            "spark-3.0.1-bin-hadoop2.7/examples/src/main/python/mllib/correlations.py\n",
            "spark-3.0.1-bin-hadoop2.7/examples/src/main/python/mllib/elementwise_product_example.py\n",
            "spark-3.0.1-bin-hadoop2.7/examples/src/main/python/mllib/svd_example.py\n",
            "spark-3.0.1-bin-hadoop2.7/examples/src/main/python/mllib/tf_idf_example.py\n",
            "spark-3.0.1-bin-hadoop2.7/examples/src/main/python/mllib/kernel_density_estimation_example.py\n",
            "spark-3.0.1-bin-hadoop2.7/examples/src/main/python/mllib/pca_rowmatrix_example.py\n",
            "spark-3.0.1-bin-hadoop2.7/examples/src/main/python/mllib/ranking_metrics_example.py\n",
            "spark-3.0.1-bin-hadoop2.7/examples/src/main/python/mllib/gradient_boosting_regression_example.py\n",
            "spark-3.0.1-bin-hadoop2.7/examples/src/main/python/mllib/fpgrowth_example.py\n",
            "spark-3.0.1-bin-hadoop2.7/examples/src/main/python/mllib/random_rdd_generation.py\n",
            "spark-3.0.1-bin-hadoop2.7/examples/src/main/python/mllib/word2vec.py\n",
            "spark-3.0.1-bin-hadoop2.7/examples/src/main/python/mllib/linear_regression_with_sgd_example.py\n",
            "spark-3.0.1-bin-hadoop2.7/examples/src/main/python/mllib/logistic_regression_with_lbfgs_example.py\n",
            "spark-3.0.1-bin-hadoop2.7/examples/src/main/python/mllib/kmeans.py\n",
            "spark-3.0.1-bin-hadoop2.7/examples/src/main/python/mllib/streaming_k_means_example.py\n",
            "spark-3.0.1-bin-hadoop2.7/examples/src/main/python/mllib/decision_tree_classification_example.py\n",
            "spark-3.0.1-bin-hadoop2.7/examples/src/main/python/mllib/correlations_example.py\n",
            "spark-3.0.1-bin-hadoop2.7/examples/src/main/python/mllib/naive_bayes_example.py\n",
            "spark-3.0.1-bin-hadoop2.7/examples/src/main/python/mllib/decision_tree_regression_example.py\n",
            "spark-3.0.1-bin-hadoop2.7/examples/src/main/python/mllib/sampled_rdds.py\n",
            "spark-3.0.1-bin-hadoop2.7/examples/src/main/python/mllib/gaussian_mixture_example.py\n",
            "spark-3.0.1-bin-hadoop2.7/examples/src/main/python/mllib/hypothesis_testing_example.py\n",
            "spark-3.0.1-bin-hadoop2.7/examples/src/main/python/mllib/streaming_linear_regression_example.py\n",
            "spark-3.0.1-bin-hadoop2.7/examples/src/main/python/mllib/stratified_sampling_example.py\n",
            "spark-3.0.1-bin-hadoop2.7/examples/src/main/python/mllib/gaussian_mixture_model.py\n",
            "spark-3.0.1-bin-hadoop2.7/examples/src/main/python/mllib/normalizer_example.py\n",
            "spark-3.0.1-bin-hadoop2.7/examples/src/main/python/mllib/summary_statistics_example.py\n",
            "spark-3.0.1-bin-hadoop2.7/examples/src/main/python/mllib/svm_with_sgd_example.py\n",
            "spark-3.0.1-bin-hadoop2.7/examples/src/main/python/mllib/logistic_regression.py\n",
            "spark-3.0.1-bin-hadoop2.7/examples/src/main/python/mllib/power_iteration_clustering_example.py\n",
            "spark-3.0.1-bin-hadoop2.7/examples/src/main/python/mllib/standard_scaler_example.py\n",
            "spark-3.0.1-bin-hadoop2.7/examples/src/main/python/mllib/random_forest_classification_example.py\n",
            "spark-3.0.1-bin-hadoop2.7/examples/src/main/python/mllib/gradient_boosting_classification_example.py\n",
            "spark-3.0.1-bin-hadoop2.7/examples/src/main/python/mllib/random_forest_regression_example.py\n",
            "spark-3.0.1-bin-hadoop2.7/examples/src/main/python/mllib/isotonic_regression_example.py\n",
            "spark-3.0.1-bin-hadoop2.7/examples/src/main/python/mllib/k_means_example.py\n",
            "spark-3.0.1-bin-hadoop2.7/examples/src/main/python/mllib/word2vec_example.py\n",
            "spark-3.0.1-bin-hadoop2.7/examples/src/main/python/mllib/binary_classification_metrics_example.py\n",
            "spark-3.0.1-bin-hadoop2.7/examples/src/main/python/mllib/multi_label_metrics_example.py\n",
            "spark-3.0.1-bin-hadoop2.7/examples/src/main/python/mllib/hypothesis_testing_kolmogorov_smirnov_test_example.py\n",
            "spark-3.0.1-bin-hadoop2.7/examples/src/main/python/mllib/latent_dirichlet_allocation_example.py\n",
            "spark-3.0.1-bin-hadoop2.7/examples/src/main/python/mllib/recommendation_example.py\n",
            "spark-3.0.1-bin-hadoop2.7/examples/src/main/python/transitive_closure.py\n",
            "spark-3.0.1-bin-hadoop2.7/examples/src/main/python/parquet_inputformat.py\n",
            "spark-3.0.1-bin-hadoop2.7/examples/src/main/python/streaming/\n",
            "spark-3.0.1-bin-hadoop2.7/examples/src/main/python/streaming/sql_network_wordcount.py\n",
            "spark-3.0.1-bin-hadoop2.7/examples/src/main/python/streaming/queue_stream.py\n",
            "spark-3.0.1-bin-hadoop2.7/examples/src/main/python/streaming/recoverable_network_wordcount.py\n",
            "spark-3.0.1-bin-hadoop2.7/examples/src/main/python/streaming/network_wordjoinsentiments.py\n",
            "spark-3.0.1-bin-hadoop2.7/examples/src/main/python/streaming/network_wordcount.py\n",
            "spark-3.0.1-bin-hadoop2.7/examples/src/main/python/streaming/hdfs_wordcount.py\n",
            "spark-3.0.1-bin-hadoop2.7/examples/src/main/python/streaming/stateful_network_wordcount.py\n",
            "spark-3.0.1-bin-hadoop2.7/examples/src/main/python/kmeans.py\n",
            "spark-3.0.1-bin-hadoop2.7/examples/src/main/python/als.py\n",
            "spark-3.0.1-bin-hadoop2.7/examples/src/main/python/sql/\n",
            "spark-3.0.1-bin-hadoop2.7/examples/src/main/python/sql/streaming/\n",
            "spark-3.0.1-bin-hadoop2.7/examples/src/main/python/sql/streaming/structured_kafka_wordcount.py\n",
            "spark-3.0.1-bin-hadoop2.7/examples/src/main/python/sql/streaming/structured_network_wordcount_windowed.py\n",
            "spark-3.0.1-bin-hadoop2.7/examples/src/main/python/sql/streaming/structured_network_wordcount.py\n",
            "spark-3.0.1-bin-hadoop2.7/examples/src/main/python/sql/basic.py\n",
            "spark-3.0.1-bin-hadoop2.7/examples/src/main/python/sql/datasource.py\n",
            "spark-3.0.1-bin-hadoop2.7/examples/src/main/python/sql/hive.py\n",
            "spark-3.0.1-bin-hadoop2.7/examples/src/main/python/sql/arrow.py\n",
            "spark-3.0.1-bin-hadoop2.7/examples/src/main/python/pagerank.py\n",
            "spark-3.0.1-bin-hadoop2.7/examples/src/main/python/logistic_regression.py\n",
            "spark-3.0.1-bin-hadoop2.7/examples/src/main/python/wordcount.py\n",
            "spark-3.0.1-bin-hadoop2.7/examples/src/main/python/status_api_demo.py\n",
            "spark-3.0.1-bin-hadoop2.7/examples/src/main/python/avro_inputformat.py\n",
            "spark-3.0.1-bin-hadoop2.7/examples/src/main/python/pi.py\n",
            "spark-3.0.1-bin-hadoop2.7/examples/src/main/python/sort.py\n",
            "spark-3.0.1-bin-hadoop2.7/examples/jars/\n",
            "spark-3.0.1-bin-hadoop2.7/examples/jars/spark-examples_2.12-3.0.1.jar\n",
            "spark-3.0.1-bin-hadoop2.7/examples/jars/scopt_2.12-3.7.1.jar\n",
            "spark-3.0.1-bin-hadoop2.7/data/\n",
            "spark-3.0.1-bin-hadoop2.7/data/mllib/\n",
            "spark-3.0.1-bin-hadoop2.7/data/mllib/ridge-data/\n",
            "spark-3.0.1-bin-hadoop2.7/data/mllib/ridge-data/lpsa.data\n",
            "spark-3.0.1-bin-hadoop2.7/data/mllib/streaming_kmeans_data_test.txt\n",
            "spark-3.0.1-bin-hadoop2.7/data/mllib/sample_multiclass_classification_data.txt\n",
            "spark-3.0.1-bin-hadoop2.7/data/mllib/sample_isotonic_regression_libsvm_data.txt\n",
            "spark-3.0.1-bin-hadoop2.7/data/mllib/sample_svm_data.txt\n",
            "spark-3.0.1-bin-hadoop2.7/data/mllib/iris_libsvm.txt\n",
            "spark-3.0.1-bin-hadoop2.7/data/mllib/sample_lda_data.txt\n",
            "spark-3.0.1-bin-hadoop2.7/data/mllib/sample_lda_libsvm_data.txt\n",
            "spark-3.0.1-bin-hadoop2.7/data/mllib/sample_movielens_data.txt\n",
            "spark-3.0.1-bin-hadoop2.7/data/mllib/sample_libsvm_data.txt\n",
            "spark-3.0.1-bin-hadoop2.7/data/mllib/sample_binary_classification_data.txt\n",
            "spark-3.0.1-bin-hadoop2.7/data/mllib/sample_fpgrowth.txt\n",
            "spark-3.0.1-bin-hadoop2.7/data/mllib/images/\n",
            "spark-3.0.1-bin-hadoop2.7/data/mllib/images/partitioned/\n",
            "spark-3.0.1-bin-hadoop2.7/data/mllib/images/partitioned/cls=multichannel/\n",
            "spark-3.0.1-bin-hadoop2.7/data/mllib/images/partitioned/cls=multichannel/date=2018-01/\n",
            "spark-3.0.1-bin-hadoop2.7/data/mllib/images/partitioned/cls=multichannel/date=2018-01/BGRA_alpha_60.png\n",
            "spark-3.0.1-bin-hadoop2.7/data/mllib/images/partitioned/cls=multichannel/date=2018-01/BGRA.png\n",
            "spark-3.0.1-bin-hadoop2.7/data/mllib/images/partitioned/cls=multichannel/date=2018-02/\n",
            "spark-3.0.1-bin-hadoop2.7/data/mllib/images/partitioned/cls=multichannel/date=2018-02/chr30.4.184.jpg\n",
            "spark-3.0.1-bin-hadoop2.7/data/mllib/images/partitioned/cls=multichannel/date=2018-02/grayscale.jpg\n",
            "spark-3.0.1-bin-hadoop2.7/data/mllib/images/partitioned/cls=kittens/\n",
            "spark-3.0.1-bin-hadoop2.7/data/mllib/images/partitioned/cls=kittens/date=2018-01/\n",
            "spark-3.0.1-bin-hadoop2.7/data/mllib/images/partitioned/cls=kittens/date=2018-01/not-image.txt\n",
            "spark-3.0.1-bin-hadoop2.7/data/mllib/images/partitioned/cls=kittens/date=2018-01/29.5.a_b_EGDP022204.jpg\n",
            "spark-3.0.1-bin-hadoop2.7/data/mllib/images/partitioned/cls=kittens/date=2018-02/\n",
            "spark-3.0.1-bin-hadoop2.7/data/mllib/images/partitioned/cls=kittens/date=2018-02/DP153539.jpg\n",
            "spark-3.0.1-bin-hadoop2.7/data/mllib/images/partitioned/cls=kittens/date=2018-02/54893.jpg\n",
            "spark-3.0.1-bin-hadoop2.7/data/mllib/images/partitioned/cls=kittens/date=2018-02/DP802813.jpg\n",
            "spark-3.0.1-bin-hadoop2.7/data/mllib/images/origin/\n",
            "spark-3.0.1-bin-hadoop2.7/data/mllib/images/origin/multi-channel/\n",
            "spark-3.0.1-bin-hadoop2.7/data/mllib/images/origin/multi-channel/BGRA_alpha_60.png\n",
            "spark-3.0.1-bin-hadoop2.7/data/mllib/images/origin/multi-channel/chr30.4.184.jpg\n",
            "spark-3.0.1-bin-hadoop2.7/data/mllib/images/origin/multi-channel/BGRA.png\n",
            "spark-3.0.1-bin-hadoop2.7/data/mllib/images/origin/multi-channel/grayscale.jpg\n",
            "spark-3.0.1-bin-hadoop2.7/data/mllib/images/origin/license.txt\n",
            "spark-3.0.1-bin-hadoop2.7/data/mllib/images/origin/kittens/\n",
            "spark-3.0.1-bin-hadoop2.7/data/mllib/images/origin/kittens/not-image.txt\n",
            "spark-3.0.1-bin-hadoop2.7/data/mllib/images/origin/kittens/DP153539.jpg\n",
            "spark-3.0.1-bin-hadoop2.7/data/mllib/images/origin/kittens/54893.jpg\n",
            "spark-3.0.1-bin-hadoop2.7/data/mllib/images/origin/kittens/29.5.a_b_EGDP022204.jpg\n",
            "spark-3.0.1-bin-hadoop2.7/data/mllib/images/origin/kittens/DP802813.jpg\n",
            "spark-3.0.1-bin-hadoop2.7/data/mllib/images/license.txt\n",
            "spark-3.0.1-bin-hadoop2.7/data/mllib/gmm_data.txt\n",
            "spark-3.0.1-bin-hadoop2.7/data/mllib/sample_linear_regression_data.txt\n",
            "spark-3.0.1-bin-hadoop2.7/data/mllib/kmeans_data.txt\n",
            "spark-3.0.1-bin-hadoop2.7/data/mllib/pagerank_data.txt\n",
            "spark-3.0.1-bin-hadoop2.7/data/mllib/pic_data.txt\n",
            "spark-3.0.1-bin-hadoop2.7/data/mllib/sample_kmeans_data.txt\n",
            "spark-3.0.1-bin-hadoop2.7/data/mllib/als/\n",
            "spark-3.0.1-bin-hadoop2.7/data/mllib/als/sample_movielens_ratings.txt\n",
            "spark-3.0.1-bin-hadoop2.7/data/mllib/als/test.data\n",
            "spark-3.0.1-bin-hadoop2.7/data/streaming/\n",
            "spark-3.0.1-bin-hadoop2.7/data/streaming/AFINN-111.txt\n",
            "spark-3.0.1-bin-hadoop2.7/data/graphx/\n",
            "spark-3.0.1-bin-hadoop2.7/data/graphx/followers.txt\n",
            "spark-3.0.1-bin-hadoop2.7/data/graphx/users.txt\n",
            "spark-3.0.1-bin-hadoop2.7/yarn/\n",
            "spark-3.0.1-bin-hadoop2.7/yarn/spark-3.0.1-yarn-shuffle.jar\n",
            "spark-3.0.1-bin-hadoop2.7/bin/\n",
            "spark-3.0.1-bin-hadoop2.7/bin/spark-class.cmd\n",
            "spark-3.0.1-bin-hadoop2.7/bin/run-example\n",
            "spark-3.0.1-bin-hadoop2.7/bin/run-example.cmd\n",
            "spark-3.0.1-bin-hadoop2.7/bin/spark-class\n",
            "spark-3.0.1-bin-hadoop2.7/bin/spark-class2.cmd\n",
            "spark-3.0.1-bin-hadoop2.7/bin/find-spark-home\n",
            "spark-3.0.1-bin-hadoop2.7/bin/spark-submit\n",
            "spark-3.0.1-bin-hadoop2.7/bin/pyspark\n",
            "spark-3.0.1-bin-hadoop2.7/bin/find-spark-home.cmd\n",
            "spark-3.0.1-bin-hadoop2.7/bin/docker-image-tool.sh\n",
            "spark-3.0.1-bin-hadoop2.7/bin/spark-shell.cmd\n",
            "spark-3.0.1-bin-hadoop2.7/bin/spark-sql.cmd\n",
            "spark-3.0.1-bin-hadoop2.7/bin/load-spark-env.cmd\n",
            "spark-3.0.1-bin-hadoop2.7/bin/sparkR2.cmd\n",
            "spark-3.0.1-bin-hadoop2.7/bin/beeline.cmd\n",
            "spark-3.0.1-bin-hadoop2.7/bin/pyspark.cmd\n",
            "spark-3.0.1-bin-hadoop2.7/bin/spark-shell2.cmd\n",
            "spark-3.0.1-bin-hadoop2.7/bin/spark-sql2.cmd\n",
            "spark-3.0.1-bin-hadoop2.7/bin/sparkR\n",
            "spark-3.0.1-bin-hadoop2.7/bin/spark-sql\n",
            "spark-3.0.1-bin-hadoop2.7/bin/spark-shell\n",
            "spark-3.0.1-bin-hadoop2.7/bin/spark-submit.cmd\n",
            "spark-3.0.1-bin-hadoop2.7/bin/load-spark-env.sh\n",
            "spark-3.0.1-bin-hadoop2.7/bin/beeline\n",
            "spark-3.0.1-bin-hadoop2.7/bin/sparkR.cmd\n",
            "spark-3.0.1-bin-hadoop2.7/bin/pyspark2.cmd\n",
            "spark-3.0.1-bin-hadoop2.7/bin/spark-submit2.cmd\n",
            "spark-3.0.1-bin-hadoop2.7/sbin/\n",
            "spark-3.0.1-bin-hadoop2.7/sbin/stop-thriftserver.sh\n",
            "spark-3.0.1-bin-hadoop2.7/sbin/stop-slaves.sh\n",
            "spark-3.0.1-bin-hadoop2.7/sbin/spark-config.sh\n",
            "spark-3.0.1-bin-hadoop2.7/sbin/start-mesos-dispatcher.sh\n",
            "spark-3.0.1-bin-hadoop2.7/sbin/stop-mesos-dispatcher.sh\n",
            "spark-3.0.1-bin-hadoop2.7/sbin/stop-master.sh\n",
            "spark-3.0.1-bin-hadoop2.7/sbin/start-thriftserver.sh\n",
            "spark-3.0.1-bin-hadoop2.7/sbin/spark-daemons.sh\n",
            "spark-3.0.1-bin-hadoop2.7/sbin/stop-all.sh\n",
            "spark-3.0.1-bin-hadoop2.7/sbin/start-master.sh\n",
            "spark-3.0.1-bin-hadoop2.7/sbin/start-slave.sh\n",
            "spark-3.0.1-bin-hadoop2.7/sbin/stop-slave.sh\n",
            "spark-3.0.1-bin-hadoop2.7/sbin/start-slaves.sh\n",
            "spark-3.0.1-bin-hadoop2.7/sbin/start-history-server.sh\n",
            "spark-3.0.1-bin-hadoop2.7/sbin/stop-mesos-shuffle-service.sh\n",
            "spark-3.0.1-bin-hadoop2.7/sbin/stop-history-server.sh\n",
            "spark-3.0.1-bin-hadoop2.7/sbin/start-all.sh\n",
            "spark-3.0.1-bin-hadoop2.7/sbin/start-mesos-shuffle-service.sh\n",
            "spark-3.0.1-bin-hadoop2.7/sbin/slaves.sh\n",
            "spark-3.0.1-bin-hadoop2.7/sbin/spark-daemon.sh\n",
            "spark-3.0.1-bin-hadoop2.7/README.md\n",
            "spark-3.0.1-bin-hadoop2.7/licenses/\n",
            "spark-3.0.1-bin-hadoop2.7/licenses/LICENSE-zstd.txt\n",
            "spark-3.0.1-bin-hadoop2.7/licenses/LICENSE-scala.txt\n",
            "spark-3.0.1-bin-hadoop2.7/licenses/LICENSE-JTransforms.txt\n",
            "spark-3.0.1-bin-hadoop2.7/licenses/LICENSE-pyrolite.txt\n",
            "spark-3.0.1-bin-hadoop2.7/licenses/LICENSE-mustache.txt\n",
            "spark-3.0.1-bin-hadoop2.7/licenses/LICENSE-scopt.txt\n",
            "spark-3.0.1-bin-hadoop2.7/licenses/LICENSE-paranamer.txt\n",
            "spark-3.0.1-bin-hadoop2.7/licenses/LICENSE-istack-commons-runtime.txt\n",
            "spark-3.0.1-bin-hadoop2.7/licenses/LICENSE-vis-timeline.txt\n",
            "spark-3.0.1-bin-hadoop2.7/licenses/LICENSE-bootstrap.txt\n",
            "spark-3.0.1-bin-hadoop2.7/licenses/LICENSE-javax-transaction-transaction-api.txt\n",
            "spark-3.0.1-bin-hadoop2.7/licenses/LICENSE-arpack.txt\n",
            "spark-3.0.1-bin-hadoop2.7/licenses/LICENSE-xmlenc.txt\n",
            "spark-3.0.1-bin-hadoop2.7/licenses/LICENSE-zstd-jni.txt\n",
            "spark-3.0.1-bin-hadoop2.7/licenses/LICENSE-spire.txt\n",
            "spark-3.0.1-bin-hadoop2.7/licenses/LICENSE-cloudpickle.txt\n",
            "spark-3.0.1-bin-hadoop2.7/licenses/LICENSE-automaton.txt\n",
            "spark-3.0.1-bin-hadoop2.7/licenses/LICENSE-sbt-launch-lib.txt\n",
            "spark-3.0.1-bin-hadoop2.7/licenses/LICENSE-slf4j.txt\n",
            "spark-3.0.1-bin-hadoop2.7/licenses/LICENSE-jquery.txt\n",
            "spark-3.0.1-bin-hadoop2.7/licenses/LICENSE-jakarta.activation-api.txt\n",
            "spark-3.0.1-bin-hadoop2.7/licenses/LICENSE-matchMedia-polyfill.txt\n",
            "spark-3.0.1-bin-hadoop2.7/licenses/LICENSE-kryo.txt\n",
            "spark-3.0.1-bin-hadoop2.7/licenses/LICENSE-JLargeArrays.txt\n",
            "spark-3.0.1-bin-hadoop2.7/licenses/LICENSE-netlib.txt\n",
            "spark-3.0.1-bin-hadoop2.7/licenses/LICENSE-jakarta.xml.bind-api.txt\n",
            "spark-3.0.1-bin-hadoop2.7/licenses/LICENSE-graphlib-dot.txt\n",
            "spark-3.0.1-bin-hadoop2.7/licenses/LICENSE-jakarta-ws-rs-api\n",
            "spark-3.0.1-bin-hadoop2.7/licenses/LICENSE-f2j.txt\n",
            "spark-3.0.1-bin-hadoop2.7/licenses/LICENSE-d3.min.js.txt\n",
            "spark-3.0.1-bin-hadoop2.7/licenses/LICENSE-javolution.txt\n",
            "spark-3.0.1-bin-hadoop2.7/licenses/LICENSE-modernizr.txt\n",
            "spark-3.0.1-bin-hadoop2.7/licenses/LICENSE-join.txt\n",
            "spark-3.0.1-bin-hadoop2.7/licenses/LICENSE-py4j.txt\n",
            "spark-3.0.1-bin-hadoop2.7/licenses/LICENSE-javassist.html\n",
            "spark-3.0.1-bin-hadoop2.7/licenses/LICENSE-respond.txt\n",
            "spark-3.0.1-bin-hadoop2.7/licenses/LICENSE-jakarta-annotation-api\n",
            "spark-3.0.1-bin-hadoop2.7/licenses/LICENSE-datatables.txt\n",
            "spark-3.0.1-bin-hadoop2.7/licenses/LICENSE-re2j.txt\n",
            "spark-3.0.1-bin-hadoop2.7/licenses/LICENSE-janino.txt\n",
            "spark-3.0.1-bin-hadoop2.7/licenses/LICENSE-CC0.txt\n",
            "spark-3.0.1-bin-hadoop2.7/licenses/LICENSE-json-formatter.txt\n",
            "spark-3.0.1-bin-hadoop2.7/licenses/LICENSE-heapq.txt\n",
            "spark-3.0.1-bin-hadoop2.7/licenses/LICENSE-jodd.txt\n",
            "spark-3.0.1-bin-hadoop2.7/licenses/LICENSE-jsp-api.txt\n",
            "spark-3.0.1-bin-hadoop2.7/licenses/LICENSE-reflectasm.txt\n",
            "spark-3.0.1-bin-hadoop2.7/licenses/LICENSE-jline.txt\n",
            "spark-3.0.1-bin-hadoop2.7/licenses/LICENSE-pmml-model.txt\n",
            "spark-3.0.1-bin-hadoop2.7/licenses/LICENSE-machinist.txt\n",
            "spark-3.0.1-bin-hadoop2.7/licenses/LICENSE-sorttable.js.txt\n",
            "spark-3.0.1-bin-hadoop2.7/licenses/LICENSE-leveldbjni.txt\n",
            "spark-3.0.1-bin-hadoop2.7/licenses/LICENSE-protobuf.txt\n",
            "spark-3.0.1-bin-hadoop2.7/licenses/LICENSE-dagre-d3.txt\n",
            "spark-3.0.1-bin-hadoop2.7/licenses/LICENSE-jaxb-runtime.txt\n",
            "spark-3.0.1-bin-hadoop2.7/licenses/LICENSE-antlr.txt\n",
            "spark-3.0.1-bin-hadoop2.7/licenses/LICENSE-minlog.txt\n",
            "spark-3.0.1-bin-hadoop2.7/licenses/LICENSE-AnchorJS.txt\n",
            "spark-3.0.1-bin-hadoop2.7/licenses/LICENSE-dnsjava.txt\n",
            "spark-3.0.1-bin-hadoop2.7/LICENSE\n",
            "spark-3.0.1-bin-hadoop2.7/kubernetes/\n",
            "spark-3.0.1-bin-hadoop2.7/kubernetes/dockerfiles/\n",
            "spark-3.0.1-bin-hadoop2.7/kubernetes/dockerfiles/spark/\n",
            "spark-3.0.1-bin-hadoop2.7/kubernetes/dockerfiles/spark/entrypoint.sh\n",
            "spark-3.0.1-bin-hadoop2.7/kubernetes/dockerfiles/spark/bindings/\n",
            "spark-3.0.1-bin-hadoop2.7/kubernetes/dockerfiles/spark/bindings/R/\n",
            "spark-3.0.1-bin-hadoop2.7/kubernetes/dockerfiles/spark/bindings/R/Dockerfile\n",
            "spark-3.0.1-bin-hadoop2.7/kubernetes/dockerfiles/spark/bindings/python/\n",
            "spark-3.0.1-bin-hadoop2.7/kubernetes/dockerfiles/spark/bindings/python/Dockerfile\n",
            "spark-3.0.1-bin-hadoop2.7/kubernetes/dockerfiles/spark/Dockerfile\n",
            "spark-3.0.1-bin-hadoop2.7/kubernetes/tests/\n",
            "spark-3.0.1-bin-hadoop2.7/kubernetes/tests/pyfiles.py\n",
            "spark-3.0.1-bin-hadoop2.7/kubernetes/tests/worker_memory_check.py\n",
            "spark-3.0.1-bin-hadoop2.7/kubernetes/tests/py_container_checks.py\n",
            "spark-3.0.1-bin-hadoop2.7/R/\n",
            "spark-3.0.1-bin-hadoop2.7/R/lib/\n",
            "spark-3.0.1-bin-hadoop2.7/R/lib/sparkr.zip\n",
            "spark-3.0.1-bin-hadoop2.7/R/lib/SparkR/\n",
            "spark-3.0.1-bin-hadoop2.7/R/lib/SparkR/html/\n",
            "spark-3.0.1-bin-hadoop2.7/R/lib/SparkR/html/00Index.html\n",
            "spark-3.0.1-bin-hadoop2.7/R/lib/SparkR/html/R.css\n",
            "spark-3.0.1-bin-hadoop2.7/R/lib/SparkR/help/\n",
            "spark-3.0.1-bin-hadoop2.7/R/lib/SparkR/help/aliases.rds\n",
            "spark-3.0.1-bin-hadoop2.7/R/lib/SparkR/help/AnIndex\n",
            "spark-3.0.1-bin-hadoop2.7/R/lib/SparkR/help/paths.rds\n",
            "spark-3.0.1-bin-hadoop2.7/R/lib/SparkR/help/SparkR.rdx\n",
            "spark-3.0.1-bin-hadoop2.7/R/lib/SparkR/help/SparkR.rdb\n",
            "spark-3.0.1-bin-hadoop2.7/R/lib/SparkR/DESCRIPTION\n",
            "spark-3.0.1-bin-hadoop2.7/R/lib/SparkR/Meta/\n",
            "spark-3.0.1-bin-hadoop2.7/R/lib/SparkR/Meta/vignette.rds\n",
            "spark-3.0.1-bin-hadoop2.7/R/lib/SparkR/Meta/features.rds\n",
            "spark-3.0.1-bin-hadoop2.7/R/lib/SparkR/Meta/nsInfo.rds\n",
            "spark-3.0.1-bin-hadoop2.7/R/lib/SparkR/Meta/links.rds\n",
            "spark-3.0.1-bin-hadoop2.7/R/lib/SparkR/Meta/Rd.rds\n",
            "spark-3.0.1-bin-hadoop2.7/R/lib/SparkR/Meta/package.rds\n",
            "spark-3.0.1-bin-hadoop2.7/R/lib/SparkR/Meta/hsearch.rds\n",
            "spark-3.0.1-bin-hadoop2.7/R/lib/SparkR/doc/\n",
            "spark-3.0.1-bin-hadoop2.7/R/lib/SparkR/doc/sparkr-vignettes.R\n",
            "spark-3.0.1-bin-hadoop2.7/R/lib/SparkR/doc/sparkr-vignettes.Rmd\n",
            "spark-3.0.1-bin-hadoop2.7/R/lib/SparkR/doc/sparkr-vignettes.html\n",
            "spark-3.0.1-bin-hadoop2.7/R/lib/SparkR/doc/index.html\n",
            "spark-3.0.1-bin-hadoop2.7/R/lib/SparkR/INDEX\n",
            "spark-3.0.1-bin-hadoop2.7/R/lib/SparkR/profile/\n",
            "spark-3.0.1-bin-hadoop2.7/R/lib/SparkR/profile/general.R\n",
            "spark-3.0.1-bin-hadoop2.7/R/lib/SparkR/profile/shell.R\n",
            "spark-3.0.1-bin-hadoop2.7/R/lib/SparkR/R/\n",
            "spark-3.0.1-bin-hadoop2.7/R/lib/SparkR/R/SparkR\n",
            "spark-3.0.1-bin-hadoop2.7/R/lib/SparkR/R/SparkR.rdx\n",
            "spark-3.0.1-bin-hadoop2.7/R/lib/SparkR/R/SparkR.rdb\n",
            "spark-3.0.1-bin-hadoop2.7/R/lib/SparkR/worker/\n",
            "spark-3.0.1-bin-hadoop2.7/R/lib/SparkR/worker/worker.R\n",
            "spark-3.0.1-bin-hadoop2.7/R/lib/SparkR/worker/daemon.R\n",
            "spark-3.0.1-bin-hadoop2.7/R/lib/SparkR/NAMESPACE\n",
            "spark-3.0.1-bin-hadoop2.7/R/lib/SparkR/tests/\n",
            "spark-3.0.1-bin-hadoop2.7/R/lib/SparkR/tests/testthat/\n",
            "spark-3.0.1-bin-hadoop2.7/R/lib/SparkR/tests/testthat/test_basic.R\n",
            "spark-3.0.1-bin-hadoop2.7/NOTICE\n",
            "spark-3.0.1-bin-hadoop2.7/jars/\n",
            "spark-3.0.1-bin-hadoop2.7/jars/pyrolite-4.30.jar\n",
            "spark-3.0.1-bin-hadoop2.7/jars/parquet-hadoop-1.10.1.jar\n",
            "spark-3.0.1-bin-hadoop2.7/jars/apacheds-kerberos-codec-2.0.0-M15.jar\n",
            "spark-3.0.1-bin-hadoop2.7/jars/hive-shims-2.3.7.jar\n",
            "spark-3.0.1-bin-hadoop2.7/jars/jackson-databind-2.10.0.jar\n",
            "spark-3.0.1-bin-hadoop2.7/jars/spire_2.12-0.17.0-M1.jar\n",
            "spark-3.0.1-bin-hadoop2.7/jars/jul-to-slf4j-1.7.30.jar\n",
            "spark-3.0.1-bin-hadoop2.7/jars/json4s-ast_2.12-3.6.6.jar\n",
            "spark-3.0.1-bin-hadoop2.7/jars/jersey-media-jaxb-2.30.jar\n",
            "spark-3.0.1-bin-hadoop2.7/jars/hadoop-common-2.7.4.jar\n",
            "spark-3.0.1-bin-hadoop2.7/jars/xbean-asm7-shaded-4.15.jar\n",
            "spark-3.0.1-bin-hadoop2.7/jars/spark-catalyst_2.12-3.0.1.jar\n",
            "spark-3.0.1-bin-hadoop2.7/jars/commons-logging-1.1.3.jar\n",
            "spark-3.0.1-bin-hadoop2.7/jars/RoaringBitmap-0.7.45.jar\n",
            "spark-3.0.1-bin-hadoop2.7/jars/hadoop-mapreduce-client-common-2.7.4.jar\n",
            "spark-3.0.1-bin-hadoop2.7/jars/jakarta.inject-2.6.1.jar\n",
            "spark-3.0.1-bin-hadoop2.7/jars/jackson-xc-1.9.13.jar\n",
            "spark-3.0.1-bin-hadoop2.7/jars/flatbuffers-java-1.9.0.jar\n",
            "spark-3.0.1-bin-hadoop2.7/jars/kubernetes-model-common-4.9.2.jar\n",
            "spark-3.0.1-bin-hadoop2.7/jars/json-1.8.jar\n",
            "spark-3.0.1-bin-hadoop2.7/jars/jaxb-runtime-2.3.2.jar\n",
            "spark-3.0.1-bin-hadoop2.7/jars/hadoop-hdfs-2.7.4.jar\n",
            "spark-3.0.1-bin-hadoop2.7/jars/hadoop-client-2.7.4.jar\n",
            "spark-3.0.1-bin-hadoop2.7/jars/mesos-1.4.0-shaded-protobuf.jar\n",
            "spark-3.0.1-bin-hadoop2.7/jars/orc-core-1.5.10.jar\n",
            "spark-3.0.1-bin-hadoop2.7/jars/commons-configuration-1.6.jar\n",
            "spark-3.0.1-bin-hadoop2.7/jars/chill_2.12-0.9.5.jar\n",
            "spark-3.0.1-bin-hadoop2.7/jars/hadoop-yarn-api-2.7.4.jar\n",
            "spark-3.0.1-bin-hadoop2.7/jars/leveldbjni-all-1.8.jar\n",
            "spark-3.0.1-bin-hadoop2.7/jars/kryo-shaded-4.0.2.jar\n",
            "spark-3.0.1-bin-hadoop2.7/jars/jackson-annotations-2.10.0.jar\n",
            "spark-3.0.1-bin-hadoop2.7/jars/hk2-api-2.6.1.jar\n",
            "spark-3.0.1-bin-hadoop2.7/jars/hadoop-annotations-2.7.4.jar\n",
            "spark-3.0.1-bin-hadoop2.7/jars/hadoop-yarn-client-2.7.4.jar\n",
            "spark-3.0.1-bin-hadoop2.7/jars/hk2-locator-2.6.1.jar\n",
            "spark-3.0.1-bin-hadoop2.7/jars/commons-beanutils-1.9.4.jar\n",
            "spark-3.0.1-bin-hadoop2.7/jars/osgi-resource-locator-1.0.3.jar\n",
            "spark-3.0.1-bin-hadoop2.7/jars/antlr4-runtime-4.7.1.jar\n",
            "spark-3.0.1-bin-hadoop2.7/jars/jersey-client-2.30.jar\n",
            "spark-3.0.1-bin-hadoop2.7/jars/json4s-scalap_2.12-3.6.6.jar\n",
            "spark-3.0.1-bin-hadoop2.7/jars/joda-time-2.10.5.jar\n",
            "spark-3.0.1-bin-hadoop2.7/jars/okio-1.15.0.jar\n",
            "spark-3.0.1-bin-hadoop2.7/jars/libthrift-0.12.0.jar\n",
            "spark-3.0.1-bin-hadoop2.7/jars/hadoop-yarn-server-web-proxy-2.7.4.jar\n",
            "spark-3.0.1-bin-hadoop2.7/jars/gson-2.2.4.jar\n",
            "spark-3.0.1-bin-hadoop2.7/jars/jta-1.1.jar\n",
            "spark-3.0.1-bin-hadoop2.7/jars/parquet-jackson-1.10.1.jar\n",
            "spark-3.0.1-bin-hadoop2.7/jars/super-csv-2.2.0.jar\n",
            "spark-3.0.1-bin-hadoop2.7/jars/commons-httpclient-3.1.jar\n",
            "spark-3.0.1-bin-hadoop2.7/jars/javax.jdo-3.2.0-m3.jar\n",
            "spark-3.0.1-bin-hadoop2.7/jars/httpclient-4.5.6.jar\n",
            "spark-3.0.1-bin-hadoop2.7/jars/datanucleus-api-jdo-4.2.4.jar\n",
            "spark-3.0.1-bin-hadoop2.7/jars/aopalliance-1.0.jar\n",
            "spark-3.0.1-bin-hadoop2.7/jars/commons-digester-1.8.jar\n",
            "spark-3.0.1-bin-hadoop2.7/jars/hadoop-yarn-common-2.7.4.jar\n",
            "spark-3.0.1-bin-hadoop2.7/jars/jetty-6.1.26.jar\n",
            "spark-3.0.1-bin-hadoop2.7/jars/slf4j-api-1.7.30.jar\n",
            "spark-3.0.1-bin-hadoop2.7/jars/univocity-parsers-2.9.0.jar\n",
            "spark-3.0.1-bin-hadoop2.7/jars/scala-compiler-2.12.10.jar\n",
            "spark-3.0.1-bin-hadoop2.7/jars/transaction-api-1.1.jar\n",
            "spark-3.0.1-bin-hadoop2.7/jars/curator-client-2.7.1.jar\n",
            "spark-3.0.1-bin-hadoop2.7/jars/hive-serde-2.3.7.jar\n",
            "spark-3.0.1-bin-hadoop2.7/jars/JLargeArrays-1.5.jar\n",
            "spark-3.0.1-bin-hadoop2.7/jars/libfb303-0.9.3.jar\n",
            "spark-3.0.1-bin-hadoop2.7/jars/jakarta.ws.rs-api-2.1.6.jar\n",
            "spark-3.0.1-bin-hadoop2.7/jars/hive-shims-0.23-2.3.7.jar\n",
            "spark-3.0.1-bin-hadoop2.7/jars/snappy-java-1.1.7.5.jar\n",
            "spark-3.0.1-bin-hadoop2.7/jars/compress-lzf-1.0.3.jar\n",
            "spark-3.0.1-bin-hadoop2.7/jars/commons-io-2.4.jar\n",
            "spark-3.0.1-bin-hadoop2.7/jars/hadoop-yarn-server-common-2.7.4.jar\n",
            "spark-3.0.1-bin-hadoop2.7/jars/snakeyaml-1.24.jar\n",
            "spark-3.0.1-bin-hadoop2.7/jars/spark-hive-thriftserver_2.12-3.0.1.jar\n",
            "spark-3.0.1-bin-hadoop2.7/jars/breeze-macros_2.12-1.0.jar\n",
            "spark-3.0.1-bin-hadoop2.7/jars/metrics-json-4.1.1.jar\n",
            "spark-3.0.1-bin-hadoop2.7/jars/hk2-utils-2.6.1.jar\n",
            "spark-3.0.1-bin-hadoop2.7/jars/bonecp-0.8.0.RELEASE.jar\n",
            "spark-3.0.1-bin-hadoop2.7/jars/automaton-1.11-8.jar\n",
            "spark-3.0.1-bin-hadoop2.7/jars/avro-ipc-1.8.2.jar\n",
            "spark-3.0.1-bin-hadoop2.7/jars/jetty-util-6.1.26.jar\n",
            "spark-3.0.1-bin-hadoop2.7/jars/spark-core_2.12-3.0.1.jar\n",
            "spark-3.0.1-bin-hadoop2.7/jars/htrace-core-3.1.0-incubating.jar\n",
            "spark-3.0.1-bin-hadoop2.7/jars/okhttp-3.12.6.jar\n",
            "spark-3.0.1-bin-hadoop2.7/jars/jackson-datatype-jsr310-2.10.3.jar\n",
            "spark-3.0.1-bin-hadoop2.7/jars/metrics-jvm-4.1.1.jar\n",
            "spark-3.0.1-bin-hadoop2.7/jars/avro-mapred-1.8.2-hadoop2.jar\n",
            "spark-3.0.1-bin-hadoop2.7/jars/guava-14.0.1.jar\n",
            "spark-3.0.1-bin-hadoop2.7/jars/algebra_2.12-2.0.0-M2.jar\n",
            "spark-3.0.1-bin-hadoop2.7/jars/protobuf-java-2.5.0.jar\n",
            "spark-3.0.1-bin-hadoop2.7/jars/stream-2.9.6.jar\n",
            "spark-3.0.1-bin-hadoop2.7/jars/spark-tags_2.12-3.0.1.jar\n",
            "spark-3.0.1-bin-hadoop2.7/jars/metrics-core-4.1.1.jar\n",
            "spark-3.0.1-bin-hadoop2.7/jars/stax-api-1.0.1.jar\n",
            "spark-3.0.1-bin-hadoop2.7/jars/jackson-module-scala_2.12-2.10.0.jar\n",
            "spark-3.0.1-bin-hadoop2.7/jars/commons-cli-1.2.jar\n",
            "spark-3.0.1-bin-hadoop2.7/jars/spark-kvstore_2.12-3.0.1.jar\n",
            "spark-3.0.1-bin-hadoop2.7/jars/aopalliance-repackaged-2.6.1.jar\n",
            "spark-3.0.1-bin-hadoop2.7/jars/arrow-vector-0.15.1.jar\n",
            "spark-3.0.1-bin-hadoop2.7/jars/datanucleus-core-4.1.17.jar\n",
            "spark-3.0.1-bin-hadoop2.7/jars/spark-network-shuffle_2.12-3.0.1.jar\n",
            "spark-3.0.1-bin-hadoop2.7/jars/lz4-java-1.7.1.jar\n",
            "spark-3.0.1-bin-hadoop2.7/jars/hive-jdbc-2.3.7.jar\n",
            "spark-3.0.1-bin-hadoop2.7/jars/janino-3.0.16.jar\n",
            "spark-3.0.1-bin-hadoop2.7/jars/jackson-jaxrs-1.9.13.jar\n",
            "spark-3.0.1-bin-hadoop2.7/jars/ivy-2.4.0.jar\n",
            "spark-3.0.1-bin-hadoop2.7/jars/commons-lang3-3.9.jar\n",
            "spark-3.0.1-bin-hadoop2.7/jars/arpack_combined_all-0.1.jar\n",
            "spark-3.0.1-bin-hadoop2.7/jars/spark-hive_2.12-3.0.1.jar\n",
            "spark-3.0.1-bin-hadoop2.7/jars/xml-apis-1.4.01.jar\n",
            "spark-3.0.1-bin-hadoop2.7/jars/stax-api-1.0-2.jar\n",
            "spark-3.0.1-bin-hadoop2.7/jars/derby-10.12.1.1.jar\n",
            "spark-3.0.1-bin-hadoop2.7/jars/commons-text-1.6.jar\n",
            "spark-3.0.1-bin-hadoop2.7/jars/macro-compat_2.12-1.1.1.jar\n",
            "spark-3.0.1-bin-hadoop2.7/jars/hive-beeline-2.3.7.jar\n",
            "spark-3.0.1-bin-hadoop2.7/jars/slf4j-log4j12-1.7.30.jar\n",
            "spark-3.0.1-bin-hadoop2.7/jars/scala-collection-compat_2.12-2.1.1.jar\n",
            "spark-3.0.1-bin-hadoop2.7/jars/hive-llap-common-2.3.7.jar\n",
            "spark-3.0.1-bin-hadoop2.7/jars/jakarta.xml.bind-api-2.3.2.jar\n",
            "spark-3.0.1-bin-hadoop2.7/jars/hive-shims-common-2.3.7.jar\n",
            "spark-3.0.1-bin-hadoop2.7/jars/generex-1.0.2.jar\n",
            "spark-3.0.1-bin-hadoop2.7/jars/objenesis-2.5.1.jar\n",
            "spark-3.0.1-bin-hadoop2.7/jars/commons-math3-3.4.1.jar\n",
            "spark-3.0.1-bin-hadoop2.7/jars/metrics-graphite-4.1.1.jar\n",
            "spark-3.0.1-bin-hadoop2.7/jars/logging-interceptor-3.12.6.jar\n",
            "spark-3.0.1-bin-hadoop2.7/jars/commons-codec-1.10.jar\n",
            "spark-3.0.1-bin-hadoop2.7/jars/HikariCP-2.5.1.jar\n",
            "spark-3.0.1-bin-hadoop2.7/jars/jackson-core-asl-1.9.13.jar\n",
            "spark-3.0.1-bin-hadoop2.7/jars/core-1.1.2.jar\n",
            "spark-3.0.1-bin-hadoop2.7/jars/hadoop-mapreduce-client-jobclient-2.7.4.jar\n",
            "spark-3.0.1-bin-hadoop2.7/jars/spark-tags_2.12-3.0.1-tests.jar\n",
            "spark-3.0.1-bin-hadoop2.7/jars/arrow-format-0.15.1.jar\n",
            "spark-3.0.1-bin-hadoop2.7/jars/orc-shims-1.5.10.jar\n",
            "spark-3.0.1-bin-hadoop2.7/jars/jdo-api-3.0.1.jar\n",
            "spark-3.0.1-bin-hadoop2.7/jars/log4j-1.2.17.jar\n",
            "spark-3.0.1-bin-hadoop2.7/jars/paranamer-2.8.jar\n",
            "spark-3.0.1-bin-hadoop2.7/jars/jodd-core-3.5.2.jar\n",
            "spark-3.0.1-bin-hadoop2.7/jars/kubernetes-model-4.9.2.jar\n",
            "spark-3.0.1-bin-hadoop2.7/jars/curator-framework-2.7.1.jar\n",
            "spark-3.0.1-bin-hadoop2.7/jars/spire-util_2.12-0.17.0-M1.jar\n",
            "spark-3.0.1-bin-hadoop2.7/jars/jcl-over-slf4j-1.7.30.jar\n",
            "spark-3.0.1-bin-hadoop2.7/jars/shapeless_2.12-2.3.3.jar\n",
            "spark-3.0.1-bin-hadoop2.7/jars/hive-metastore-2.3.7.jar\n",
            "spark-3.0.1-bin-hadoop2.7/jars/parquet-common-1.10.1.jar\n",
            "spark-3.0.1-bin-hadoop2.7/jars/zstd-jni-1.4.4-3.jar\n",
            "spark-3.0.1-bin-hadoop2.7/jars/hive-vector-code-gen-2.3.7.jar\n",
            "spark-3.0.1-bin-hadoop2.7/jars/jakarta.validation-api-2.0.2.jar\n",
            "spark-3.0.1-bin-hadoop2.7/jars/jersey-container-servlet-core-2.30.jar\n",
            "spark-3.0.1-bin-hadoop2.7/jars/scala-parser-combinators_2.12-1.1.2.jar\n",
            "spark-3.0.1-bin-hadoop2.7/jars/curator-recipes-2.7.1.jar\n",
            "spark-3.0.1-bin-hadoop2.7/jars/javassist-3.25.0-GA.jar\n",
            "spark-3.0.1-bin-hadoop2.7/jars/commons-lang-2.6.jar\n",
            "spark-3.0.1-bin-hadoop2.7/jars/hive-shims-scheduler-2.3.7.jar\n",
            "spark-3.0.1-bin-hadoop2.7/jars/spire-macros_2.12-0.17.0-M1.jar\n",
            "spark-3.0.1-bin-hadoop2.7/jars/xercesImpl-2.12.0.jar\n",
            "spark-3.0.1-bin-hadoop2.7/jars/parquet-format-2.4.0.jar\n",
            "spark-3.0.1-bin-hadoop2.7/jars/commons-compiler-3.0.16.jar\n",
            "spark-3.0.1-bin-hadoop2.7/jars/opencsv-2.3.jar\n",
            "spark-3.0.1-bin-hadoop2.7/jars/guice-servlet-3.0.jar\n",
            "spark-3.0.1-bin-hadoop2.7/jars/jakarta.annotation-api-1.3.5.jar\n",
            "spark-3.0.1-bin-hadoop2.7/jars/jpam-1.1.jar\n",
            "spark-3.0.1-bin-hadoop2.7/jars/py4j-0.10.9.jar\n",
            "spark-3.0.1-bin-hadoop2.7/jars/istack-commons-runtime-3.0.8.jar\n",
            "spark-3.0.1-bin-hadoop2.7/jars/spire-platform_2.12-0.17.0-M1.jar\n",
            "spark-3.0.1-bin-hadoop2.7/jars/datanucleus-rdbms-4.1.19.jar\n",
            "spark-3.0.1-bin-hadoop2.7/jars/spark-repl_2.12-3.0.1.jar\n",
            "spark-3.0.1-bin-hadoop2.7/jars/spark-mesos_2.12-3.0.1.jar\n",
            "spark-3.0.1-bin-hadoop2.7/jars/json4s-jackson_2.12-3.6.6.jar\n",
            "spark-3.0.1-bin-hadoop2.7/jars/jackson-module-paranamer-2.10.0.jar\n",
            "spark-3.0.1-bin-hadoop2.7/jars/jetty-sslengine-6.1.26.jar\n",
            "spark-3.0.1-bin-hadoop2.7/jars/hive-cli-2.3.7.jar\n",
            "spark-3.0.1-bin-hadoop2.7/jars/javax.inject-1.jar\n",
            "spark-3.0.1-bin-hadoop2.7/jars/jersey-container-servlet-2.30.jar\n",
            "spark-3.0.1-bin-hadoop2.7/jars/jersey-common-2.30.jar\n",
            "spark-3.0.1-bin-hadoop2.7/jars/api-asn1-api-1.0.0-M20.jar\n",
            "spark-3.0.1-bin-hadoop2.7/jars/commons-pool-1.5.4.jar\n",
            "spark-3.0.1-bin-hadoop2.7/jars/shims-0.7.45.jar\n",
            "spark-3.0.1-bin-hadoop2.7/jars/jackson-core-2.10.0.jar\n",
            "spark-3.0.1-bin-hadoop2.7/jars/jline-2.14.6.jar\n",
            "spark-3.0.1-bin-hadoop2.7/jars/jsp-api-2.1.jar\n",
            "spark-3.0.1-bin-hadoop2.7/jars/jakarta.activation-api-1.2.1.jar\n",
            "spark-3.0.1-bin-hadoop2.7/jars/httpcore-4.4.12.jar\n",
            "spark-3.0.1-bin-hadoop2.7/jars/ST4-4.0.4.jar\n",
            "spark-3.0.1-bin-hadoop2.7/jars/metrics-jmx-4.1.1.jar\n",
            "spark-3.0.1-bin-hadoop2.7/jars/apacheds-i18n-2.0.0-M15.jar\n",
            "spark-3.0.1-bin-hadoop2.7/jars/jackson-module-jaxb-annotations-2.10.0.jar\n",
            "spark-3.0.1-bin-hadoop2.7/jars/jersey-hk2-2.30.jar\n",
            "spark-3.0.1-bin-hadoop2.7/jars/hadoop-auth-2.7.4.jar\n",
            "spark-3.0.1-bin-hadoop2.7/jars/orc-mapreduce-1.5.10.jar\n",
            "spark-3.0.1-bin-hadoop2.7/jars/jersey-server-2.30.jar\n",
            "spark-3.0.1-bin-hadoop2.7/jars/JTransforms-3.1.jar\n",
            "spark-3.0.1-bin-hadoop2.7/jars/javax.servlet-api-3.1.0.jar\n",
            "spark-3.0.1-bin-hadoop2.7/jars/spark-graphx_2.12-3.0.1.jar\n",
            "spark-3.0.1-bin-hadoop2.7/jars/spark-unsafe_2.12-3.0.1.jar\n",
            "spark-3.0.1-bin-hadoop2.7/jars/guice-3.0.jar\n",
            "spark-3.0.1-bin-hadoop2.7/jars/arrow-memory-0.15.1.jar\n",
            "spark-3.0.1-bin-hadoop2.7/jars/spark-sketch_2.12-3.0.1.jar\n",
            "spark-3.0.1-bin-hadoop2.7/jars/hive-exec-2.3.7-core.jar\n",
            "spark-3.0.1-bin-hadoop2.7/jars/machinist_2.12-0.6.8.jar\n",
            "spark-3.0.1-bin-hadoop2.7/jars/antlr-runtime-3.5.2.jar\n",
            "spark-3.0.1-bin-hadoop2.7/jars/spark-streaming_2.12-3.0.1.jar\n",
            "spark-3.0.1-bin-hadoop2.7/jars/commons-net-3.1.jar\n",
            "spark-3.0.1-bin-hadoop2.7/jars/audience-annotations-0.5.0.jar\n",
            "spark-3.0.1-bin-hadoop2.7/jars/velocity-1.5.jar\n",
            "spark-3.0.1-bin-hadoop2.7/jars/hive-storage-api-2.7.1.jar\n",
            "spark-3.0.1-bin-hadoop2.7/jars/commons-compress-1.8.1.jar\n",
            "spark-3.0.1-bin-hadoop2.7/jars/breeze_2.12-1.0.jar\n",
            "spark-3.0.1-bin-hadoop2.7/jars/xmlenc-0.52.jar\n",
            "spark-3.0.1-bin-hadoop2.7/jars/hadoop-mapreduce-client-core-2.7.4.jar\n",
            "spark-3.0.1-bin-hadoop2.7/jars/netty-all-4.1.47.Final.jar\n",
            "spark-3.0.1-bin-hadoop2.7/jars/zjsonpatch-0.3.0.jar\n",
            "spark-3.0.1-bin-hadoop2.7/jars/chill-java-0.9.5.jar\n",
            "spark-3.0.1-bin-hadoop2.7/jars/activation-1.1.1.jar\n",
            "spark-3.0.1-bin-hadoop2.7/jars/spark-mllib_2.12-3.0.1.jar\n",
            "spark-3.0.1-bin-hadoop2.7/jars/dropwizard-metrics-hadoop-metrics2-reporter-0.1.2.jar\n",
            "spark-3.0.1-bin-hadoop2.7/jars/spark-launcher_2.12-3.0.1.jar\n",
            "spark-3.0.1-bin-hadoop2.7/jars/api-util-1.0.0-M20.jar\n",
            "spark-3.0.1-bin-hadoop2.7/jars/spark-network-common_2.12-3.0.1.jar\n",
            "spark-3.0.1-bin-hadoop2.7/jars/jackson-mapper-asl-1.9.13.jar\n",
            "spark-3.0.1-bin-hadoop2.7/jars/oro-2.0.8.jar\n",
            "spark-3.0.1-bin-hadoop2.7/jars/kubernetes-client-4.9.2.jar\n",
            "spark-3.0.1-bin-hadoop2.7/jars/jsr305-3.0.0.jar\n",
            "spark-3.0.1-bin-hadoop2.7/jars/jaxb-api-2.2.2.jar\n",
            "spark-3.0.1-bin-hadoop2.7/jars/spark-yarn_2.12-3.0.1.jar\n",
            "spark-3.0.1-bin-hadoop2.7/jars/spark-mllib-local_2.12-3.0.1.jar\n",
            "spark-3.0.1-bin-hadoop2.7/jars/json4s-core_2.12-3.6.6.jar\n",
            "spark-3.0.1-bin-hadoop2.7/jars/xz-1.5.jar\n",
            "spark-3.0.1-bin-hadoop2.7/jars/zookeeper-3.4.14.jar\n",
            "spark-3.0.1-bin-hadoop2.7/jars/threeten-extra-1.5.0.jar\n",
            "spark-3.0.1-bin-hadoop2.7/jars/parquet-column-1.10.1.jar\n",
            "spark-3.0.1-bin-hadoop2.7/jars/hadoop-mapreduce-client-shuffle-2.7.4.jar\n",
            "spark-3.0.1-bin-hadoop2.7/jars/spark-sql_2.12-3.0.1.jar\n",
            "spark-3.0.1-bin-hadoop2.7/jars/commons-crypto-1.0.0.jar\n",
            "spark-3.0.1-bin-hadoop2.7/jars/javolution-5.5.1.jar\n",
            "spark-3.0.1-bin-hadoop2.7/jars/aircompressor-0.10.jar\n",
            "spark-3.0.1-bin-hadoop2.7/jars/scala-library-2.12.10.jar\n",
            "spark-3.0.1-bin-hadoop2.7/jars/hadoop-mapreduce-client-app-2.7.4.jar\n",
            "spark-3.0.1-bin-hadoop2.7/jars/hive-common-2.3.7.jar\n",
            "spark-3.0.1-bin-hadoop2.7/jars/commons-dbcp-1.4.jar\n",
            "spark-3.0.1-bin-hadoop2.7/jars/parquet-encoding-1.10.1.jar\n",
            "spark-3.0.1-bin-hadoop2.7/jars/commons-collections-3.2.2.jar\n",
            "spark-3.0.1-bin-hadoop2.7/jars/scala-xml_2.12-1.2.0.jar\n",
            "spark-3.0.1-bin-hadoop2.7/jars/jackson-dataformat-yaml-2.10.0.jar\n",
            "spark-3.0.1-bin-hadoop2.7/jars/cats-kernel_2.12-2.0.0-M4.jar\n",
            "spark-3.0.1-bin-hadoop2.7/jars/scala-reflect-2.12.10.jar\n",
            "spark-3.0.1-bin-hadoop2.7/jars/avro-1.8.2.jar\n",
            "spark-3.0.1-bin-hadoop2.7/jars/minlog-1.3.0.jar\n",
            "spark-3.0.1-bin-hadoop2.7/jars/spark-kubernetes_2.12-3.0.1.jar\n",
            "spark-3.0.1-bin-hadoop2.7/python/\n",
            "spark-3.0.1-bin-hadoop2.7/python/setup.py\n",
            "spark-3.0.1-bin-hadoop2.7/python/pyspark/\n",
            "spark-3.0.1-bin-hadoop2.7/python/pyspark/ml/\n",
            "spark-3.0.1-bin-hadoop2.7/python/pyspark/ml/functions.py\n",
            "spark-3.0.1-bin-hadoop2.7/python/pyspark/ml/util.py\n",
            "spark-3.0.1-bin-hadoop2.7/python/pyspark/ml/regression.py\n",
            "spark-3.0.1-bin-hadoop2.7/python/pyspark/ml/evaluation.py\n",
            "spark-3.0.1-bin-hadoop2.7/python/pyspark/ml/feature.py\n",
            "spark-3.0.1-bin-hadoop2.7/python/pyspark/ml/base.py\n",
            "spark-3.0.1-bin-hadoop2.7/python/pyspark/ml/tuning.py\n",
            "spark-3.0.1-bin-hadoop2.7/python/pyspark/ml/clustering.py\n",
            "spark-3.0.1-bin-hadoop2.7/python/pyspark/ml/stat.py\n",
            "spark-3.0.1-bin-hadoop2.7/python/pyspark/ml/image.py\n",
            "spark-3.0.1-bin-hadoop2.7/python/pyspark/ml/fpm.py\n",
            "spark-3.0.1-bin-hadoop2.7/python/pyspark/ml/recommendation.py\n",
            "spark-3.0.1-bin-hadoop2.7/python/pyspark/ml/pipeline.py\n",
            "spark-3.0.1-bin-hadoop2.7/python/pyspark/ml/param/\n",
            "spark-3.0.1-bin-hadoop2.7/python/pyspark/ml/param/_shared_params_code_gen.py\n",
            "spark-3.0.1-bin-hadoop2.7/python/pyspark/ml/param/__init__.py\n",
            "spark-3.0.1-bin-hadoop2.7/python/pyspark/ml/param/shared.py\n",
            "spark-3.0.1-bin-hadoop2.7/python/pyspark/ml/common.py\n",
            "spark-3.0.1-bin-hadoop2.7/python/pyspark/ml/linalg/\n",
            "spark-3.0.1-bin-hadoop2.7/python/pyspark/ml/linalg/__init__.py\n",
            "spark-3.0.1-bin-hadoop2.7/python/pyspark/ml/classification.py\n",
            "spark-3.0.1-bin-hadoop2.7/python/pyspark/ml/tree.py\n",
            "spark-3.0.1-bin-hadoop2.7/python/pyspark/ml/wrapper.py\n",
            "spark-3.0.1-bin-hadoop2.7/python/pyspark/ml/__init__.py\n",
            "spark-3.0.1-bin-hadoop2.7/python/pyspark/ml/tests/\n",
            "spark-3.0.1-bin-hadoop2.7/python/pyspark/ml/tests/test_wrapper.py\n",
            "spark-3.0.1-bin-hadoop2.7/python/pyspark/ml/tests/test_tuning.py\n",
            "spark-3.0.1-bin-hadoop2.7/python/pyspark/ml/tests/test_base.py\n",
            "spark-3.0.1-bin-hadoop2.7/python/pyspark/ml/tests/test_evaluation.py\n",
            "spark-3.0.1-bin-hadoop2.7/python/pyspark/ml/tests/test_linalg.py\n",
            "spark-3.0.1-bin-hadoop2.7/python/pyspark/ml/tests/test_image.py\n",
            "spark-3.0.1-bin-hadoop2.7/python/pyspark/ml/tests/test_persistence.py\n",
            "spark-3.0.1-bin-hadoop2.7/python/pyspark/ml/tests/test_feature.py\n",
            "spark-3.0.1-bin-hadoop2.7/python/pyspark/ml/tests/test_param.py\n",
            "spark-3.0.1-bin-hadoop2.7/python/pyspark/ml/tests/test_algorithms.py\n",
            "spark-3.0.1-bin-hadoop2.7/python/pyspark/ml/tests/test_pipeline.py\n",
            "spark-3.0.1-bin-hadoop2.7/python/pyspark/ml/tests/__init__.py\n",
            "spark-3.0.1-bin-hadoop2.7/python/pyspark/ml/tests/test_training_summary.py\n",
            "spark-3.0.1-bin-hadoop2.7/python/pyspark/ml/tests/test_stat.py\n",
            "spark-3.0.1-bin-hadoop2.7/python/pyspark/statcounter.py\n",
            "spark-3.0.1-bin-hadoop2.7/python/pyspark/status.py\n",
            "spark-3.0.1-bin-hadoop2.7/python/pyspark/java_gateway.py\n",
            "spark-3.0.1-bin-hadoop2.7/python/pyspark/mllib/\n",
            "spark-3.0.1-bin-hadoop2.7/python/pyspark/mllib/util.py\n",
            "spark-3.0.1-bin-hadoop2.7/python/pyspark/mllib/regression.py\n",
            "spark-3.0.1-bin-hadoop2.7/python/pyspark/mllib/evaluation.py\n",
            "spark-3.0.1-bin-hadoop2.7/python/pyspark/mllib/feature.py\n",
            "spark-3.0.1-bin-hadoop2.7/python/pyspark/mllib/clustering.py\n",
            "spark-3.0.1-bin-hadoop2.7/python/pyspark/mllib/stat/\n",
            "spark-3.0.1-bin-hadoop2.7/python/pyspark/mllib/stat/test.py\n",
            "spark-3.0.1-bin-hadoop2.7/python/pyspark/mllib/stat/_statistics.py\n",
            "spark-3.0.1-bin-hadoop2.7/python/pyspark/mllib/stat/distribution.py\n",
            "spark-3.0.1-bin-hadoop2.7/python/pyspark/mllib/stat/KernelDensity.py\n",
            "spark-3.0.1-bin-hadoop2.7/python/pyspark/mllib/stat/__init__.py\n",
            "spark-3.0.1-bin-hadoop2.7/python/pyspark/mllib/fpm.py\n",
            "spark-3.0.1-bin-hadoop2.7/python/pyspark/mllib/recommendation.py\n",
            "spark-3.0.1-bin-hadoop2.7/python/pyspark/mllib/common.py\n",
            "spark-3.0.1-bin-hadoop2.7/python/pyspark/mllib/linalg/\n",
            "spark-3.0.1-bin-hadoop2.7/python/pyspark/mllib/linalg/distributed.py\n",
            "spark-3.0.1-bin-hadoop2.7/python/pyspark/mllib/linalg/__init__.py\n",
            "spark-3.0.1-bin-hadoop2.7/python/pyspark/mllib/classification.py\n",
            "spark-3.0.1-bin-hadoop2.7/python/pyspark/mllib/tree.py\n",
            "spark-3.0.1-bin-hadoop2.7/python/pyspark/mllib/__init__.py\n",
            "spark-3.0.1-bin-hadoop2.7/python/pyspark/mllib/random.py\n",
            "spark-3.0.1-bin-hadoop2.7/python/pyspark/mllib/tests/\n",
            "spark-3.0.1-bin-hadoop2.7/python/pyspark/mllib/tests/test_util.py\n",
            "spark-3.0.1-bin-hadoop2.7/python/pyspark/mllib/tests/test_linalg.py\n",
            "spark-3.0.1-bin-hadoop2.7/python/pyspark/mllib/tests/test_feature.py\n",
            "spark-3.0.1-bin-hadoop2.7/python/pyspark/mllib/tests/test_algorithms.py\n",
            "spark-3.0.1-bin-hadoop2.7/python/pyspark/mllib/tests/__init__.py\n",
            "spark-3.0.1-bin-hadoop2.7/python/pyspark/mllib/tests/test_streaming_algorithms.py\n",
            "spark-3.0.1-bin-hadoop2.7/python/pyspark/mllib/tests/test_stat.py\n",
            "spark-3.0.1-bin-hadoop2.7/python/pyspark/resource.py\n",
            "spark-3.0.1-bin-hadoop2.7/python/pyspark/serializers.py\n",
            "spark-3.0.1-bin-hadoop2.7/python/pyspark/util.py\n",
            "spark-3.0.1-bin-hadoop2.7/python/pyspark/daemon.py\n",
            "spark-3.0.1-bin-hadoop2.7/python/pyspark/context.py\n",
            "spark-3.0.1-bin-hadoop2.7/python/pyspark/broadcast.py\n",
            "spark-3.0.1-bin-hadoop2.7/python/pyspark/streaming/\n",
            "spark-3.0.1-bin-hadoop2.7/python/pyspark/streaming/util.py\n",
            "spark-3.0.1-bin-hadoop2.7/python/pyspark/streaming/listener.py\n",
            "spark-3.0.1-bin-hadoop2.7/python/pyspark/streaming/kinesis.py\n",
            "spark-3.0.1-bin-hadoop2.7/python/pyspark/streaming/context.py\n",
            "spark-3.0.1-bin-hadoop2.7/python/pyspark/streaming/dstream.py\n",
            "spark-3.0.1-bin-hadoop2.7/python/pyspark/streaming/__init__.py\n",
            "spark-3.0.1-bin-hadoop2.7/python/pyspark/streaming/tests/\n",
            "spark-3.0.1-bin-hadoop2.7/python/pyspark/streaming/tests/test_kinesis.py\n",
            "spark-3.0.1-bin-hadoop2.7/python/pyspark/streaming/tests/test_context.py\n",
            "spark-3.0.1-bin-hadoop2.7/python/pyspark/streaming/tests/test_dstream.py\n",
            "spark-3.0.1-bin-hadoop2.7/python/pyspark/streaming/tests/test_listener.py\n",
            "spark-3.0.1-bin-hadoop2.7/python/pyspark/streaming/tests/__init__.py\n",
            "spark-3.0.1-bin-hadoop2.7/python/pyspark/testing/\n",
            "spark-3.0.1-bin-hadoop2.7/python/pyspark/testing/mllibutils.py\n",
            "spark-3.0.1-bin-hadoop2.7/python/pyspark/testing/utils.py\n",
            "spark-3.0.1-bin-hadoop2.7/python/pyspark/testing/mlutils.py\n",
            "spark-3.0.1-bin-hadoop2.7/python/pyspark/testing/sqlutils.py\n",
            "spark-3.0.1-bin-hadoop2.7/python/pyspark/testing/streamingutils.py\n",
            "spark-3.0.1-bin-hadoop2.7/python/pyspark/testing/__init__.py\n",
            "spark-3.0.1-bin-hadoop2.7/python/pyspark/shell.py\n",
            "spark-3.0.1-bin-hadoop2.7/python/pyspark/heapq3.py\n",
            "spark-3.0.1-bin-hadoop2.7/python/pyspark/version.py\n",
            "spark-3.0.1-bin-hadoop2.7/python/pyspark/rddsampler.py\n",
            "spark-3.0.1-bin-hadoop2.7/python/pyspark/worker.py\n",
            "spark-3.0.1-bin-hadoop2.7/python/pyspark/cloudpickle.py\n",
            "spark-3.0.1-bin-hadoop2.7/python/pyspark/sql/\n",
            "spark-3.0.1-bin-hadoop2.7/python/pyspark/sql/functions.py\n",
            "spark-3.0.1-bin-hadoop2.7/python/pyspark/sql/column.py\n",
            "spark-3.0.1-bin-hadoop2.7/python/pyspark/sql/readwriter.py\n",
            "spark-3.0.1-bin-hadoop2.7/python/pyspark/sql/utils.py\n",
            "spark-3.0.1-bin-hadoop2.7/python/pyspark/sql/context.py\n",
            "spark-3.0.1-bin-hadoop2.7/python/pyspark/sql/avro/\n",
            "spark-3.0.1-bin-hadoop2.7/python/pyspark/sql/avro/functions.py\n",
            "spark-3.0.1-bin-hadoop2.7/python/pyspark/sql/avro/__init__.py\n",
            "spark-3.0.1-bin-hadoop2.7/python/pyspark/sql/window.py\n",
            "spark-3.0.1-bin-hadoop2.7/python/pyspark/sql/session.py\n",
            "spark-3.0.1-bin-hadoop2.7/python/pyspark/sql/types.py\n",
            "spark-3.0.1-bin-hadoop2.7/python/pyspark/sql/group.py\n",
            "spark-3.0.1-bin-hadoop2.7/python/pyspark/sql/dataframe.py\n",
            "spark-3.0.1-bin-hadoop2.7/python/pyspark/sql/catalog.py\n",
            "spark-3.0.1-bin-hadoop2.7/python/pyspark/sql/udf.py\n",
            "spark-3.0.1-bin-hadoop2.7/python/pyspark/sql/pandas/\n",
            "spark-3.0.1-bin-hadoop2.7/python/pyspark/sql/pandas/group_ops.py\n",
            "spark-3.0.1-bin-hadoop2.7/python/pyspark/sql/pandas/serializers.py\n",
            "spark-3.0.1-bin-hadoop2.7/python/pyspark/sql/pandas/functions.py\n",
            "spark-3.0.1-bin-hadoop2.7/python/pyspark/sql/pandas/utils.py\n",
            "spark-3.0.1-bin-hadoop2.7/python/pyspark/sql/pandas/typehints.py\n",
            "spark-3.0.1-bin-hadoop2.7/python/pyspark/sql/pandas/types.py\n",
            "spark-3.0.1-bin-hadoop2.7/python/pyspark/sql/pandas/conversion.py\n",
            "spark-3.0.1-bin-hadoop2.7/python/pyspark/sql/pandas/__init__.py\n",
            "spark-3.0.1-bin-hadoop2.7/python/pyspark/sql/pandas/map_ops.py\n",
            "spark-3.0.1-bin-hadoop2.7/python/pyspark/sql/__init__.py\n",
            "spark-3.0.1-bin-hadoop2.7/python/pyspark/sql/conf.py\n",
            "spark-3.0.1-bin-hadoop2.7/python/pyspark/sql/streaming.py\n",
            "spark-3.0.1-bin-hadoop2.7/python/pyspark/sql/tests/\n",
            "spark-3.0.1-bin-hadoop2.7/python/pyspark/sql/tests/test_column.py\n",
            "spark-3.0.1-bin-hadoop2.7/python/pyspark/sql/tests/test_arrow.py\n",
            "spark-3.0.1-bin-hadoop2.7/python/pyspark/sql/tests/test_conf.py\n",
            "spark-3.0.1-bin-hadoop2.7/python/pyspark/sql/tests/test_pandas_grouped_map.py\n",
            "spark-3.0.1-bin-hadoop2.7/python/pyspark/sql/tests/test_catalog.py\n",
            "spark-3.0.1-bin-hadoop2.7/python/pyspark/sql/tests/test_pandas_cogrouped_map.py\n",
            "spark-3.0.1-bin-hadoop2.7/python/pyspark/sql/tests/test_pandas_udf_typehints.py\n",
            "spark-3.0.1-bin-hadoop2.7/python/pyspark/sql/tests/test_serde.py\n",
            "spark-3.0.1-bin-hadoop2.7/python/pyspark/sql/tests/test_types.py\n",
            "spark-3.0.1-bin-hadoop2.7/python/pyspark/sql/tests/test_pandas_udf_scalar.py\n",
            "spark-3.0.1-bin-hadoop2.7/python/pyspark/sql/tests/test_utils.py\n",
            "spark-3.0.1-bin-hadoop2.7/python/pyspark/sql/tests/test_pandas_map.py\n",
            "spark-3.0.1-bin-hadoop2.7/python/pyspark/sql/tests/test_streaming.py\n",
            "spark-3.0.1-bin-hadoop2.7/python/pyspark/sql/tests/test_functions.py\n",
            "spark-3.0.1-bin-hadoop2.7/python/pyspark/sql/tests/test_context.py\n",
            "spark-3.0.1-bin-hadoop2.7/python/pyspark/sql/tests/test_group.py\n",
            "spark-3.0.1-bin-hadoop2.7/python/pyspark/sql/tests/test_datasources.py\n",
            "spark-3.0.1-bin-hadoop2.7/python/pyspark/sql/tests/test_readwriter.py\n",
            "spark-3.0.1-bin-hadoop2.7/python/pyspark/sql/tests/test_pandas_udf_window.py\n",
            "spark-3.0.1-bin-hadoop2.7/python/pyspark/sql/tests/test_udf.py\n",
            "spark-3.0.1-bin-hadoop2.7/python/pyspark/sql/tests/__init__.py\n",
            "spark-3.0.1-bin-hadoop2.7/python/pyspark/sql/tests/test_session.py\n",
            "spark-3.0.1-bin-hadoop2.7/python/pyspark/sql/tests/test_pandas_udf.py\n",
            "spark-3.0.1-bin-hadoop2.7/python/pyspark/sql/tests/test_pandas_udf_grouped_agg.py\n",
            "spark-3.0.1-bin-hadoop2.7/python/pyspark/sql/tests/test_dataframe.py\n",
            "spark-3.0.1-bin-hadoop2.7/python/pyspark/join.py\n",
            "spark-3.0.1-bin-hadoop2.7/python/pyspark/accumulators.py\n",
            "spark-3.0.1-bin-hadoop2.7/python/pyspark/resultiterable.py\n",
            "spark-3.0.1-bin-hadoop2.7/python/pyspark/profiler.py\n",
            "spark-3.0.1-bin-hadoop2.7/python/pyspark/taskcontext.py\n",
            "spark-3.0.1-bin-hadoop2.7/python/pyspark/storagelevel.py\n",
            "spark-3.0.1-bin-hadoop2.7/python/pyspark/traceback_utils.py\n",
            "spark-3.0.1-bin-hadoop2.7/python/pyspark/files.py\n",
            "spark-3.0.1-bin-hadoop2.7/python/pyspark/_globals.py\n",
            "spark-3.0.1-bin-hadoop2.7/python/pyspark/python/\n",
            "spark-3.0.1-bin-hadoop2.7/python/pyspark/python/pyspark/\n",
            "spark-3.0.1-bin-hadoop2.7/python/pyspark/python/pyspark/shell.py\n",
            "spark-3.0.1-bin-hadoop2.7/python/pyspark/shuffle.py\n",
            "spark-3.0.1-bin-hadoop2.7/python/pyspark/__init__.py\n",
            "spark-3.0.1-bin-hadoop2.7/python/pyspark/rdd.py\n",
            "spark-3.0.1-bin-hadoop2.7/python/pyspark/find_spark_home.py\n",
            "spark-3.0.1-bin-hadoop2.7/python/pyspark/conf.py\n",
            "spark-3.0.1-bin-hadoop2.7/python/pyspark/tests/\n",
            "spark-3.0.1-bin-hadoop2.7/python/pyspark/tests/test_taskcontext.py\n",
            "spark-3.0.1-bin-hadoop2.7/python/pyspark/tests/test_appsubmit.py\n",
            "spark-3.0.1-bin-hadoop2.7/python/pyspark/tests/test_util.py\n",
            "spark-3.0.1-bin-hadoop2.7/python/pyspark/tests/test_conf.py\n",
            "spark-3.0.1-bin-hadoop2.7/python/pyspark/tests/test_daemon.py\n",
            "spark-3.0.1-bin-hadoop2.7/python/pyspark/tests/test_pin_thread.py\n",
            "spark-3.0.1-bin-hadoop2.7/python/pyspark/tests/test_profiler.py\n",
            "spark-3.0.1-bin-hadoop2.7/python/pyspark/tests/test_shuffle.py\n",
            "spark-3.0.1-bin-hadoop2.7/python/pyspark/tests/test_readwrite.py\n",
            "spark-3.0.1-bin-hadoop2.7/python/pyspark/tests/test_serializers.py\n",
            "spark-3.0.1-bin-hadoop2.7/python/pyspark/tests/test_broadcast.py\n",
            "spark-3.0.1-bin-hadoop2.7/python/pyspark/tests/test_rddbarrier.py\n",
            "spark-3.0.1-bin-hadoop2.7/python/pyspark/tests/test_context.py\n",
            "spark-3.0.1-bin-hadoop2.7/python/pyspark/tests/test_join.py\n",
            "spark-3.0.1-bin-hadoop2.7/python/pyspark/tests/__init__.py\n",
            "spark-3.0.1-bin-hadoop2.7/python/pyspark/tests/test_worker.py\n",
            "spark-3.0.1-bin-hadoop2.7/python/pyspark/tests/test_rdd.py\n",
            "spark-3.0.1-bin-hadoop2.7/python/test_coverage/\n",
            "spark-3.0.1-bin-hadoop2.7/python/test_coverage/sitecustomize.py\n",
            "spark-3.0.1-bin-hadoop2.7/python/test_coverage/coverage_daemon.py\n",
            "spark-3.0.1-bin-hadoop2.7/python/test_coverage/conf/\n",
            "spark-3.0.1-bin-hadoop2.7/python/test_coverage/conf/spark-defaults.conf\n",
            "spark-3.0.1-bin-hadoop2.7/python/test_support/\n",
            "spark-3.0.1-bin-hadoop2.7/python/test_support/SimpleHTTPServer.py\n",
            "spark-3.0.1-bin-hadoop2.7/python/test_support/userlibrary.py\n",
            "spark-3.0.1-bin-hadoop2.7/python/test_support/userlib-0.1.zip\n",
            "spark-3.0.1-bin-hadoop2.7/python/test_support/sql/\n",
            "spark-3.0.1-bin-hadoop2.7/python/test_support/sql/streaming/\n",
            "spark-3.0.1-bin-hadoop2.7/python/test_support/sql/streaming/text-test.txt\n",
            "spark-3.0.1-bin-hadoop2.7/python/test_support/sql/people_array_utf16le.json\n",
            "spark-3.0.1-bin-hadoop2.7/python/test_support/sql/ages.csv\n",
            "spark-3.0.1-bin-hadoop2.7/python/test_support/sql/ages_newlines.csv\n",
            "spark-3.0.1-bin-hadoop2.7/python/test_support/sql/text-test.txt\n",
            "spark-3.0.1-bin-hadoop2.7/python/test_support/sql/people1.json\n",
            "spark-3.0.1-bin-hadoop2.7/python/test_support/sql/orc_partitioned/\n",
            "spark-3.0.1-bin-hadoop2.7/python/test_support/sql/orc_partitioned/b=0/\n",
            "spark-3.0.1-bin-hadoop2.7/python/test_support/sql/orc_partitioned/b=0/c=0/\n",
            "spark-3.0.1-bin-hadoop2.7/python/test_support/sql/orc_partitioned/b=0/c=0/.part-r-00000-829af031-b970-49d6-ad39-30460a0be2c8.orc.crc\n",
            "spark-3.0.1-bin-hadoop2.7/python/test_support/sql/orc_partitioned/b=0/c=0/part-r-00000-829af031-b970-49d6-ad39-30460a0be2c8.orc\n",
            "spark-3.0.1-bin-hadoop2.7/python/test_support/sql/orc_partitioned/_SUCCESS\n",
            "spark-3.0.1-bin-hadoop2.7/python/test_support/sql/orc_partitioned/b=1/\n",
            "spark-3.0.1-bin-hadoop2.7/python/test_support/sql/orc_partitioned/b=1/c=1/\n",
            "spark-3.0.1-bin-hadoop2.7/python/test_support/sql/orc_partitioned/b=1/c=1/.part-r-00000-829af031-b970-49d6-ad39-30460a0be2c8.orc.crc\n",
            "spark-3.0.1-bin-hadoop2.7/python/test_support/sql/orc_partitioned/b=1/c=1/part-r-00000-829af031-b970-49d6-ad39-30460a0be2c8.orc\n",
            "spark-3.0.1-bin-hadoop2.7/python/test_support/sql/parquet_partitioned/\n",
            "spark-3.0.1-bin-hadoop2.7/python/test_support/sql/parquet_partitioned/_metadata\n",
            "spark-3.0.1-bin-hadoop2.7/python/test_support/sql/parquet_partitioned/_SUCCESS\n",
            "spark-3.0.1-bin-hadoop2.7/python/test_support/sql/parquet_partitioned/year=2015/\n",
            "spark-3.0.1-bin-hadoop2.7/python/test_support/sql/parquet_partitioned/year=2015/month=10/\n",
            "spark-3.0.1-bin-hadoop2.7/python/test_support/sql/parquet_partitioned/year=2015/month=10/day=26/\n",
            "spark-3.0.1-bin-hadoop2.7/python/test_support/sql/parquet_partitioned/year=2015/month=10/day=26/.part-r-00005.gz.parquet.crc\n",
            "spark-3.0.1-bin-hadoop2.7/python/test_support/sql/parquet_partitioned/year=2015/month=10/day=26/part-r-00005.gz.parquet\n",
            "spark-3.0.1-bin-hadoop2.7/python/test_support/sql/parquet_partitioned/year=2015/month=10/day=25/\n",
            "spark-3.0.1-bin-hadoop2.7/python/test_support/sql/parquet_partitioned/year=2015/month=10/day=25/.part-r-00004.gz.parquet.crc\n",
            "spark-3.0.1-bin-hadoop2.7/python/test_support/sql/parquet_partitioned/year=2015/month=10/day=25/part-r-00002.gz.parquet\n",
            "spark-3.0.1-bin-hadoop2.7/python/test_support/sql/parquet_partitioned/year=2015/month=10/day=25/.part-r-00002.gz.parquet.crc\n",
            "spark-3.0.1-bin-hadoop2.7/python/test_support/sql/parquet_partitioned/year=2015/month=10/day=25/part-r-00004.gz.parquet\n",
            "spark-3.0.1-bin-hadoop2.7/python/test_support/sql/parquet_partitioned/year=2015/month=9/\n",
            "spark-3.0.1-bin-hadoop2.7/python/test_support/sql/parquet_partitioned/year=2015/month=9/day=1/\n",
            "spark-3.0.1-bin-hadoop2.7/python/test_support/sql/parquet_partitioned/year=2015/month=9/day=1/.part-r-00007.gz.parquet.crc\n",
            "spark-3.0.1-bin-hadoop2.7/python/test_support/sql/parquet_partitioned/year=2015/month=9/day=1/part-r-00007.gz.parquet\n",
            "spark-3.0.1-bin-hadoop2.7/python/test_support/sql/parquet_partitioned/_common_metadata\n",
            "spark-3.0.1-bin-hadoop2.7/python/test_support/sql/parquet_partitioned/year=2014/\n",
            "spark-3.0.1-bin-hadoop2.7/python/test_support/sql/parquet_partitioned/year=2014/month=9/\n",
            "spark-3.0.1-bin-hadoop2.7/python/test_support/sql/parquet_partitioned/year=2014/month=9/day=1/\n",
            "spark-3.0.1-bin-hadoop2.7/python/test_support/sql/parquet_partitioned/year=2014/month=9/day=1/.part-r-00008.gz.parquet.crc\n",
            "spark-3.0.1-bin-hadoop2.7/python/test_support/sql/parquet_partitioned/year=2014/month=9/day=1/part-r-00008.gz.parquet\n",
            "spark-3.0.1-bin-hadoop2.7/python/test_support/sql/people_array.json\n",
            "spark-3.0.1-bin-hadoop2.7/python/test_support/sql/people.json\n",
            "spark-3.0.1-bin-hadoop2.7/python/test_support/hello/\n",
            "spark-3.0.1-bin-hadoop2.7/python/test_support/hello/hello.txt\n",
            "spark-3.0.1-bin-hadoop2.7/python/test_support/hello/sub_hello/\n",
            "spark-3.0.1-bin-hadoop2.7/python/test_support/hello/sub_hello/sub_hello.txt\n",
            "spark-3.0.1-bin-hadoop2.7/python/README.md\n",
            "spark-3.0.1-bin-hadoop2.7/python/run-tests-with-coverage\n",
            "spark-3.0.1-bin-hadoop2.7/python/MANIFEST.in\n",
            "spark-3.0.1-bin-hadoop2.7/python/.coveragerc\n",
            "spark-3.0.1-bin-hadoop2.7/python/docs/\n",
            "spark-3.0.1-bin-hadoop2.7/python/docs/pyspark.mllib.rst\n",
            "spark-3.0.1-bin-hadoop2.7/python/docs/index.rst\n",
            "spark-3.0.1-bin-hadoop2.7/python/docs/pyspark.sql.rst\n",
            "spark-3.0.1-bin-hadoop2.7/python/docs/_static/\n",
            "spark-3.0.1-bin-hadoop2.7/python/docs/_static/pyspark.css\n",
            "spark-3.0.1-bin-hadoop2.7/python/docs/_static/copybutton.js\n",
            "spark-3.0.1-bin-hadoop2.7/python/docs/_static/pyspark.js\n",
            "spark-3.0.1-bin-hadoop2.7/python/docs/make.bat\n",
            "spark-3.0.1-bin-hadoop2.7/python/docs/pyspark.resource.rst\n",
            "spark-3.0.1-bin-hadoop2.7/python/docs/pyspark.rst\n",
            "spark-3.0.1-bin-hadoop2.7/python/docs/make2.bat\n",
            "spark-3.0.1-bin-hadoop2.7/python/docs/_templates/\n",
            "spark-3.0.1-bin-hadoop2.7/python/docs/_templates/layout.html\n",
            "spark-3.0.1-bin-hadoop2.7/python/docs/pyspark.streaming.rst\n",
            "spark-3.0.1-bin-hadoop2.7/python/docs/Makefile\n",
            "spark-3.0.1-bin-hadoop2.7/python/docs/conf.py\n",
            "spark-3.0.1-bin-hadoop2.7/python/docs/pyspark.ml.rst\n",
            "spark-3.0.1-bin-hadoop2.7/python/lib/\n",
            "spark-3.0.1-bin-hadoop2.7/python/lib/py4j-0.10.9-src.zip\n",
            "spark-3.0.1-bin-hadoop2.7/python/lib/pyspark.zip\n",
            "spark-3.0.1-bin-hadoop2.7/python/lib/PY4J_LICENSE.txt\n",
            "spark-3.0.1-bin-hadoop2.7/python/run-tests.py\n",
            "spark-3.0.1-bin-hadoop2.7/python/pylintrc\n",
            "spark-3.0.1-bin-hadoop2.7/python/run-tests\n",
            "spark-3.0.1-bin-hadoop2.7/python/pyspark.egg-info/\n",
            "spark-3.0.1-bin-hadoop2.7/python/pyspark.egg-info/dependency_links.txt\n",
            "spark-3.0.1-bin-hadoop2.7/python/pyspark.egg-info/requires.txt\n",
            "spark-3.0.1-bin-hadoop2.7/python/pyspark.egg-info/PKG-INFO\n",
            "spark-3.0.1-bin-hadoop2.7/python/pyspark.egg-info/SOURCES.txt\n",
            "spark-3.0.1-bin-hadoop2.7/python/pyspark.egg-info/top_level.txt\n",
            "spark-3.0.1-bin-hadoop2.7/python/setup.cfg\n",
            "spark-3.0.1-bin-hadoop2.7/python/dist/\n",
            "spark-3.0.1-bin-hadoop2.7/python/.gitignore\n",
            "spark-3.0.1-bin-hadoop2.7/conf/\n",
            "spark-3.0.1-bin-hadoop2.7/conf/fairscheduler.xml.template\n",
            "spark-3.0.1-bin-hadoop2.7/conf/log4j.properties.template\n",
            "spark-3.0.1-bin-hadoop2.7/conf/spark-defaults.conf.template\n",
            "spark-3.0.1-bin-hadoop2.7/conf/metrics.properties.template\n",
            "spark-3.0.1-bin-hadoop2.7/conf/spark-env.sh.template\n",
            "spark-3.0.1-bin-hadoop2.7/conf/slaves.template\n"
          ],
          "name": "stdout"
        }
      ]
    },
    {
      "cell_type": "markdown",
      "metadata": {
        "id": "huFhMjxS12p4"
      },
      "source": [
        "# **Data set**\n",
        "\n",
        "This is a calafornia housing datset and was obtained from the StatLib repository. It appeared in a 1997 paper titled Sparse Spatial Autoregressions, written by Pace, R. Kelley and Ronald Barry and published in the Statistics and Probability Letters journal. The researchers built this data set by using the 1990 California census data\n",
        "\n",
        "link - https://www.dcc.fc.up.pt/~ltorgo/Regression/cal_housing.html\n",
        "\n"
      ]
    },
    {
      "cell_type": "code",
      "metadata": {
        "id": "ePAc4TUFpikS",
        "outputId": "56fd0f0b-6272-4a50-8e91-f6cea0468b4a",
        "colab": {
          "resources": {
            "http://localhost:8080/nbextensions/google.colab/files.js": {
              "data": "Ly8gQ29weXJpZ2h0IDIwMTcgR29vZ2xlIExMQwovLwovLyBMaWNlbnNlZCB1bmRlciB0aGUgQXBhY2hlIExpY2Vuc2UsIFZlcnNpb24gMi4wICh0aGUgIkxpY2Vuc2UiKTsKLy8geW91IG1heSBub3QgdXNlIHRoaXMgZmlsZSBleGNlcHQgaW4gY29tcGxpYW5jZSB3aXRoIHRoZSBMaWNlbnNlLgovLyBZb3UgbWF5IG9idGFpbiBhIGNvcHkgb2YgdGhlIExpY2Vuc2UgYXQKLy8KLy8gICAgICBodHRwOi8vd3d3LmFwYWNoZS5vcmcvbGljZW5zZXMvTElDRU5TRS0yLjAKLy8KLy8gVW5sZXNzIHJlcXVpcmVkIGJ5IGFwcGxpY2FibGUgbGF3IG9yIGFncmVlZCB0byBpbiB3cml0aW5nLCBzb2Z0d2FyZQovLyBkaXN0cmlidXRlZCB1bmRlciB0aGUgTGljZW5zZSBpcyBkaXN0cmlidXRlZCBvbiBhbiAiQVMgSVMiIEJBU0lTLAovLyBXSVRIT1VUIFdBUlJBTlRJRVMgT1IgQ09ORElUSU9OUyBPRiBBTlkgS0lORCwgZWl0aGVyIGV4cHJlc3Mgb3IgaW1wbGllZC4KLy8gU2VlIHRoZSBMaWNlbnNlIGZvciB0aGUgc3BlY2lmaWMgbGFuZ3VhZ2UgZ292ZXJuaW5nIHBlcm1pc3Npb25zIGFuZAovLyBsaW1pdGF0aW9ucyB1bmRlciB0aGUgTGljZW5zZS4KCi8qKgogKiBAZmlsZW92ZXJ2aWV3IEhlbHBlcnMgZm9yIGdvb2dsZS5jb2xhYiBQeXRob24gbW9kdWxlLgogKi8KKGZ1bmN0aW9uKHNjb3BlKSB7CmZ1bmN0aW9uIHNwYW4odGV4dCwgc3R5bGVBdHRyaWJ1dGVzID0ge30pIHsKICBjb25zdCBlbGVtZW50ID0gZG9jdW1lbnQuY3JlYXRlRWxlbWVudCgnc3BhbicpOwogIGVsZW1lbnQudGV4dENvbnRlbnQgPSB0ZXh0OwogIGZvciAoY29uc3Qga2V5IG9mIE9iamVjdC5rZXlzKHN0eWxlQXR0cmlidXRlcykpIHsKICAgIGVsZW1lbnQuc3R5bGVba2V5XSA9IHN0eWxlQXR0cmlidXRlc1trZXldOwogIH0KICByZXR1cm4gZWxlbWVudDsKfQoKLy8gTWF4IG51bWJlciBvZiBieXRlcyB3aGljaCB3aWxsIGJlIHVwbG9hZGVkIGF0IGEgdGltZS4KY29uc3QgTUFYX1BBWUxPQURfU0laRSA9IDEwMCAqIDEwMjQ7CgpmdW5jdGlvbiBfdXBsb2FkRmlsZXMoaW5wdXRJZCwgb3V0cHV0SWQpIHsKICBjb25zdCBzdGVwcyA9IHVwbG9hZEZpbGVzU3RlcChpbnB1dElkLCBvdXRwdXRJZCk7CiAgY29uc3Qgb3V0cHV0RWxlbWVudCA9IGRvY3VtZW50LmdldEVsZW1lbnRCeUlkKG91dHB1dElkKTsKICAvLyBDYWNoZSBzdGVwcyBvbiB0aGUgb3V0cHV0RWxlbWVudCB0byBtYWtlIGl0IGF2YWlsYWJsZSBmb3IgdGhlIG5leHQgY2FsbAogIC8vIHRvIHVwbG9hZEZpbGVzQ29udGludWUgZnJvbSBQeXRob24uCiAgb3V0cHV0RWxlbWVudC5zdGVwcyA9IHN0ZXBzOwoKICByZXR1cm4gX3VwbG9hZEZpbGVzQ29udGludWUob3V0cHV0SWQpOwp9CgovLyBUaGlzIGlzIHJvdWdobHkgYW4gYXN5bmMgZ2VuZXJhdG9yIChub3Qgc3VwcG9ydGVkIGluIHRoZSBicm93c2VyIHlldCksCi8vIHdoZXJlIHRoZXJlIGFyZSBtdWx0aXBsZSBhc3luY2hyb25vdXMgc3RlcHMgYW5kIHRoZSBQeXRob24gc2lkZSBpcyBnb2luZwovLyB0byBwb2xsIGZvciBjb21wbGV0aW9uIG9mIGVhY2ggc3RlcC4KLy8gVGhpcyB1c2VzIGEgUHJvbWlzZSB0byBibG9jayB0aGUgcHl0aG9uIHNpZGUgb24gY29tcGxldGlvbiBvZiBlYWNoIHN0ZXAsCi8vIHRoZW4gcGFzc2VzIHRoZSByZXN1bHQgb2YgdGhlIHByZXZpb3VzIHN0ZXAgYXMgdGhlIGlucHV0IHRvIHRoZSBuZXh0IHN0ZXAuCmZ1bmN0aW9uIF91cGxvYWRGaWxlc0NvbnRpbnVlKG91dHB1dElkKSB7CiAgY29uc3Qgb3V0cHV0RWxlbWVudCA9IGRvY3VtZW50LmdldEVsZW1lbnRCeUlkKG91dHB1dElkKTsKICBjb25zdCBzdGVwcyA9IG91dHB1dEVsZW1lbnQuc3RlcHM7CgogIGNvbnN0IG5leHQgPSBzdGVwcy5uZXh0KG91dHB1dEVsZW1lbnQubGFzdFByb21pc2VWYWx1ZSk7CiAgcmV0dXJuIFByb21pc2UucmVzb2x2ZShuZXh0LnZhbHVlLnByb21pc2UpLnRoZW4oKHZhbHVlKSA9PiB7CiAgICAvLyBDYWNoZSB0aGUgbGFzdCBwcm9taXNlIHZhbHVlIHRvIG1ha2UgaXQgYXZhaWxhYmxlIHRvIHRoZSBuZXh0CiAgICAvLyBzdGVwIG9mIHRoZSBnZW5lcmF0b3IuCiAgICBvdXRwdXRFbGVtZW50Lmxhc3RQcm9taXNlVmFsdWUgPSB2YWx1ZTsKICAgIHJldHVybiBuZXh0LnZhbHVlLnJlc3BvbnNlOwogIH0pOwp9CgovKioKICogR2VuZXJhdG9yIGZ1bmN0aW9uIHdoaWNoIGlzIGNhbGxlZCBiZXR3ZWVuIGVhY2ggYXN5bmMgc3RlcCBvZiB0aGUgdXBsb2FkCiAqIHByb2Nlc3MuCiAqIEBwYXJhbSB7c3RyaW5nfSBpbnB1dElkIEVsZW1lbnQgSUQgb2YgdGhlIGlucHV0IGZpbGUgcGlja2VyIGVsZW1lbnQuCiAqIEBwYXJhbSB7c3RyaW5nfSBvdXRwdXRJZCBFbGVtZW50IElEIG9mIHRoZSBvdXRwdXQgZGlzcGxheS4KICogQHJldHVybiB7IUl0ZXJhYmxlPCFPYmplY3Q+fSBJdGVyYWJsZSBvZiBuZXh0IHN0ZXBzLgogKi8KZnVuY3Rpb24qIHVwbG9hZEZpbGVzU3RlcChpbnB1dElkLCBvdXRwdXRJZCkgewogIGNvbnN0IGlucHV0RWxlbWVudCA9IGRvY3VtZW50LmdldEVsZW1lbnRCeUlkKGlucHV0SWQpOwogIGlucHV0RWxlbWVudC5kaXNhYmxlZCA9IGZhbHNlOwoKICBjb25zdCBvdXRwdXRFbGVtZW50ID0gZG9jdW1lbnQuZ2V0RWxlbWVudEJ5SWQob3V0cHV0SWQpOwogIG91dHB1dEVsZW1lbnQuaW5uZXJIVE1MID0gJyc7CgogIGNvbnN0IHBpY2tlZFByb21pc2UgPSBuZXcgUHJvbWlzZSgocmVzb2x2ZSkgPT4gewogICAgaW5wdXRFbGVtZW50LmFkZEV2ZW50TGlzdGVuZXIoJ2NoYW5nZScsIChlKSA9PiB7CiAgICAgIHJlc29sdmUoZS50YXJnZXQuZmlsZXMpOwogICAgfSk7CiAgfSk7CgogIGNvbnN0IGNhbmNlbCA9IGRvY3VtZW50LmNyZWF0ZUVsZW1lbnQoJ2J1dHRvbicpOwogIGlucHV0RWxlbWVudC5wYXJlbnRFbGVtZW50LmFwcGVuZENoaWxkKGNhbmNlbCk7CiAgY2FuY2VsLnRleHRDb250ZW50ID0gJ0NhbmNlbCB1cGxvYWQnOwogIGNvbnN0IGNhbmNlbFByb21pc2UgPSBuZXcgUHJvbWlzZSgocmVzb2x2ZSkgPT4gewogICAgY2FuY2VsLm9uY2xpY2sgPSAoKSA9PiB7CiAgICAgIHJlc29sdmUobnVsbCk7CiAgICB9OwogIH0pOwoKICAvLyBXYWl0IGZvciB0aGUgdXNlciB0byBwaWNrIHRoZSBmaWxlcy4KICBjb25zdCBmaWxlcyA9IHlpZWxkIHsKICAgIHByb21pc2U6IFByb21pc2UucmFjZShbcGlja2VkUHJvbWlzZSwgY2FuY2VsUHJvbWlzZV0pLAogICAgcmVzcG9uc2U6IHsKICAgICAgYWN0aW9uOiAnc3RhcnRpbmcnLAogICAgfQogIH07CgogIGNhbmNlbC5yZW1vdmUoKTsKCiAgLy8gRGlzYWJsZSB0aGUgaW5wdXQgZWxlbWVudCBzaW5jZSBmdXJ0aGVyIHBpY2tzIGFyZSBub3QgYWxsb3dlZC4KICBpbnB1dEVsZW1lbnQuZGlzYWJsZWQgPSB0cnVlOwoKICBpZiAoIWZpbGVzKSB7CiAgICByZXR1cm4gewogICAgICByZXNwb25zZTogewogICAgICAgIGFjdGlvbjogJ2NvbXBsZXRlJywKICAgICAgfQogICAgfTsKICB9CgogIGZvciAoY29uc3QgZmlsZSBvZiBmaWxlcykgewogICAgY29uc3QgbGkgPSBkb2N1bWVudC5jcmVhdGVFbGVtZW50KCdsaScpOwogICAgbGkuYXBwZW5kKHNwYW4oZmlsZS5uYW1lLCB7Zm9udFdlaWdodDogJ2JvbGQnfSkpOwogICAgbGkuYXBwZW5kKHNwYW4oCiAgICAgICAgYCgke2ZpbGUudHlwZSB8fCAnbi9hJ30pIC0gJHtmaWxlLnNpemV9IGJ5dGVzLCBgICsKICAgICAgICBgbGFzdCBtb2RpZmllZDogJHsKICAgICAgICAgICAgZmlsZS5sYXN0TW9kaWZpZWREYXRlID8gZmlsZS5sYXN0TW9kaWZpZWREYXRlLnRvTG9jYWxlRGF0ZVN0cmluZygpIDoKICAgICAgICAgICAgICAgICAgICAgICAgICAgICAgICAgICAgJ24vYSd9IC0gYCkpOwogICAgY29uc3QgcGVyY2VudCA9IHNwYW4oJzAlIGRvbmUnKTsKICAgIGxpLmFwcGVuZENoaWxkKHBlcmNlbnQpOwoKICAgIG91dHB1dEVsZW1lbnQuYXBwZW5kQ2hpbGQobGkpOwoKICAgIGNvbnN0IGZpbGVEYXRhUHJvbWlzZSA9IG5ldyBQcm9taXNlKChyZXNvbHZlKSA9PiB7CiAgICAgIGNvbnN0IHJlYWRlciA9IG5ldyBGaWxlUmVhZGVyKCk7CiAgICAgIHJlYWRlci5vbmxvYWQgPSAoZSkgPT4gewogICAgICAgIHJlc29sdmUoZS50YXJnZXQucmVzdWx0KTsKICAgICAgfTsKICAgICAgcmVhZGVyLnJlYWRBc0FycmF5QnVmZmVyKGZpbGUpOwogICAgfSk7CiAgICAvLyBXYWl0IGZvciB0aGUgZGF0YSB0byBiZSByZWFkeS4KICAgIGxldCBmaWxlRGF0YSA9IHlpZWxkIHsKICAgICAgcHJvbWlzZTogZmlsZURhdGFQcm9taXNlLAogICAgICByZXNwb25zZTogewogICAgICAgIGFjdGlvbjogJ2NvbnRpbnVlJywKICAgICAgfQogICAgfTsKCiAgICAvLyBVc2UgYSBjaHVua2VkIHNlbmRpbmcgdG8gYXZvaWQgbWVzc2FnZSBzaXplIGxpbWl0cy4gU2VlIGIvNjIxMTU2NjAuCiAgICBsZXQgcG9zaXRpb24gPSAwOwogICAgd2hpbGUgKHBvc2l0aW9uIDwgZmlsZURhdGEuYnl0ZUxlbmd0aCkgewogICAgICBjb25zdCBsZW5ndGggPSBNYXRoLm1pbihmaWxlRGF0YS5ieXRlTGVuZ3RoIC0gcG9zaXRpb24sIE1BWF9QQVlMT0FEX1NJWkUpOwogICAgICBjb25zdCBjaHVuayA9IG5ldyBVaW50OEFycmF5KGZpbGVEYXRhLCBwb3NpdGlvbiwgbGVuZ3RoKTsKICAgICAgcG9zaXRpb24gKz0gbGVuZ3RoOwoKICAgICAgY29uc3QgYmFzZTY0ID0gYnRvYShTdHJpbmcuZnJvbUNoYXJDb2RlLmFwcGx5KG51bGwsIGNodW5rKSk7CiAgICAgIHlpZWxkIHsKICAgICAgICByZXNwb25zZTogewogICAgICAgICAgYWN0aW9uOiAnYXBwZW5kJywKICAgICAgICAgIGZpbGU6IGZpbGUubmFtZSwKICAgICAgICAgIGRhdGE6IGJhc2U2NCwKICAgICAgICB9LAogICAgICB9OwogICAgICBwZXJjZW50LnRleHRDb250ZW50ID0KICAgICAgICAgIGAke01hdGgucm91bmQoKHBvc2l0aW9uIC8gZmlsZURhdGEuYnl0ZUxlbmd0aCkgKiAxMDApfSUgZG9uZWA7CiAgICB9CiAgfQoKICAvLyBBbGwgZG9uZS4KICB5aWVsZCB7CiAgICByZXNwb25zZTogewogICAgICBhY3Rpb246ICdjb21wbGV0ZScsCiAgICB9CiAgfTsKfQoKc2NvcGUuZ29vZ2xlID0gc2NvcGUuZ29vZ2xlIHx8IHt9OwpzY29wZS5nb29nbGUuY29sYWIgPSBzY29wZS5nb29nbGUuY29sYWIgfHwge307CnNjb3BlLmdvb2dsZS5jb2xhYi5fZmlsZXMgPSB7CiAgX3VwbG9hZEZpbGVzLAogIF91cGxvYWRGaWxlc0NvbnRpbnVlLAp9Owp9KShzZWxmKTsK",
              "ok": true,
              "headers": [
                [
                  "content-type",
                  "application/javascript"
                ]
              ],
              "status": 200,
              "status_text": ""
            }
          },
          "base_uri": "https://localhost:8080/",
          "height": 106
        }
      },
      "source": [
        "from google.colab import files\n",
        "uploaded = files.upload()"
      ],
      "execution_count": null,
      "outputs": [
        {
          "output_type": "display_data",
          "data": {
            "text/html": [
              "\n",
              "     <input type=\"file\" id=\"files-5f0f5b05-f4e3-419f-95e5-51081e7398a1\" name=\"files[]\" multiple disabled\n",
              "        style=\"border:none\" />\n",
              "     <output id=\"result-5f0f5b05-f4e3-419f-95e5-51081e7398a1\">\n",
              "      Upload widget is only available when the cell has been executed in the\n",
              "      current browser session. Please rerun this cell to enable.\n",
              "      </output>\n",
              "      <script src=\"/nbextensions/google.colab/files.js\"></script> "
            ],
            "text/plain": [
              "<IPython.core.display.HTML object>"
            ]
          },
          "metadata": {
            "tags": []
          }
        },
        {
          "output_type": "stream",
          "text": [
            "Saving cal_housing.domain to cal_housing.domain\n",
            "Saving cal_housing.data to cal_housing.data\n"
          ],
          "name": "stdout"
        }
      ]
    },
    {
      "cell_type": "markdown",
      "metadata": {
        "id": "aeLUL8YKybJj"
      },
      "source": [
        "## Installing findspark\n",
        "findspark is needed to locate and initialise pyspark so that it can be imported as a Pypi package directly."
      ]
    },
    {
      "cell_type": "code",
      "metadata": {
        "id": "hRwVv606okpp",
        "outputId": "bf9b4a87-8c6c-4397-fcc9-d62703cd79ae",
        "colab": {
          "base_uri": "https://localhost:8080/",
          "height": 105
        }
      },
      "source": [
        "!pip install findspark"
      ],
      "execution_count": null,
      "outputs": [
        {
          "output_type": "stream",
          "text": [
            "Collecting findspark\n",
            "  Downloading https://files.pythonhosted.org/packages/fc/2d/2e39f9a023479ea798eed4351cd66f163ce61e00c717e03c37109f00c0f2/findspark-1.4.2-py2.py3-none-any.whl\n",
            "Installing collected packages: findspark\n",
            "Successfully installed findspark-1.4.2\n"
          ],
          "name": "stdout"
        }
      ]
    },
    {
      "cell_type": "code",
      "metadata": {
        "id": "aT1J2knhoqEL"
      },
      "source": [
        "import os\n",
        "os.environ[\"SPARK_HOME\"] = \"/content/spark-3.0.1-bin-hadoop2.7\"\n",
        "\n",
        "import findspark\n",
        "findspark.init()"
      ],
      "execution_count": null,
      "outputs": []
    },
    {
      "cell_type": "markdown",
      "metadata": {
        "id": "ZdHRnb_R2BH2"
      },
      "source": [
        "## Creating a new Spark Session"
      ]
    },
    {
      "cell_type": "code",
      "metadata": {
        "id": "06qLYyX_pMqu"
      },
      "source": [
        "from pyspark.sql import SparkSession\n",
        "\n",
        "# Build the SparkSession\n",
        "spark = SparkSession.builder \\\n",
        "   .master(\"local\") \\\n",
        "   .appName(\"Linear Regression Model\") \\\n",
        "   .config(\"spark.executor.memory\", \"1gb\") \\\n",
        "   .getOrCreate()\n",
        "   \n",
        "sc = spark.sparkContext"
      ],
      "execution_count": null,
      "outputs": []
    },
    {
      "cell_type": "markdown",
      "metadata": {
        "id": "j0LR34GH2I4P"
      },
      "source": [
        "## Loading the uploaded Data\n",
        "\n",
        "The data contains one row per census block group. A block group is the smallest geographical unit for which the U.S. Census Bureau publishes sample data (a block group typically has a population of 600 to 3,000 people). In this sample a block group on average includes 1425.5 individuals living in a geographically compact area.\n",
        "\n",
        "These spatial data contain 20,640 observations on housing prices with 9 economic variables:\n",
        "\n",
        "\n",
        "**Longitude** refers to the angular distance of a geographic place north or south of the earth’s equator for each block group \\\n",
        "**Latitude** refers to the angular distance of a geographic place east or west of the earth’s equator for each block group \\\n",
        "**Housing median age** is the median age of the people that belong to a block group. Note that the median is the value that lies at the midpoint of a frequency distribution of observed values \\\n",
        "**Total rooms** is the total number of rooms in the houses per block group \\\n",
        "**Total bedrooms** is the total number of bedrooms in the houses per block group \\\n",
        "**Population** is the number of inhabitants of a block group \\\n",
        "**Households** refers to units of houses and their occupants per block group \\\n",
        "**Median income** is used to register the median income of people that belong to a block group \\ \n",
        "**Median house value** is the dependent variable and refers to the median house value per block group \\\n",
        "\n",
        "**The Median house value is the dependent variable and will be assigned the role of the target variable in your ML model.**\n",
        "\n"
      ]
    },
    {
      "cell_type": "code",
      "metadata": {
        "id": "viN_g7LCsgQU",
        "outputId": "34d880b4-8870-4df6-9ef7-0c81d31e44e3",
        "colab": {
          "base_uri": "https://localhost:8080/",
          "height": 238
        }
      },
      "source": [
        "# Load the data points\n",
        "rdd = sc.textFile('cal_housing.data')\n",
        "\n",
        "# Load the header\n",
        "header = sc.textFile('cal_housing.domain')\n",
        "\"Header\", header.collect(), \"rdd\", rdd.take(2)"
      ],
      "execution_count": null,
      "outputs": [
        {
          "output_type": "execute_result",
          "data": {
            "text/plain": [
              "('Header',\n",
              " ['longitude: continuous.',\n",
              "  'latitude: continuous.',\n",
              "  'housingMedianAge: continuous. ',\n",
              "  'totalRooms: continuous. ',\n",
              "  'totalBedrooms: continuous. ',\n",
              "  'population: continuous. ',\n",
              "  'households: continuous. ',\n",
              "  'medianIncome: continuous. ',\n",
              "  'medianHouseValue: continuous. '],\n",
              " 'rdd',\n",
              " ['-122.230000,37.880000,41.000000,880.000000,129.000000,322.000000,126.000000,8.325200,452600.000000',\n",
              "  '-122.220000,37.860000,21.000000,7099.000000,1106.000000,2401.000000,1138.000000,8.301400,358500.000000'])"
            ]
          },
          "metadata": {
            "tags": []
          },
          "execution_count": 8
        }
      ]
    },
    {
      "cell_type": "markdown",
      "metadata": {
        "id": "XK70gMD63LSj"
      },
      "source": [
        "## Splitting the Entries\n",
        "\n",
        "Splitting the entries to make sure that the rows of your data are separate elements."
      ]
    },
    {
      "cell_type": "code",
      "metadata": {
        "id": "CgRhAq_pxPcK",
        "outputId": "ff22b74a-b678-48cb-ada3-f647270317c7",
        "colab": {
          "base_uri": "https://localhost:8080/",
          "height": 323
        }
      },
      "source": [
        "rdd = rdd.map(lambda line: line.split(\",\"))\n",
        "\n",
        "rdd.take(2)"
      ],
      "execution_count": null,
      "outputs": [
        {
          "output_type": "execute_result",
          "data": {
            "text/plain": [
              "[['-122.230000',\n",
              "  '37.880000',\n",
              "  '41.000000',\n",
              "  '880.000000',\n",
              "  '129.000000',\n",
              "  '322.000000',\n",
              "  '126.000000',\n",
              "  '8.325200',\n",
              "  '452600.000000'],\n",
              " ['-122.220000',\n",
              "  '37.860000',\n",
              "  '21.000000',\n",
              "  '7099.000000',\n",
              "  '1106.000000',\n",
              "  '2401.000000',\n",
              "  '1138.000000',\n",
              "  '8.301400',\n",
              "  '358500.000000']]"
            ]
          },
          "metadata": {
            "tags": []
          },
          "execution_count": 9
        }
      ]
    },
    {
      "cell_type": "markdown",
      "metadata": {
        "id": "8quu3ieG5jgh"
      },
      "source": [
        "## Creating A schema to convert into a DataFrame"
      ]
    },
    {
      "cell_type": "code",
      "metadata": {
        "id": "HL-9-4cq5rBO",
        "outputId": "7d0f26fb-8bb4-4265-c6a7-5a74845ee759",
        "colab": {
          "base_uri": "https://localhost:8080/",
          "height": 629
        }
      },
      "source": [
        "from pyspark.sql import Row\n",
        "\n",
        "# Map the RDD to a DF\n",
        "df = rdd.map(lambda line: Row(longitude=line[0], \n",
        "                              latitude=line[1], \n",
        "                              housingMedianAge=line[2],\n",
        "                              totalRooms=line[3],\n",
        "                              totalBedRooms=line[4],\n",
        "                              population=line[5], \n",
        "                              households=line[6],\n",
        "                              medianIncome=line[7],\n",
        "                              medianHouseValue=line[8])).toDF()\n",
        "df.show(), df.columns"
      ],
      "execution_count": null,
      "outputs": [
        {
          "output_type": "stream",
          "text": [
            "+-----------+---------+----------------+-----------+-------------+-----------+-----------+------------+----------------+\n",
            "|  longitude| latitude|housingMedianAge| totalRooms|totalBedRooms| population| households|medianIncome|medianHouseValue|\n",
            "+-----------+---------+----------------+-----------+-------------+-----------+-----------+------------+----------------+\n",
            "|-122.230000|37.880000|       41.000000| 880.000000|   129.000000| 322.000000| 126.000000|    8.325200|   452600.000000|\n",
            "|-122.220000|37.860000|       21.000000|7099.000000|  1106.000000|2401.000000|1138.000000|    8.301400|   358500.000000|\n",
            "|-122.240000|37.850000|       52.000000|1467.000000|   190.000000| 496.000000| 177.000000|    7.257400|   352100.000000|\n",
            "|-122.250000|37.850000|       52.000000|1274.000000|   235.000000| 558.000000| 219.000000|    5.643100|   341300.000000|\n",
            "|-122.250000|37.850000|       52.000000|1627.000000|   280.000000| 565.000000| 259.000000|    3.846200|   342200.000000|\n",
            "|-122.250000|37.850000|       52.000000| 919.000000|   213.000000| 413.000000| 193.000000|    4.036800|   269700.000000|\n",
            "|-122.250000|37.840000|       52.000000|2535.000000|   489.000000|1094.000000| 514.000000|    3.659100|   299200.000000|\n",
            "|-122.250000|37.840000|       52.000000|3104.000000|   687.000000|1157.000000| 647.000000|    3.120000|   241400.000000|\n",
            "|-122.260000|37.840000|       42.000000|2555.000000|   665.000000|1206.000000| 595.000000|    2.080400|   226700.000000|\n",
            "|-122.250000|37.840000|       52.000000|3549.000000|   707.000000|1551.000000| 714.000000|    3.691200|   261100.000000|\n",
            "|-122.260000|37.850000|       52.000000|2202.000000|   434.000000| 910.000000| 402.000000|    3.203100|   281500.000000|\n",
            "|-122.260000|37.850000|       52.000000|3503.000000|   752.000000|1504.000000| 734.000000|    3.270500|   241800.000000|\n",
            "|-122.260000|37.850000|       52.000000|2491.000000|   474.000000|1098.000000| 468.000000|    3.075000|   213500.000000|\n",
            "|-122.260000|37.840000|       52.000000| 696.000000|   191.000000| 345.000000| 174.000000|    2.673600|   191300.000000|\n",
            "|-122.260000|37.850000|       52.000000|2643.000000|   626.000000|1212.000000| 620.000000|    1.916700|   159200.000000|\n",
            "|-122.260000|37.850000|       50.000000|1120.000000|   283.000000| 697.000000| 264.000000|    2.125000|   140000.000000|\n",
            "|-122.270000|37.850000|       52.000000|1966.000000|   347.000000| 793.000000| 331.000000|    2.775000|   152500.000000|\n",
            "|-122.270000|37.850000|       52.000000|1228.000000|   293.000000| 648.000000| 303.000000|    2.120200|   155500.000000|\n",
            "|-122.260000|37.840000|       50.000000|2239.000000|   455.000000| 990.000000| 419.000000|    1.991100|   158700.000000|\n",
            "|-122.270000|37.840000|       52.000000|1503.000000|   298.000000| 690.000000| 275.000000|    2.603300|   162900.000000|\n",
            "+-----------+---------+----------------+-----------+-------------+-----------+-----------+------------+----------------+\n",
            "only showing top 20 rows\n",
            "\n"
          ],
          "name": "stdout"
        },
        {
          "output_type": "execute_result",
          "data": {
            "text/plain": [
              "(None,\n",
              " ['longitude',\n",
              "  'latitude',\n",
              "  'housingMedianAge',\n",
              "  'totalRooms',\n",
              "  'totalBedRooms',\n",
              "  'population',\n",
              "  'households',\n",
              "  'medianIncome',\n",
              "  'medianHouseValue'])"
            ]
          },
          "metadata": {
            "tags": []
          },
          "execution_count": 10
        }
      ]
    },
    {
      "cell_type": "markdown",
      "metadata": {
        "id": "R_BxhGUy6Tb5"
      },
      "source": [
        "## Checking the data Types of the data points"
      ]
    },
    {
      "cell_type": "code",
      "metadata": {
        "id": "pWXEHrmy6YuV",
        "outputId": "b5f5cf6f-d031-4e88-ee88-9374be94168d",
        "colab": {
          "base_uri": "https://localhost:8080/",
          "height": 204
        }
      },
      "source": [
        "df.printSchema()"
      ],
      "execution_count": null,
      "outputs": [
        {
          "output_type": "stream",
          "text": [
            "root\n",
            " |-- longitude: string (nullable = true)\n",
            " |-- latitude: string (nullable = true)\n",
            " |-- housingMedianAge: string (nullable = true)\n",
            " |-- totalRooms: string (nullable = true)\n",
            " |-- totalBedRooms: string (nullable = true)\n",
            " |-- population: string (nullable = true)\n",
            " |-- households: string (nullable = true)\n",
            " |-- medianIncome: string (nullable = true)\n",
            " |-- medianHouseValue: string (nullable = true)\n",
            "\n"
          ],
          "name": "stdout"
        }
      ]
    },
    {
      "cell_type": "markdown",
      "metadata": {
        "id": "ebed0Wmu6al1"
      },
      "source": [
        "## Conversion into accurate data Variables\n",
        "We need numerical values and not strings for the analysis for which the conversions have to take place."
      ]
    },
    {
      "cell_type": "code",
      "metadata": {
        "id": "ouOHnawQ6pqx",
        "outputId": "390802d7-77ea-425e-f848-95f60aec60ab",
        "colab": {
          "base_uri": "https://localhost:8080/",
          "height": 204
        }
      },
      "source": [
        "from pyspark.sql.types import *\n",
        "\n",
        "# Write a custom function to convert the data type of DataFrame columns\n",
        "def convertColumn(df, names, newType):\n",
        "  for name in names: \n",
        "     df = df.withColumn(name, df[name].cast(newType))\n",
        "  return df \n",
        "\n",
        "columns = ['households', 'housingMedianAge', 'latitude', 'longitude', 'medianHouseValue', 'medianIncome', 'population', 'totalBedRooms', 'totalRooms']\n",
        "\n",
        "# Conver the `df` columns to `FloatType()`\n",
        "df = convertColumn(df, columns, FloatType())\n",
        "\n",
        "df.printSchema()"
      ],
      "execution_count": null,
      "outputs": [
        {
          "output_type": "stream",
          "text": [
            "root\n",
            " |-- longitude: float (nullable = true)\n",
            " |-- latitude: float (nullable = true)\n",
            " |-- housingMedianAge: float (nullable = true)\n",
            " |-- totalRooms: float (nullable = true)\n",
            " |-- totalBedRooms: float (nullable = true)\n",
            " |-- population: float (nullable = true)\n",
            " |-- households: float (nullable = true)\n",
            " |-- medianIncome: float (nullable = true)\n",
            " |-- medianHouseValue: float (nullable = true)\n",
            "\n"
          ],
          "name": "stdout"
        }
      ]
    },
    {
      "cell_type": "markdown",
      "metadata": {
        "id": "FafJ1W077P_2"
      },
      "source": [
        "## Summarizing the Data"
      ]
    },
    {
      "cell_type": "code",
      "metadata": {
        "id": "Krd8zazP7Tpt",
        "outputId": "6fbd5b8f-7bbe-4332-be97-a4fbe643e28a",
        "colab": {
          "base_uri": "https://localhost:8080/",
          "height": 207
        }
      },
      "source": [
        "df.describe().show()"
      ],
      "execution_count": null,
      "outputs": [
        {
          "output_type": "stream",
          "text": [
            "+-------+-------------------+-----------------+------------------+------------------+-----------------+------------------+-----------------+------------------+------------------+\n",
            "|summary|          longitude|         latitude|  housingMedianAge|        totalRooms|    totalBedRooms|        population|       households|      medianIncome|  medianHouseValue|\n",
            "+-------+-------------------+-----------------+------------------+------------------+-----------------+------------------+-----------------+------------------+------------------+\n",
            "|  count|              20640|            20640|             20640|             20640|            20640|             20640|            20640|             20640|             20640|\n",
            "|   mean|-119.56970444871473|35.63186143109965|28.639486434108527|2635.7630813953488|537.8980135658915|1425.4767441860465|499.5396802325581|3.8706710030346416|206855.81690891474|\n",
            "| stddev|  2.003531742932898|2.135952380602968| 12.58555761211163|2181.6152515827944| 421.247905943133|  1132.46212176534|382.3297528316098|1.8998217183639696|115395.61587441359|\n",
            "|    min|            -124.35|            32.54|               1.0|               2.0|              1.0|               3.0|              1.0|            0.4999|           14999.0|\n",
            "|    max|            -114.31|            41.95|              52.0|           39320.0|           6445.0|           35682.0|           6082.0|           15.0001|          500001.0|\n",
            "+-------+-------------------+-----------------+------------------+------------------+-----------------+------------------+-----------------+------------------+------------------+\n",
            "\n"
          ],
          "name": "stdout"
        }
      ]
    },
    {
      "cell_type": "markdown",
      "metadata": {
        "id": "wnx85iWXESIl"
      },
      "source": [
        "# Data Pre-Processing\n",
        "## Scaling The Dependent variable to independent variable ranges"
      ]
    },
    {
      "cell_type": "code",
      "metadata": {
        "id": "psfQYp6PFKM9",
        "outputId": "e4cb2711-dfe1-4d76-c7bb-0868bc94a63c",
        "colab": {
          "base_uri": "https://localhost:8080/",
          "height": 71
        }
      },
      "source": [
        "from pyspark.sql.functions import col\n",
        "df = df.withColumn(\"medianHouseValue\", col(\"medianHouseValue\")/100000)\n",
        "df.take(2)"
      ],
      "execution_count": null,
      "outputs": [
        {
          "output_type": "execute_result",
          "data": {
            "text/plain": [
              "[Row(longitude=-122.2300033569336, latitude=37.880001068115234, housingMedianAge=41.0, totalRooms=880.0, totalBedRooms=129.0, population=322.0, households=126.0, medianIncome=8.325200080871582, medianHouseValue=4.526),\n",
              " Row(longitude=-122.22000122070312, latitude=37.86000061035156, housingMedianAge=21.0, totalRooms=7099.0, totalBedRooms=1106.0, population=2401.0, households=1138.0, medianIncome=8.301400184631348, medianHouseValue=3.585)]"
            ]
          },
          "metadata": {
            "tags": []
          },
          "execution_count": 19
        }
      ]
    },
    {
      "cell_type": "markdown",
      "metadata": {
        "id": "3F99esaoHK4e"
      },
      "source": [
        "## Feature Engineering\n",
        "Additional Features can be created like the following:\\\n",
        "**Rooms per household** which refers to the number of rooms in households per block group \\\n",
        "**Population per household**, which basically gives you an indication of how many people live in households per block group \\\n",
        "**Bedrooms per total rooms** which will give you an idea about how many rooms are bedrooms per block group \\"
      ]
    },
    {
      "cell_type": "code",
      "metadata": {
        "id": "xlUZcQYpH2CS",
        "outputId": "b0e1c5e3-b389-4e01-89a4-a27435270735",
        "colab": {
          "base_uri": "https://localhost:8080/",
          "height": 54
        }
      },
      "source": [
        "roomsPerHousehold = df.select(col(\"totalRooms\")/col(\"households\"))\n",
        "\n",
        "populationPerHousehold = df.select(col(\"population\")/col(\"households\"))\n",
        "\n",
        "bedroomsPerRoom = df.select(col(\"totalBedRooms\")/col(\"totalRooms\"))\n",
        "\n",
        "df = df.withColumn(\"roomsPerHousehold\", col(\"totalRooms\")/col(\"households\")) \\\n",
        "   .withColumn(\"populationPerHousehold\", col(\"population\")/col(\"households\")) \\\n",
        "   .withColumn(\"bedroomsPerRoom\", col(\"totalBedRooms\")/col(\"totalRooms\"))\n",
        "   \n",
        "df.first()"
      ],
      "execution_count": null,
      "outputs": [
        {
          "output_type": "execute_result",
          "data": {
            "text/plain": [
              "Row(longitude=-122.2300033569336, latitude=37.880001068115234, housingMedianAge=41.0, totalRooms=880.0, totalBedRooms=129.0, population=322.0, households=126.0, medianIncome=8.325200080871582, medianHouseValue=4.526, roomsPerHousehold=6.984126984126984, populationPerHousehold=2.5555555555555554, bedroomsPerRoom=0.14659090909090908)"
            ]
          },
          "metadata": {
            "tags": []
          },
          "execution_count": 20
        }
      ]
    },
    {
      "cell_type": "markdown",
      "metadata": {
        "id": "swPwZRulJ_z1"
      },
      "source": [
        "## Standardising All Independent Variables\n",
        "\n",
        "Leaving out the Dependent Variable Median-House-Value \n",
        "\n",
        "Leaving out variables such as longitude, latitude, housingMedianAge and totalRooms."
      ]
    },
    {
      "cell_type": "code",
      "metadata": {
        "id": "wsmb_UeGKUHA"
      },
      "source": [
        "from pyspark.ml.linalg import DenseVector\n",
        "\n",
        "df = df.select(\"medianHouseValue\", \n",
        "              \"totalBedRooms\", \n",
        "              \"population\", \n",
        "              \"households\", \n",
        "              \"medianIncome\", \n",
        "              \"roomsPerHousehold\", \n",
        "              \"populationPerHousehold\", \n",
        "              \"bedroomsPerRoom\")\n",
        "\n",
        "input_data = df.rdd.map(lambda x: (x[0], DenseVector(x[1:])))\n",
        "\n",
        "df = spark.createDataFrame(input_data, [\"label\", \"features\"])"
      ],
      "execution_count": null,
      "outputs": []
    },
    {
      "cell_type": "code",
      "metadata": {
        "id": "XMC1wOqpORBI",
        "outputId": "b44728a3-a52d-4212-9f64-0fae478fee7a",
        "colab": {
          "base_uri": "https://localhost:8080/",
          "height": 71
        }
      },
      "source": [
        "from pyspark.ml.feature import StandardScaler\n",
        "\n",
        "# Initialize the `standardScaler`\n",
        "standardScaler = StandardScaler(inputCol=\"features\", outputCol=\"features_scaled\")\n",
        "\n",
        "# Fit the DataFrame to the scaler\n",
        "scaler = standardScaler.fit(df)\n",
        "\n",
        "# Transform the data in `df` with the scaler\n",
        "scaled_df = scaler.transform(df)\n",
        "\n",
        "# Inspect the result\n",
        "scaled_df.take(2)"
      ],
      "execution_count": null,
      "outputs": [
        {
          "output_type": "execute_result",
          "data": {
            "text/plain": [
              "[Row(label=4.526, features=DenseVector([129.0, 322.0, 126.0, 8.3252, 6.9841, 2.5556, 0.1466]), features_scaled=DenseVector([0.3062, 0.2843, 0.3296, 4.3821, 2.8228, 0.2461, 2.5264])),\n",
              " Row(label=3.585, features=DenseVector([1106.0, 2401.0, 1138.0, 8.3014, 6.2381, 2.1098, 0.1558]), features_scaled=DenseVector([2.6255, 2.1202, 2.9765, 4.3696, 2.5213, 0.2031, 2.6851]))]"
            ]
          },
          "metadata": {
            "tags": []
          },
          "execution_count": 22
        }
      ]
    },
    {
      "cell_type": "markdown",
      "metadata": {
        "id": "yKiP7wSFPFXJ"
      },
      "source": [
        "## Splitting into Training and Testing Sets"
      ]
    },
    {
      "cell_type": "code",
      "metadata": {
        "id": "3wVFTzD_PMvJ"
      },
      "source": [
        "train_data, test_data = scaled_df.randomSplit([.8,.2],seed=1234)"
      ],
      "execution_count": null,
      "outputs": []
    },
    {
      "cell_type": "markdown",
      "metadata": {
        "id": "olSxzg-pPSEK"
      },
      "source": [
        "## Fitting The Linear Regression Model"
      ]
    },
    {
      "cell_type": "code",
      "metadata": {
        "id": "yBRC2rwePw39"
      },
      "source": [
        "from pyspark.ml.regression import LinearRegression\n",
        "\n",
        "lr = LinearRegression(labelCol=\"label\", maxIter=1, regParam=0.3, elasticNetParam=0.8) ## elasticNetParam --> alpha for learning rate, regParam --> lambda for regularization parameter\n",
        "\n",
        "# Fit the data to the model\n",
        "linearModel = lr.fit(train_data)"
      ],
      "execution_count": null,
      "outputs": []
    },
    {
      "cell_type": "markdown",
      "metadata": {
        "id": "32S16dyWQWl4"
      },
      "source": [
        "## Making Predictions"
      ]
    },
    {
      "cell_type": "code",
      "metadata": {
        "id": "kwjdXSh8QrcY",
        "outputId": "ab6cdb17-4341-41d4-f9a6-b5528ec02f9c",
        "colab": {
          "base_uri": "https://localhost:8080/",
          "height": 102
        }
      },
      "source": [
        "predicted = linearModel.transform(test_data)\n",
        "\n",
        "predictions = predicted.select(\"prediction\").rdd.map(lambda x: x[0])\n",
        "labels = predicted.select(\"label\").rdd.map(lambda x: x[0])\n",
        "\n",
        "predictionAndLabel = predictions.zip(labels).collect()\n",
        "\n",
        "predictionAndLabel[:5]"
      ],
      "execution_count": null,
      "outputs": [
        {
          "output_type": "execute_result",
          "data": {
            "text/plain": [
              "[(1.967365690052053, 0.14999),\n",
              " (1.9891240427526629, 0.175),\n",
              " (1.974234393625167, 0.332),\n",
              " (2.0025511782871126, 0.346),\n",
              " (2.0058348572001417, 0.35)]"
            ]
          },
          "metadata": {
            "tags": []
          },
          "execution_count": 26
        }
      ]
    },
    {
      "cell_type": "markdown",
      "metadata": {
        "id": "uudF675mTZ7a"
      },
      "source": [
        "## Evaluating the Model"
      ]
    },
    {
      "cell_type": "code",
      "metadata": {
        "id": "iuuiJ0sSTxV2",
        "outputId": "f7e61169-ec24-4621-f694-bafd9745349f",
        "colab": {
          "base_uri": "https://localhost:8080/",
          "height": 34
        }
      },
      "source": [
        "# Get the RMSE\n",
        "linearModel.summary.meanSquaredError"
      ],
      "execution_count": null,
      "outputs": [
        {
          "output_type": "execute_result",
          "data": {
            "text/plain": [
              "1.2118026357830542"
            ]
          },
          "metadata": {
            "tags": []
          },
          "execution_count": 27
        }
      ]
    },
    {
      "cell_type": "code",
      "metadata": {
        "id": "4Ws11PhyVZlb",
        "outputId": "5bbe883d-77c5-4575-d42c-4ecaf0955196",
        "colab": {
          "base_uri": "https://localhost:8080/",
          "height": 34
        }
      },
      "source": [
        "# Get the R2\n",
        "linearModel.summary.r2"
      ],
      "execution_count": null,
      "outputs": [
        {
          "output_type": "execute_result",
          "data": {
            "text/plain": [
              "0.09004899728545235"
            ]
          },
          "metadata": {
            "tags": []
          },
          "execution_count": 28
        }
      ]
    },
    {
      "cell_type": "markdown",
      "metadata": {
        "id": "mNTbHCJrY7wH"
      },
      "source": [
        "# Calculating Time With Pyspark"
      ]
    },
    {
      "cell_type": "code",
      "metadata": {
        "id": "AH1j5jJ7Y_qE",
        "outputId": "480c8953-81a1-4bc0-b780-667a65ddcb26",
        "colab": {
          "base_uri": "https://localhost:8080/",
          "height": 51
        }
      },
      "source": [
        "import time\n",
        "from pyspark.ml.regression import LinearRegression\n",
        "\n",
        "\n",
        "lr = LinearRegression(labelCol=\"label\", maxIter=10, regParam=0.3, elasticNetParam=0.8) ## elasticNetParam --> alpha for learning rate, regParam --> lambda for regularization parameter\n",
        "\n",
        "start = time.time()\n",
        "# Fit the data to the model\n",
        "linearModel = lr.fit(train_data)\n",
        "end = time.time()\n",
        "\n",
        "predicted = linearModel.transform(test_data)\n",
        "\n",
        "predictions = predicted.select(\"prediction\").rdd.map(lambda x: x[0])\n",
        "labels = predicted.select(\"label\").rdd.map(lambda x: x[0])\n",
        "\n",
        "predictionAndLabel = predictions.zip(labels).collect()\n",
        "\n",
        "predictionAndLabel[:5]\n",
        "\n",
        "# Get the RMSE\n",
        "m1 = linearModel.summary.meanSquaredError\n",
        "\n",
        "# Get the R2\n",
        "r1 = linearModel.summary.r2\n",
        "\n",
        "print(\"mean_squared_error =\", m1, \"R_squared =\", r1)\n",
        "\n",
        "sp = end - start\n",
        "\n",
        "# total time taken\n",
        "print(f\"Runtime of the program is {end - start} seconds\")\n"
      ],
      "execution_count": null,
      "outputs": [
        {
          "output_type": "stream",
          "text": [
            "mean_squared_error = 0.7734029416457108 R_squared = 0.4192463677898063\n",
            "Runtime of the program is 4.694941997528076 seconds\n"
          ],
          "name": "stdout"
        }
      ]
    },
    {
      "cell_type": "markdown",
      "metadata": {
        "id": "41yGqFpoZusT"
      },
      "source": [
        "# Calculating Time Taken Using Sk-Learn\n",
        "## Pre-processing"
      ]
    },
    {
      "cell_type": "code",
      "metadata": {
        "id": "s5WzaD7AZx_x",
        "outputId": "f877c699-10f0-45c8-96d4-657ba3093d6c",
        "colab": {
          "base_uri": "https://localhost:8080/",
          "height": 255
        }
      },
      "source": [
        "from sklearn import *\n",
        "import numpy as np\n",
        "import pandas as pd\n",
        "\n",
        "header = pd.read_csv('cal_housing.domain', sep = ':', names = ['a', 'b'])\n",
        "\n",
        "dataset = pd.read_csv('cal_housing.data', names = list(header['a']))\n",
        "\n",
        "\n",
        "dataset['roomsPerHousehold'] = dataset['totalRooms']/dataset['households']\n",
        "dataset['populationPerHousehold'] = dataset['population']/dataset['households']\n",
        "dataset['bedroomsPerRoom'] = dataset['totalBedrooms']/dataset['totalRooms']\n",
        "dataset['medianHouseValue'] /= 100000\n",
        "\n",
        "\n",
        "X = dataset.drop(['medianHouseValue'], axis = 1).values\n",
        "y = dataset['medianHouseValue'].values\n",
        "X, y\n"
      ],
      "execution_count": null,
      "outputs": [
        {
          "output_type": "execute_result",
          "data": {
            "text/plain": [
              "(array([[-122.23      ,   37.88      ,   41.        , ...,    6.98412698,\n",
              "            2.55555556,    0.14659091],\n",
              "        [-122.22      ,   37.86      ,   21.        , ...,    6.23813708,\n",
              "            2.10984183,    0.15579659],\n",
              "        [-122.24      ,   37.85      ,   52.        , ...,    8.28813559,\n",
              "            2.80225989,    0.12951602],\n",
              "        ...,\n",
              "        [-121.22      ,   39.43      ,   17.        , ...,    5.20554273,\n",
              "            2.3256351 ,    0.21517303],\n",
              "        [-121.32      ,   39.43      ,   18.        , ...,    5.32951289,\n",
              "            2.12320917,    0.21989247],\n",
              "        [-121.24      ,   39.37      ,   16.        , ...,    5.25471698,\n",
              "            2.61698113,    0.22118492]]),\n",
              " array([4.526, 3.585, 3.521, ..., 0.923, 0.847, 0.894]))"
            ]
          },
          "metadata": {
            "tags": []
          },
          "execution_count": 31
        }
      ]
    },
    {
      "cell_type": "code",
      "metadata": {
        "id": "lVHV521feyEx",
        "outputId": "6fa79bfc-1212-4965-ce25-77deafae4b09",
        "colab": {
          "base_uri": "https://localhost:8080/",
          "height": 51
        }
      },
      "source": [
        "from sklearn.model_selection import train_test_split\n",
        "from sklearn.linear_model import LinearRegression\n",
        "from sklearn.linear_model import ElasticNet\n",
        "from sklearn.metrics import r2_score, mean_squared_error\n",
        "\n",
        "\n",
        "X_train, X_test, y_train, y_test = train_test_split(X, y, test_size = 0.2, random_state = 0)\n",
        "\n",
        "start2 = time.time()\n",
        "regressor = ElasticNet(alpha=0.8, l1_ratio= 0.3, fit_intercept=True, normalize=False, precompute=False, max_iter=1000, copy_X=True)\n",
        "#regressor = LinearRegression(fit_intercept=True, normalize=True, copy_X=True, n_jobs=100)\n",
        "regressor.fit(X_train, y_train)\n",
        "\n",
        "y_pred = regressor.predict(X_test)\n",
        "m2 = mean_squared_error(y_test, y_pred)\n",
        "\n",
        "r22 = r2_score(y_test, y_pred)\n",
        "\n",
        "print(m2, r22)\n",
        "end2 = time.time()\n",
        "\n",
        "sp2 = end2 - start2\n",
        "\n",
        "print(f\"Runtime of the program is {end2 - start2} seconds\")"
      ],
      "execution_count": null,
      "outputs": [
        {
          "output_type": "stream",
          "text": [
            "0.6474353256685227 0.5034833455365693\n",
            "Runtime of the program is 0.07802224159240723 seconds\n"
          ],
          "name": "stdout"
        }
      ]
    },
    {
      "cell_type": "code",
      "metadata": {
        "id": "KManJsRWwY9v",
        "outputId": "20209b4f-0dfe-4b94-e979-463435395be3",
        "colab": {
          "base_uri": "https://localhost:8080/",
          "height": 111
        }
      },
      "source": [
        "spark.stop()\n",
        "s = dict()\n",
        "s[\"Framework\"] = [\"PySpark\",\"Sklearn\"]\n",
        "s[\"Fit_time\"] = [sp, sp2]\n",
        "s['MSE'] = [m1, m2]\n",
        "s['Rsquared'] = [r1, r22]\n",
        "\n",
        "pd.DataFrame(s)"
      ],
      "execution_count": null,
      "outputs": [
        {
          "output_type": "execute_result",
          "data": {
            "text/html": [
              "<div>\n",
              "<style scoped>\n",
              "    .dataframe tbody tr th:only-of-type {\n",
              "        vertical-align: middle;\n",
              "    }\n",
              "\n",
              "    .dataframe tbody tr th {\n",
              "        vertical-align: top;\n",
              "    }\n",
              "\n",
              "    .dataframe thead th {\n",
              "        text-align: right;\n",
              "    }\n",
              "</style>\n",
              "<table border=\"1\" class=\"dataframe\">\n",
              "  <thead>\n",
              "    <tr style=\"text-align: right;\">\n",
              "      <th></th>\n",
              "      <th>Framework</th>\n",
              "      <th>Fit_time</th>\n",
              "      <th>MSE</th>\n",
              "      <th>Rsquared</th>\n",
              "    </tr>\n",
              "  </thead>\n",
              "  <tbody>\n",
              "    <tr>\n",
              "      <th>0</th>\n",
              "      <td>PySpark</td>\n",
              "      <td>4.694942</td>\n",
              "      <td>0.773403</td>\n",
              "      <td>0.419246</td>\n",
              "    </tr>\n",
              "    <tr>\n",
              "      <th>1</th>\n",
              "      <td>Sklearn</td>\n",
              "      <td>0.078022</td>\n",
              "      <td>0.647435</td>\n",
              "      <td>0.503483</td>\n",
              "    </tr>\n",
              "  </tbody>\n",
              "</table>\n",
              "</div>"
            ],
            "text/plain": [
              "  Framework  Fit_time       MSE  Rsquared\n",
              "0   PySpark  4.694942  0.773403  0.419246\n",
              "1   Sklearn  0.078022  0.647435  0.503483"
            ]
          },
          "metadata": {
            "tags": []
          },
          "execution_count": 33
        }
      ]
    }
  ]
}